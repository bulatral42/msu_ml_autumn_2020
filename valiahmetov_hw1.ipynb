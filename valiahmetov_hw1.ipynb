{
  "nbformat": 4,
  "nbformat_minor": 0,
  "metadata": {
    "kernelspec": {
      "display_name": "Python 3",
      "language": "python",
      "name": "python3"
    },
    "language_info": {
      "codemirror_mode": {
        "name": "ipython",
        "version": 3
      },
      "file_extension": ".py",
      "mimetype": "text/x-python",
      "name": "python",
      "nbconvert_exporter": "python",
      "pygments_lexer": "ipython3",
      "version": "3.8.5"
    },
    "colab": {
      "name": "valiahmetov_hw1.ipynb",
      "provenance": [],
      "collapsed_sections": []
    }
  },
  "cells": [
    {
      "cell_type": "markdown",
      "metadata": {
        "id": "Ja6h8Dha1IeV"
      },
      "source": [
        "**Общая информация**\n",
        "\n",
        "**Срок сдачи:** 21 октября 2020, 08:30 \n",
        "\n",
        "**Штраф за опоздание:** по 1 баллу за 24 часа задержки. Через 5 дней домашнее задание сгорает.\n",
        "\n",
        "При отправлении ДЗ указывайте фамилию в названии файла\n",
        "Присылать ДЗ необходимо в виде ссылки на свой github репозиторий на почту ml1.sphere@mail.ru с указанием темы в следующем формате:\n",
        "\n",
        "[ML0220, Задание 1] Фамилия Имя.\n",
        "\n",
        "Используйте данный Ipython Notebook при оформлении домашнего задания."
      ]
    },
    {
      "cell_type": "markdown",
      "metadata": {
        "id": "K6OJt9TB1Iea"
      },
      "source": [
        "\n",
        "**Штрафные баллы:**\n",
        "\n",
        "1. Отсутствие фамилии в имени скрипта (скрипт должен называться по аналогии со stroykova_hw1.ipynb) -0.5 баллов\n",
        "2. Все строчки должны быть выполнены. Нужно, чтобы output команды можно было увидеть уже в git'е. В противном случае -0.5 баллов\n"
      ]
    },
    {
      "cell_type": "code",
      "metadata": {
        "id": "xbLK8vcb1Ieg"
      },
      "source": [
        "import numpy as np\n",
        "import scipy as sp\n",
        "import matplotlib.pyplot as plt\n",
        "\n",
        "import seaborn as sns\n",
        "from sklearn import datasets, preprocessing\n",
        "from sklearn.base import BaseEstimator\n",
        "from sklearn.datasets import fetch_openml, fetch_20newsgroups\n",
        "from sklearn.feature_extraction.text import CountVectorizer, TfidfTransformer\n",
        "\n",
        "from sklearn.model_selection import train_test_split, KFold, cross_val_score\n",
        "from sklearn.neighbors import KNeighborsClassifier, KDTree\n",
        "from sklearn.metrics import accuracy_score, make_scorer, pairwise_distances\n",
        "from sklearn.preprocessing import MaxAbsScaler"
      ],
      "execution_count": 1,
      "outputs": []
    },
    {
      "cell_type": "markdown",
      "metadata": {
        "id": "LKw2ZaqW1Ie9"
      },
      "source": [
        "##### Задание 1 (1 балл)\n",
        "Реализовать KNN в классе MyKNeighborsClassifier (обязательное условие: точность не ниже sklearn реализации)\n",
        "Разберитесь самостоятельно, какая мера расстояния используется в KNeighborsClassifier дефолтно и реализуйте свой алгоритм именно с этой мерой. \n",
        "Для подсчета расстояний можно использовать функции [отсюда](https://docs.scipy.org/doc/scipy/reference/spatial.distance.html)"
      ]
    },
    {
      "cell_type": "code",
      "metadata": {
        "id": "L8xvbEvg1IfC"
      },
      "source": [
        "class MyKNeighborsClassifier(BaseEstimator):\n",
        "    \n",
        "    def __init__(self, n_neighbors, algorithm='brute', metric='euclidean'):\n",
        "        self.n_neighbors = n_neighbors\n",
        "        self.algorithm = algorithm\n",
        "        self.metric = metric\n",
        "        self.dim = None\n",
        "        self.n_fit = None\n",
        "        self.scaler = MaxAbsScaler()\n",
        "    \n",
        "    def fit(self, X, y):\n",
        "        self.dim, self.n_fit = X.shape\n",
        "        self.y_fit = np.asarray(y)\n",
        "        self.X_fit = self.scaler.fit_transform(X, y)\n",
        "        # self.X_fit = X\n",
        "    \n",
        "    def predict_brute(self, X):\n",
        "        X = self.scaler.transform(X)\n",
        "        dist_mat = pairwise_distances(X, self.X_fit, self.metric) # sp.spatial.distance.cdist(X, self.X_fit, self.metric)\n",
        "        fit_neighbors = self.y_fit[np.argsort(dist_mat, axis=1)[:, :self.n_neighbors]]\n",
        "        y_pred = sp.stats.mode(fit_neighbors, axis=1).mode.reshape(1, -1)\n",
        "        return y_pred.reshape(-1,)\n",
        "    \n",
        "    def predict_kd_tree(self, X):\n",
        "        X = self.scaler.transform(X)\n",
        "        tree = KDTree(self.X_fit, leaf_size=10, metric=self.metric)\n",
        "        idx = tree.query(X, k=self.n_neighbors, return_distance=False)\n",
        "        fit_neighbors = self.y_fit[idx]\n",
        "        y_pred = sp.stats.mode(fit_neighbors, axis=1).mode.reshape(1, -1)\n",
        "        return y_pred.reshape(-1, )\n",
        "    \n",
        "    \n",
        "    def predict(self, X):\n",
        "        if self.algorithm == 'brute':\n",
        "            return self.predict_brute(X)\n",
        "        elif self.algorithm == 'kd_tree':\n",
        "            return self.predict_kd_tree(X)\n",
        "        else:\n",
        "            return None\n",
        "    \n",
        "    "
      ],
      "execution_count": 2,
      "outputs": []
    },
    {
      "cell_type": "markdown",
      "metadata": {
        "id": "-Q3xpM8Y1IfT"
      },
      "source": [
        "**IRIS**\n",
        "\n",
        "В библиотеке scikit-learn есть несколько датасетов из коробки. Один из них [Ирисы Фишера](https://ru.wikipedia.org/wiki/%D0%98%D1%80%D0%B8%D1%81%D1%8B_%D0%A4%D0%B8%D1%88%D0%B5%D1%80%D0%B0)"
      ]
    },
    {
      "cell_type": "code",
      "metadata": {
        "id": "s5yWq92l1IfX"
      },
      "source": [
        "iris = datasets.load_iris()"
      ],
      "execution_count": 3,
      "outputs": []
    },
    {
      "cell_type": "code",
      "metadata": {
        "id": "knnhZ3F51Ifl"
      },
      "source": [
        "X_train, X_test, y_train, y_test = train_test_split(iris.data, iris.target, test_size=0.1, stratify=iris.target)"
      ],
      "execution_count": 4,
      "outputs": []
    },
    {
      "cell_type": "code",
      "metadata": {
        "id": "ZE0OcUek1If2"
      },
      "source": [
        "clf = KNeighborsClassifier(n_neighbors=2, algorithm='brute')\n",
        "my_clf = MyKNeighborsClassifier(n_neighbors=2, algorithm='brute')"
      ],
      "execution_count": 5,
      "outputs": []
    },
    {
      "cell_type": "code",
      "metadata": {
        "id": "qBbZ8Iua1IgI"
      },
      "source": [
        "clf.fit(X_train, y_train)\n",
        "my_clf.fit(X_train, y_train)"
      ],
      "execution_count": 6,
      "outputs": []
    },
    {
      "cell_type": "code",
      "metadata": {
        "id": "EmP9KsJx1Igb",
        "outputId": "de17265a-02c8-4d31-fbb2-bca2775f7fb7",
        "colab": {
          "base_uri": "https://localhost:8080/",
          "height": 52
        }
      },
      "source": [
        "sklearn_pred = clf.predict(X_test)\n",
        "my_clf_pred = my_clf.predict(X_test)\n",
        "my_score = accuracy_score(y_test, my_clf_pred)\n",
        "sklearn_score = accuracy_score(y_test, sklearn_pred)\n",
        "assert (sklearn_score - my_score)  < 0.005, \"Score must be simillar\"\n",
        "print(\"My \", accuracy_score(y_test, my_clf_pred))\n",
        "print(\"SKL \", accuracy_score(y_test, sklearn_pred))\n",
        "\n",
        "# данный код генерирует ошибку, если мой скор лучше библиотеки на 0.5+ (бывает 0.6666 иногда)\n",
        "# sklearn_pred = clf.predict(X_test)\n",
        "# my_clf_pred = my_clf.predict(X_test)\n",
        "# assert abs( accuracy_score(y_test, my_clf_pred) -  accuracy_score(y_test, sklearn_pred ) )<0.005, \"Score must be simillar\""
      ],
      "execution_count": 7,
      "outputs": [
        {
          "output_type": "stream",
          "text": [
            "My  1.0\n",
            "SKL  1.0\n"
          ],
          "name": "stdout"
        }
      ]
    },
    {
      "cell_type": "markdown",
      "metadata": {
        "id": "2Olb__i01Igp"
      },
      "source": [
        "**Задание 2 (0.5 балла)**\n",
        "\n",
        "Давайте попробуем добиться скорости работы на fit, predict сравнимой со sklearn для iris. Допускается замедление не более чем в 2 раза. \n",
        "Для этого используем numpy. "
      ]
    },
    {
      "cell_type": "code",
      "metadata": {
        "id": "AhzmL15n1Igs",
        "outputId": "87045e5f-ca38-4ec6-a75e-d4956bfd5840",
        "colab": {
          "base_uri": "https://localhost:8080/",
          "height": 104
        }
      },
      "source": [
        "%time clf.fit(X_train, y_train)"
      ],
      "execution_count": 10,
      "outputs": [
        {
          "output_type": "stream",
          "text": [
            "CPU times: user 780 µs, sys: 0 ns, total: 780 µs\n",
            "Wall time: 619 µs\n"
          ],
          "name": "stdout"
        },
        {
          "output_type": "execute_result",
          "data": {
            "text/plain": [
              "KNeighborsClassifier(algorithm='brute', leaf_size=30, metric='minkowski',\n",
              "                     metric_params=None, n_jobs=None, n_neighbors=2, p=2,\n",
              "                     weights='uniform')"
            ]
          },
          "metadata": {
            "tags": []
          },
          "execution_count": 10
        }
      ]
    },
    {
      "cell_type": "code",
      "metadata": {
        "id": "6kc6mGnn1Ig7",
        "outputId": "28547df7-ee38-4076-db4d-b13e56b8facc",
        "colab": {
          "base_uri": "https://localhost:8080/",
          "height": 52
        }
      },
      "source": [
        "%time my_clf.fit(X_train, y_train)"
      ],
      "execution_count": 11,
      "outputs": [
        {
          "output_type": "stream",
          "text": [
            "CPU times: user 867 µs, sys: 0 ns, total: 867 µs\n",
            "Wall time: 720 µs\n"
          ],
          "name": "stdout"
        }
      ]
    },
    {
      "cell_type": "code",
      "metadata": {
        "id": "pLuLbYOi1IhI",
        "outputId": "af9d35bf-4a23-4ad7-8a0c-9cb67271d2ee",
        "colab": {
          "base_uri": "https://localhost:8080/",
          "height": 69
        }
      },
      "source": [
        "%time clf.predict(X_test)"
      ],
      "execution_count": 12,
      "outputs": [
        {
          "output_type": "stream",
          "text": [
            "CPU times: user 3.44 ms, sys: 0 ns, total: 3.44 ms\n",
            "Wall time: 2.82 ms\n"
          ],
          "name": "stdout"
        },
        {
          "output_type": "execute_result",
          "data": {
            "text/plain": [
              "array([0, 0, 2, 2, 0, 1, 0, 1, 2, 1, 2, 0, 2, 1, 1])"
            ]
          },
          "metadata": {
            "tags": []
          },
          "execution_count": 12
        }
      ]
    },
    {
      "cell_type": "code",
      "metadata": {
        "id": "MWZFlji51IhY",
        "outputId": "50b26480-4c5a-41ee-f56a-ff68e2b2105e",
        "colab": {
          "base_uri": "https://localhost:8080/",
          "height": 69
        }
      },
      "source": [
        "%time my_clf.predict(X_test)"
      ],
      "execution_count": 13,
      "outputs": [
        {
          "output_type": "stream",
          "text": [
            "CPU times: user 1.75 ms, sys: 948 µs, total: 2.7 ms\n",
            "Wall time: 2.07 ms\n"
          ],
          "name": "stdout"
        },
        {
          "output_type": "execute_result",
          "data": {
            "text/plain": [
              "array([0, 0, 2, 2, 0, 1, 0, 1, 2, 1, 2, 0, 2, 1, 1])"
            ]
          },
          "metadata": {
            "tags": []
          },
          "execution_count": 13
        }
      ]
    },
    {
      "cell_type": "markdown",
      "metadata": {
        "id": "EcxjfNZG1Ihn"
      },
      "source": [
        "###### Задание 3 (1 балл)\n",
        "Добавьте algorithm='kd_tree' в реализацию KNN (использовать KDTree из sklearn.neighbors). Необходимо добиться скорости работы на fit,  predict сравнимой со sklearn для iris. Допускается замедление не более чем в 2 раза. \n",
        "Для этого используем numpy. Точность не должна уступать значению KNN из sklearn. "
      ]
    },
    {
      "cell_type": "code",
      "metadata": {
        "id": "_BGzH0gq1Ihq"
      },
      "source": [
        "clf = KNeighborsClassifier(n_neighbors=2, algorithm='kd_tree')\n",
        "my_clf = MyKNeighborsClassifier(n_neighbors=2, algorithm='kd_tree')"
      ],
      "execution_count": 14,
      "outputs": []
    },
    {
      "cell_type": "code",
      "metadata": {
        "id": "87pMCzis1Ih5"
      },
      "source": [
        "X_train, X_test, y_train, y_test = train_test_split(iris.data, iris.target, test_size=0.1, stratify=iris.target)"
      ],
      "execution_count": 15,
      "outputs": []
    },
    {
      "cell_type": "code",
      "metadata": {
        "id": "A203ft_t1IiE",
        "outputId": "e7378b0b-c226-49ad-ce67-4b2908cfb1bf",
        "colab": {
          "base_uri": "https://localhost:8080/",
          "height": 104
        }
      },
      "source": [
        "%time clf.fit(X_train, y_train)"
      ],
      "execution_count": 16,
      "outputs": [
        {
          "output_type": "stream",
          "text": [
            "CPU times: user 1.62 ms, sys: 0 ns, total: 1.62 ms\n",
            "Wall time: 2.03 ms\n"
          ],
          "name": "stdout"
        },
        {
          "output_type": "execute_result",
          "data": {
            "text/plain": [
              "KNeighborsClassifier(algorithm='kd_tree', leaf_size=30, metric='minkowski',\n",
              "                     metric_params=None, n_jobs=None, n_neighbors=2, p=2,\n",
              "                     weights='uniform')"
            ]
          },
          "metadata": {
            "tags": []
          },
          "execution_count": 16
        }
      ]
    },
    {
      "cell_type": "code",
      "metadata": {
        "id": "nqLwSxqd1IiR",
        "outputId": "88fc3c42-7ce7-47df-da8f-4f19e80b475c",
        "colab": {
          "base_uri": "https://localhost:8080/",
          "height": 52
        }
      },
      "source": [
        "%time my_clf.fit(X_train, y_train)"
      ],
      "execution_count": 17,
      "outputs": [
        {
          "output_type": "stream",
          "text": [
            "CPU times: user 421 µs, sys: 0 ns, total: 421 µs\n",
            "Wall time: 427 µs\n"
          ],
          "name": "stdout"
        }
      ]
    },
    {
      "cell_type": "code",
      "metadata": {
        "id": "kAZp_W9x1Iie",
        "outputId": "34146529-8d3f-4cb4-946b-516ce4a93c88",
        "colab": {
          "base_uri": "https://localhost:8080/",
          "height": 69
        }
      },
      "source": [
        "%time clf.predict(X_test)"
      ],
      "execution_count": 18,
      "outputs": [
        {
          "output_type": "stream",
          "text": [
            "CPU times: user 4.08 ms, sys: 248 µs, total: 4.33 ms\n",
            "Wall time: 3.56 ms\n"
          ],
          "name": "stdout"
        },
        {
          "output_type": "execute_result",
          "data": {
            "text/plain": [
              "array([2, 2, 0, 1, 1, 1, 1, 1, 0, 0, 2, 1, 0, 0, 2])"
            ]
          },
          "metadata": {
            "tags": []
          },
          "execution_count": 18
        }
      ]
    },
    {
      "cell_type": "code",
      "metadata": {
        "id": "3HLZT1VC1Iiq",
        "outputId": "9363481a-2947-4e12-ae85-7d9698603121",
        "colab": {
          "base_uri": "https://localhost:8080/",
          "height": 69
        }
      },
      "source": [
        "%time my_clf.predict(X_test)"
      ],
      "execution_count": 19,
      "outputs": [
        {
          "output_type": "stream",
          "text": [
            "CPU times: user 2.18 ms, sys: 1 ms, total: 3.18 ms\n",
            "Wall time: 2.52 ms\n"
          ],
          "name": "stdout"
        },
        {
          "output_type": "execute_result",
          "data": {
            "text/plain": [
              "array([2, 2, 0, 1, 1, 1, 1, 1, 0, 0, 2, 1, 0, 0, 2])"
            ]
          },
          "metadata": {
            "tags": []
          },
          "execution_count": 19
        }
      ]
    },
    {
      "cell_type": "code",
      "metadata": {
        "id": "RsIaslt81Ii0",
        "outputId": "650bb045-d6f2-49e5-a438-460f2ef2d274",
        "colab": {
          "base_uri": "https://localhost:8080/",
          "height": 52
        }
      },
      "source": [
        "sklearn_pred = clf.predict(X_test)\n",
        "my_clf_pred = my_clf.predict(X_test)\n",
        "my_score = accuracy_score(y_test, my_clf_pred)\n",
        "sklearn_score = accuracy_score(y_test, sklearn_pred)\n",
        "assert (sklearn_score - my_score)  < 0.005, \"Score must be simillar\"\n",
        "print(\"My \", accuracy_score(y_test, my_clf_pred))\n",
        "print(\"SKL \", accuracy_score(y_test, sklearn_pred))\n",
        "\n",
        "# данный код генерирует ошибку, если мой скор лучше библиотеки на 0.5+ (бывает 0.6666 иногда)\n",
        "# sklearn_pred = clf.predict(X_test)\n",
        "# my_clf_pred = my_clf.predict(X_test)\n",
        "# assert abs( accuracy_score(y_test, my_clf_pred) -  accuracy_score(y_test, sklearn_pred ) )<0.005, \"Score must be simillar\""
      ],
      "execution_count": 20,
      "outputs": [
        {
          "output_type": "stream",
          "text": [
            "My  0.9333333333333333\n",
            "SKL  0.9333333333333333\n"
          ],
          "name": "stdout"
        }
      ]
    },
    {
      "cell_type": "markdown",
      "metadata": {
        "id": "qxgimrsP1Ii-"
      },
      "source": [
        "**Задание 4 (2.5 балла)**\n",
        "\n",
        "Рассмотрим новый датасет 20 newsgroups"
      ]
    },
    {
      "cell_type": "code",
      "metadata": {
        "id": "a6Y7ErqL1IjB",
        "outputId": "dee496ed-2f97-459c-c3a8-a742c76d8e89",
        "colab": {
          "base_uri": "https://localhost:8080/",
          "height": 52
        }
      },
      "source": [
        "newsgroups = fetch_20newsgroups(subset='train',remove=['headers','footers', 'quotes'])"
      ],
      "execution_count": 21,
      "outputs": [
        {
          "output_type": "stream",
          "text": [
            "Downloading 20news dataset. This may take a few minutes.\n",
            "Downloading dataset from https://ndownloader.figshare.com/files/5975967 (14 MB)\n"
          ],
          "name": "stderr"
        }
      ]
    },
    {
      "cell_type": "code",
      "metadata": {
        "id": "IiMPhPI_1IjL",
        "outputId": "8abf6193-6c5e-4d3f-84c6-7f50b03f12c1",
        "colab": {
          "base_uri": "https://localhost:8080/",
          "height": 34
        }
      },
      "source": [
        "data = newsgroups['data']\n",
        "target = newsgroups['target']\n",
        "len(data)"
      ],
      "execution_count": 22,
      "outputs": [
        {
          "output_type": "execute_result",
          "data": {
            "text/plain": [
              "11314"
            ]
          },
          "metadata": {
            "tags": []
          },
          "execution_count": 22
        }
      ]
    },
    {
      "cell_type": "markdown",
      "metadata": {
        "id": "oDC0kKp61IjX"
      },
      "source": [
        "Преобразуйте текстовые данные из data с помощью [CountVectorizer](https://scikit-learn.org/stable/modules/generated/sklearn.feature_extraction.text.CountVectorizer.html). Словарь можно ограничить по частотности."
      ]
    },
    {
      "cell_type": "code",
      "metadata": {
        "id": "U0Aw3fAB1Ija",
        "outputId": "94de60e4-26fd-4a2a-fb51-b7c270147605",
        "colab": {
          "base_uri": "https://localhost:8080/",
          "height": 52
        }
      },
      "source": [
        "vectorizer = CountVectorizer(min_df=0.01)\n",
        "vectorizer_full = CountVectorizer()\n",
        "X = vectorizer.fit_transform(data)\n",
        "Y = vectorizer_full.fit_transform(data)\n",
        "print(\"CUT: \", type(X), X.shape)\n",
        "print(\"FULL: \", type(Y), Y.shape)"
      ],
      "execution_count": 23,
      "outputs": [
        {
          "output_type": "stream",
          "text": [
            "CUT:  <class 'scipy.sparse.csr.csr_matrix'> (11314, 1380)\n",
            "FULL:  <class 'scipy.sparse.csr.csr_matrix'> (11314, 101631)\n"
          ],
          "name": "stdout"
        }
      ]
    },
    {
      "cell_type": "markdown",
      "metadata": {
        "id": "TYIQ-wWY1Ijl"
      },
      "source": [
        "*Так мы получили векторное представление наших текстов. Значит можно приступать к задаче обучения модели*"
      ]
    },
    {
      "cell_type": "markdown",
      "metadata": {
        "id": "Ib6LVPx31Ijn"
      },
      "source": [
        "Реализуйте разбиение выборки для кросс-валидации на 3 фолдах. Разрешено её \n",
        "использовать sklearn.cross_validation\n"
      ]
    },
    {
      "cell_type": "code",
      "metadata": {
        "id": "_1hOXqvI1Ijp"
      },
      "source": [
        "kf = KFold(n_splits=3, shuffle=True, random_state=424242).split(X, target)\n",
        "split_idx = []\n",
        "for train_idx, test_idx in kf:\n",
        "  split_idx.append((train_idx, test_idx))\n"
      ],
      "execution_count": 24,
      "outputs": []
    },
    {
      "cell_type": "code",
      "metadata": {
        "id": "XfOofYBr1Ij0",
        "outputId": "5c994a21-d2da-41ee-fa7d-b1acb4568abc",
        "colab": {
          "base_uri": "https://localhost:8080/",
          "height": 278
        }
      },
      "source": [
        "res0 = []\n",
        "for k_neighbors in range(1, 16):\n",
        "    my_clf = MyKNeighborsClassifier(n_neighbors=k_neighbors, algorithm='brute')\n",
        "    summ = 0\n",
        "    cnt = 0\n",
        "    for train_idx, test_idx in split_idx:\n",
        "        my_clf.fit(X[train_idx], target[train_idx])\n",
        "        summ += accuracy_score(my_clf.predict(X[test_idx]), target[test_idx])\n",
        "        cnt += 1\n",
        "        if cnt == 3:\n",
        "            break\n",
        "    res0.append(summ / cnt)\n",
        "    print(\"k =\", k_neighbors, res0[-1])\n",
        "    "
      ],
      "execution_count": 25,
      "outputs": [
        {
          "output_type": "stream",
          "text": [
            "k = 1 0.16598951140492\n",
            "k = 2 0.1438922826328329\n",
            "k = 3 0.14256714771499\n",
            "k = 4 0.1445113444597142\n",
            "k = 5 0.15061049896237955\n",
            "k = 6 0.1541454575245832\n",
            "k = 7 0.15776923178591543\n",
            "k = 8 0.15821099029363925\n",
            "k = 9 0.15900672271570007\n",
            "k = 10 0.16015567915701293\n",
            "k = 11 0.15847628911417613\n",
            "k = 12 0.15662027534460257\n",
            "k = 13 0.15361516452838772\n",
            "k = 14 0.15326163586425737\n",
            "k = 15 0.1540570167729971\n"
          ],
          "name": "stdout"
        }
      ]
    },
    {
      "cell_type": "code",
      "metadata": {
        "id": "MUO4VfIYf3vR",
        "outputId": "6ac91c8f-72f4-4751-b17e-b634c8d0ea0d",
        "colab": {
          "base_uri": "https://localhost:8080/",
          "height": 265
        }
      },
      "source": [
        "ax1 = plt.plot(range(1, 16), res0, linewidth=2)\n",
        "plt.show()"
      ],
      "execution_count": 26,
      "outputs": [
        {
          "output_type": "display_data",
          "data": {
            "image/png": "[encoded data removed]",
            "text/plain": [
              "<Figure size 432x288 with 1 Axes>"
            ]
          },
          "metadata": {
            "tags": [],
            "needs_background": "light"
          }
        }
      ]
    },
    {
      "cell_type": "markdown",
      "metadata": {
        "id": "YMS_jO7o1Ij9"
      },
      "source": [
        "#Напишите метод, позволяющий найти оптимальное количество ближайших соседей(дающее максимальную точность в среднем на валидации на 3 фолдах).\n",
        "Постройте график зависимости средней точности от количества соседей. Можно рассмотреть число соседей от 1 до 10."
      ]
    },
    {
      "cell_type": "code",
      "metadata": {
        "id": "954Bl7Du1IkA",
        "outputId": "553a5cb0-8637-4c4f-837f-b63545d68c41",
        "colab": {
          "base_uri": "https://localhost:8080/",
          "height": 364
        }
      },
      "source": [
        "#CountVectorizer + euclidean metric\n",
        "\n",
        "res = []\n",
        "for k in range(1, 21):\n",
        "    res.append(cross_val_score(MyKNeighborsClassifier(n_neighbors=k), Y, target, cv=KFold(n_splits=3, shuffle=True, random_state=424242), scoring=make_scorer(accuracy_score)))\n",
        "    print(k, res[-1])"
      ],
      "execution_count": 27,
      "outputs": [
        {
          "output_type": "stream",
          "text": [
            "1 [0.24867444 0.22487404 0.23495094]\n",
            "2 [0.18875928 0.17608062 0.18377088]\n",
            "3 [0.17470838 0.16945107 0.1705118 ]\n",
            "4 [0.1659597  0.16732962 0.1633519 ]\n",
            "5 [0.16171792 0.1633519  0.16414744]\n",
            "6 [0.15111347 0.15963935 0.16229117]\n",
            "7 [0.14607635 0.15354018 0.15990453]\n",
            "8 [0.13653234 0.15088836 0.15619199]\n",
            "9 [0.13414634 0.15062318 0.14770618]\n",
            "10 [0.12778367 0.14611509 0.14372845]\n",
            "11 [0.12566278 0.144524   0.14001591]\n",
            "12 [0.12539767 0.13895518 0.13683373]\n",
            "13 [0.12433722 0.13683373 0.13206046]\n",
            "14 [0.12407211 0.13418191 0.12967383]\n",
            "15 [0.12513256 0.13285601 0.12463538]\n",
            "16 [0.12062566 0.12834792 0.12543092]\n",
            "17 [0.11903499 0.1286131  0.12596128]\n",
            "18 [0.1169141  0.12622647 0.12198356]\n",
            "19 [0.11717922 0.12224874 0.11880138]\n",
            "20 [0.1169141  0.12224874 0.11747547]\n"
          ],
          "name": "stdout"
        }
      ]
    },
    {
      "cell_type": "code",
      "metadata": {
        "id": "arBxbkzejuY2",
        "outputId": "bc867d70-0f42-49e2-c586-dd0f24db7a6d",
        "colab": {
          "base_uri": "https://localhost:8080/",
          "height": 266
        }
      },
      "source": [
        "ax1 = plt.plot(range(1, 21), [sum(i) / 3 for i in res], linewidth=2)\n",
        "plt.show()"
      ],
      "execution_count": 28,
      "outputs": [
        {
          "output_type": "display_data",
          "data": {
            "image/png": "[encoded data removed]",
            "text/plain": [
              "<Figure size 432x288 with 1 Axes>"
            ]
          },
          "metadata": {
            "tags": [],
            "needs_background": "light"
          }
        }
      ]
    },
    {
      "cell_type": "markdown",
      "metadata": {
        "id": "CtobSHev1IkL"
      },
      "source": [
        "Как изменится качество на валидации, если:\n",
        "\n",
        "1. Используется косинусная метрика вместо евклидовой.\n",
        "2. К текстам применяется TfIdf векторизацию( sklearn.feature_extraction.text.TfidfVectorizer)\n",
        "\n",
        "Сравните модели, выберите лучшую."
      ]
    },
    {
      "cell_type": "code",
      "metadata": {
        "id": "3HDuj0HS1IkM",
        "outputId": "8e09c362-1fcc-42bd-f74e-4d883ffcc1f8",
        "colab": {
          "base_uri": "https://localhost:8080/",
          "height": 364
        }
      },
      "source": [
        "#CountVectorizer + cosine metric\n",
        "\n",
        "res2 = []\n",
        "for k in range(1, 21):\n",
        "    res2.append(cross_val_score(MyKNeighborsClassifier(n_neighbors=k, metric='cosine'), Y, target, cv=KFold(n_splits=3, shuffle=True, random_state=424242), scoring=make_scorer(accuracy_score)))\n",
        "    print(k, res2[-1])"
      ],
      "execution_count": 29,
      "outputs": [
        {
          "output_type": "stream",
          "text": [
            "1 [0.4300106  0.40068947 0.42376028]\n",
            "2 [0.37009544 0.35958632 0.35852559]\n",
            "3 [0.38600212 0.3757624  0.37655794]\n",
            "4 [0.40243902 0.39273402 0.39777247]\n",
            "5 [0.42099682 0.40944047 0.41607001]\n",
            "6 [0.43504772 0.42376028 0.43198091]\n",
            "7 [0.44565217 0.42800318 0.44417926]\n",
            "8 [0.44379639 0.43330682 0.4465659 ]\n",
            "9 [0.45201485 0.44391408 0.44736144]\n",
            "10 [0.46235419 0.44789181 0.45452135]\n",
            "11 [0.46659597 0.45584726 0.4638027 ]\n",
            "12 [0.47269353 0.46327234 0.47281888]\n",
            "13 [0.47375398 0.4638027  0.47706179]\n",
            "14 [0.4790562  0.46804561 0.47997879]\n",
            "15 [0.48462354 0.47494033 0.4884646 ]\n",
            "16 [0.48435843 0.47732697 0.49032087]\n",
            "17 [0.48780488 0.47626624 0.49005569]\n",
            "18 [0.49231177 0.48024397 0.48952532]\n",
            "19 [0.49257688 0.48289578 0.49748077]\n",
            "20 [0.49787911 0.4826306  0.4956245 ]\n"
          ],
          "name": "stdout"
        }
      ]
    },
    {
      "cell_type": "code",
      "metadata": {
        "id": "ucef-dJrkcIZ",
        "outputId": "46fbbc2e-c9fe-42c4-e626-bea8c17fdacd",
        "colab": {
          "base_uri": "https://localhost:8080/",
          "height": 265
        }
      },
      "source": [
        "ax2 = plt.plot(range(1, 21), [sum(i) / 3 for i in res2], linewidth=2)\n",
        "plt.show()"
      ],
      "execution_count": 30,
      "outputs": [
        {
          "output_type": "display_data",
          "data": {
            "image/png": "[encoded data removed]",
            "text/plain": [
              "<Figure size 432x288 with 1 Axes>"
            ]
          },
          "metadata": {
            "tags": [],
            "needs_background": "light"
          }
        }
      ]
    },
    {
      "cell_type": "code",
      "metadata": {
        "id": "m3pMUkxX1IkV",
        "outputId": "5ef0063a-a2bf-4823-d6ff-aff938649a1c",
        "colab": {
          "base_uri": "https://localhost:8080/",
          "height": 364
        }
      },
      "source": [
        "#TfidfVectorizer + euclidean metric\n",
        "\n",
        "tf = TfidfTransformer()\n",
        "Z = tf.fit_transform(Y) # Y - full vocabulary\n",
        "\n",
        "res3 = []\n",
        "for k in range(1, 21):\n",
        "    res3.append(cross_val_score(MyKNeighborsClassifier(n_neighbors=k), Z, target, cv=KFold(n_splits=3, shuffle=True, random_state=424242), scoring=make_scorer(accuracy_score)))\n",
        "    print(k, res3[-1])"
      ],
      "execution_count": 31,
      "outputs": [
        {
          "output_type": "stream",
          "text": [
            "1 [0.12513256 0.12543092 0.12330947]\n",
            "2 [0.09862142 0.09652612 0.09493503]\n",
            "3 [0.08377519 0.08750994 0.08777513]\n",
            "4 [0.07688229 0.08141077 0.07690268]\n",
            "5 [0.07396607 0.07822859 0.07319014]\n",
            "6 [0.07449629 0.07478123 0.07027314]\n",
            "7 [0.07608696 0.07504641 0.06629541]\n",
            "8 [0.07635207 0.07425086 0.06735614]\n",
            "9 [0.07794274 0.06974277 0.06709096]\n",
            "10 [0.07502651 0.06709096 0.06735614]\n",
            "11 [0.0747614  0.06894723 0.06815168]\n",
            "12 [0.07290562 0.06762132 0.06841687]\n",
            "13 [0.07051962 0.06762132 0.06576505]\n",
            "14 [0.06601273 0.0649695  0.06682578]\n",
            "15 [0.06468717 0.06205251 0.06470432]\n",
            "16 [0.06124072 0.06576505 0.06576505]\n",
            "17 [0.06177094 0.0678865  0.06443914]\n",
            "18 [0.05965005 0.0678865  0.0636436 ]\n",
            "19 [0.06044539 0.06974277 0.06576505]\n",
            "20 [0.05885472 0.06443914 0.0649695 ]\n"
          ],
          "name": "stdout"
        }
      ]
    },
    {
      "cell_type": "code",
      "metadata": {
        "id": "CVvzOPaflzfS",
        "outputId": "18e12e43-58eb-4397-97f2-4f08f43802ba",
        "colab": {
          "base_uri": "https://localhost:8080/",
          "height": 265
        }
      },
      "source": [
        "ax3 = plt.plot(range(1, 21), [sum(i) / 3 for i in res3], linewidth=2)\n",
        "plt.show()"
      ],
      "execution_count": 32,
      "outputs": [
        {
          "output_type": "display_data",
          "data": {
            "image/png": "[encoded data removed]",
            "text/plain": [
              "<Figure size 432x288 with 1 Axes>"
            ]
          },
          "metadata": {
            "tags": [],
            "needs_background": "light"
          }
        }
      ]
    },
    {
      "cell_type": "code",
      "metadata": {
        "id": "_WFPMz94lz38",
        "outputId": "b55819c8-47da-4d00-be3b-9f418a8d027e",
        "colab": {
          "base_uri": "https://localhost:8080/",
          "height": 364
        }
      },
      "source": [
        "#TfidfVectorizer + cosine metric\n",
        "\n",
        "res4 = []\n",
        "for k in range(1, 21):\n",
        "    res4.append(cross_val_score(MyKNeighborsClassifier(n_neighbors=k, metric='cosine'), Z, target, cv=KFold(n_splits=3, shuffle=True, random_state=424242), scoring=make_scorer(accuracy_score)))\n",
        "    print(k, res4[-1])"
      ],
      "execution_count": 33,
      "outputs": [
        {
          "output_type": "stream",
          "text": [
            "1 [0.48462354 0.48024397 0.48316097]\n",
            "2 [0.47242842 0.46035534 0.4537258 ]\n",
            "3 [0.49973489 0.49217714 0.48713869]\n",
            "4 [0.52757158 0.52983294 0.51896049]\n",
            "5 [0.54427359 0.55078229 0.54256165]\n",
            "6 [0.56707317 0.55873774 0.55953328]\n",
            "7 [0.57290562 0.57305754 0.57040573]\n",
            "8 [0.5771474  0.58313445 0.56457173]\n",
            "9 [0.58510074 0.58711217 0.56801909]\n",
            "10 [0.58828208 0.58658181 0.56722355]\n",
            "11 [0.58483563 0.59002917 0.57014055]\n",
            "12 [0.58377519 0.58843808 0.57411827]\n",
            "13 [0.58748674 0.58631663 0.58101299]\n",
            "14 [0.58616119 0.59002917 0.58021745]\n",
            "15 [0.58722163 0.59082471 0.57650491]\n",
            "16 [0.58775186 0.5924158  0.5794219 ]\n",
            "17 [0.58960764 0.59692389 0.58074781]\n",
            "18 [0.59411453 0.59718907 0.58366481]\n",
            "19 [0.59888653 0.59692389 0.58499072]\n",
            "20 [0.59597031 0.59692389 0.5823389 ]\n"
          ],
          "name": "stdout"
        }
      ]
    },
    {
      "cell_type": "code",
      "metadata": {
        "id": "HLZCYVRelzbD",
        "outputId": "80e6e7c9-a559-4f07-b29b-909b505ee34d",
        "colab": {
          "base_uri": "https://localhost:8080/",
          "height": 304
        }
      },
      "source": [
        "dots = [sum(i) / 3 for i in res4]\n",
        "ax4 = plt.plot(range(1, 21), dots, linewidth=2)\n",
        "plt.show()\n",
        "k_best = np.argmax(dots[1:]) + 2\n",
        "print(\"BEST k =\", k_best, \", best CV-score =\", dots[k_best - 1])\n",
        "\n",
        "k_almost_best = 9\n",
        "dots[8]"
      ],
      "execution_count": 37,
      "outputs": [
        {
          "output_type": "display_data",
          "data": {
            "image/png": "[encoded data removed]",
            "text/plain": [
              "<Figure size 432x288 with 1 Axes>"
            ]
          },
          "metadata": {
            "tags": [],
            "needs_background": "light"
          }
        },
        {
          "output_type": "stream",
          "text": [
            "BEST k = 19 , best CV-score = 0.593600381284156\n"
          ],
          "name": "stdout"
        },
        {
          "output_type": "execute_result",
          "data": {
            "text/plain": [
              "0.5800773357427462"
            ]
          },
          "metadata": {
            "tags": []
          },
          "execution_count": 37
        }
      ]
    },
    {
      "cell_type": "markdown",
      "metadata": {
        "id": "KYZvn8i_1Iki"
      },
      "source": [
        "Загрузим  теперь test  часть нашей выборки и преобразуем её аналогично с train частью. Не забудьте, что наборы слов в train и test части могут отличаться."
      ]
    },
    {
      "cell_type": "code",
      "metadata": {
        "id": "1ijgcQVG1Ikk"
      },
      "source": [
        "newsgroups = fetch_20newsgroups(subset='test',remove=['headers','footers', 'quotes'])"
      ],
      "execution_count": 46,
      "outputs": []
    },
    {
      "cell_type": "markdown",
      "metadata": {
        "id": "qlIbrYKK1Iku"
      },
      "source": [
        "Оценим точность вашей лучшей модели на test части датасета. Отличается ли оно от кросс-валидации? Попробуйте сделать выводы, почему отличается качество."
      ]
    },
    {
      "cell_type": "code",
      "metadata": {
        "id": "hzJsza8K1Ikv",
        "outputId": "7a200401-6377-47f5-cfb5-8b3abe78e60a",
        "colab": {
          "base_uri": "https://localhost:8080/",
          "height": 34
        }
      },
      "source": [
        "data_t = newsgroups['data']\n",
        "target_t = newsgroups['target']\n",
        "len(data_t)"
      ],
      "execution_count": 47,
      "outputs": [
        {
          "output_type": "execute_result",
          "data": {
            "text/plain": [
              "7532"
            ]
          },
          "metadata": {
            "tags": []
          },
          "execution_count": 47
        }
      ]
    },
    {
      "cell_type": "code",
      "metadata": {
        "id": "LyKYZXS2oHSI",
        "outputId": "a82a1124-f91f-4c67-e471-56aff0a33ab5",
        "colab": {
          "base_uri": "https://localhost:8080/",
          "height": 52
        }
      },
      "source": [
        "vectorizer_t = CountVectorizer()\n",
        "vectorizer_t.fit(data, data_t)\n",
        "X = vectorizer_t.transform(data)\n",
        "W = vectorizer_t.transform(data_t)\n",
        "tf_t = TfidfTransformer()\n",
        "tf_t.fit(X, W)\n",
        "X = tf_t.transform(X)\n",
        "W = tf_t.transform(W)\n",
        "print(\"TRAIN: \", type(X), X.shape)\n",
        "print(\"TEST: \", type(W), W.shape)"
      ],
      "execution_count": 48,
      "outputs": [
        {
          "output_type": "stream",
          "text": [
            "TRAIN:  <class 'scipy.sparse.csr.csr_matrix'> (11314, 101631)\n",
            "TEST:  <class 'scipy.sparse.csr.csr_matrix'> (7532, 101631)\n"
          ],
          "name": "stdout"
        }
      ]
    },
    {
      "cell_type": "code",
      "metadata": {
        "id": "Cscn-7YIoHPq",
        "outputId": "62fe9481-a0d2-443b-8105-8daaf093c867",
        "colab": {
          "base_uri": "https://localhost:8080/",
          "height": 34
        }
      },
      "source": [
        "my_clf_2 = MyKNeighborsClassifier(k_almost_best, metric='cosine')\n",
        "my_clf_2.fit(X, target)\n",
        "y_pred = my_clf_2.predict(W)\n",
        "accuracy_score(target_t, y_pred)"
      ],
      "execution_count": 49,
      "outputs": [
        {
          "output_type": "execute_result",
          "data": {
            "text/plain": [
              "0.5191184280403611"
            ]
          },
          "metadata": {
            "tags": []
          },
          "execution_count": 49
        }
      ]
    },
    {
      "cell_type": "code",
      "metadata": {
        "id": "VuRfsHOWoHJq",
        "outputId": "a5387ac7-2df3-428c-bb66-c70504ac1eab",
        "colab": {
          "base_uri": "https://localhost:8080/",
          "height": 34
        }
      },
      "source": [
        "my_clf_2 = MyKNeighborsClassifier(k_best, metric='cosine')\n",
        "my_clf_2.fit(X, target)\n",
        "y_pred = my_clf_2.predict(W)\n",
        "accuracy_score(target_t, y_pred)"
      ],
      "execution_count": 50,
      "outputs": [
        {
          "output_type": "execute_result",
          "data": {
            "text/plain": [
              "0.5523101433882103"
            ]
          },
          "metadata": {
            "tags": []
          },
          "execution_count": 50
        }
      ]
    },
    {
      "cell_type": "markdown",
      "metadata": {
        "id": "i-aM4HvKX956"
      },
      "source": [
        "Вероятно, точность ухудшилась, т.к. в тестовой выборке появились новые слова, кторых не было в тренировочной. "
      ]
    },
    {
      "cell_type": "code",
      "metadata": {
        "id": "RKhjfX_LVWRG"
      },
      "source": [
        ""
      ],
      "execution_count": null,
      "outputs": []
    }
  ]
}