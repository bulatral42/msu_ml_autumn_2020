{
  "nbformat": 4,
  "nbformat_minor": 0,
  "metadata": {
    "anaconda-cloud": {},
    "colab": {
      "name": "valiahmetov_hw2.ipynb",
      "provenance": [],
      "collapsed_sections": []
    },
    "kernelspec": {
      "display_name": "Python 3",
      "language": "python",
      "name": "python3"
    },
    "language_info": {
      "codemirror_mode": {
        "name": "ipython",
        "version": 3
      },
      "file_extension": ".py",
      "mimetype": "text/x-python",
      "name": "python",
      "nbconvert_exporter": "python",
      "pygments_lexer": "ipython3",
      "version": "3.8.5"
    },
    "nav_menu": {},
    "toc": {
      "colors": {
        "hover_highlight": "#DAA520",
        "navigate_num": "#000000",
        "navigate_text": "#333333",
        "running_highlight": "#FF0000",
        "selected_highlight": "#FFD700",
        "sidebar_border": "#EEEEEE",
        "wrapper_background": "#FFFFFF"
      },
      "moveMenuLeft": true,
      "nav_menu": {
        "height": "402px",
        "width": "253px"
      },
      "navigate_menu": true,
      "number_sections": false,
      "sideBar": true,
      "threshold": 4,
      "toc_cell": false,
      "toc_section_display": "block",
      "toc_window_display": true,
      "widenNotebook": false
    }
  },
  "cells": [
    {
      "cell_type": "markdown",
      "metadata": {
        "id": "_nn3MJ6ZIWnx"
      },
      "source": [
        "# Алгоритмы интеллектуальной обработки больших объемов данных\n",
        "## Домашнее задание №2: Линейные модели\n"
      ]
    },
    {
      "cell_type": "markdown",
      "metadata": {
        "id": "oDIIZiEcIWn4"
      },
      "source": [
        "###### <hr\\>\n",
        "**Общая информация**\n",
        "\n",
        "**Срок сдачи:** 09 ноября 18:00 Сдача **очная** на онлайн занятии. <br\\>\n",
        "\n",
        "\n",
        "Используйте данный Ipython Notebook при оформлении домашнего задания.\n",
        "\n",
        "Присылать ДЗ необходимо в виде ссылки на свой github репозиторий на почту ml1.sphere@mail.ru с указанием темы в следующем формате:\n",
        "\n",
        "[ML0920, Задание 2] Фамилия Имя.\n",
        "\n",
        "\n",
        "\n",
        "**Штрафные баллы:**\n",
        "\n",
        "1. Невыполнение PEP8 -1 балл\n",
        "2. Отсутствие фамилии в имени скрипта (скрипт должен называться по аналогии со stroykova_hw2.ipynb) -1 балл\n",
        "3. Все строчки должны быть выполнены. Нужно, чтобы output команды можно было увидеть уже в git'е. В противном случае -1 балл\n",
        "4. При оформлении ДЗ нужно пользоваться данным файлом в качестве шаблона. Не нужно удалять и видоизменять написанный код и текст, если явно не указана такая возможность. В противном случае -1 балл\n",
        "<hr\\>"
      ]
    },
    {
      "cell_type": "code",
      "metadata": {
        "id": "4UGD6AcEIWoB",
        "outputId": "21ee3cbc-c9b4-4caf-de14-432fee43994d",
        "colab": {
          "base_uri": "https://localhost:8080/"
        }
      },
      "source": [
        "import pandas as pd\n",
        "import numpy as np\n",
        "import matplotlib.pyplot as plt\n",
        "\n",
        "%matplotlib inline\n",
        "\n",
        "plt.style.use('ggplot')\n",
        "plt.rcParams['figure.figsize'] = (12,5)\n",
        "\n",
        "!pip install --upgrade autopep8\n",
        "!pip install flake8 pycodestyle_magic\n",
        "%load_ext pycodestyle_magic"
      ],
      "execution_count": null,
      "outputs": [
        {
          "output_type": "stream",
          "text": [
            "Collecting autopep8\n",
            "\u001b[?25l  Downloading https://files.pythonhosted.org/packages/94/37/19bc53fd63fc1caaa15ddb695e32a5d6f6463b3de6b0922ba2a3cbb798c8/autopep8-1.5.4.tar.gz (121kB)\n",
            "\u001b[K     |████████████████████████████████| 122kB 4.4MB/s \n",
            "\u001b[?25hCollecting pycodestyle>=2.6.0\n",
            "\u001b[?25l  Downloading https://files.pythonhosted.org/packages/10/5b/88879fb861ab79aef45c7e199cae3ef7af487b5603dcb363517a50602dd7/pycodestyle-2.6.0-py2.py3-none-any.whl (41kB)\n",
            "\u001b[K     |████████████████████████████████| 51kB 5.7MB/s \n",
            "\u001b[?25hRequirement already satisfied, skipping upgrade: toml in /usr/local/lib/python3.6/dist-packages (from autopep8) (0.10.2)\n",
            "Building wheels for collected packages: autopep8\n",
            "  Building wheel for autopep8 (setup.py) ... \u001b[?25l\u001b[?25hdone\n",
            "  Created wheel for autopep8: filename=autopep8-1.5.4-py2.py3-none-any.whl size=45287 sha256=3e68a6b870a24562d5b8054561136cae02ebb6788d7004becd9af48aab706ed5\n",
            "  Stored in directory: /root/.cache/pip/wheels/b2/31/85/71db2edd0f7b97ad8fd9de009b8ab2e6a98064595d74aff18e\n",
            "Successfully built autopep8\n",
            "Installing collected packages: pycodestyle, autopep8\n",
            "Successfully installed autopep8-1.5.4 pycodestyle-2.6.0\n",
            "Collecting flake8\n",
            "\u001b[?25l  Downloading https://files.pythonhosted.org/packages/d4/ca/3971802ee6251da1abead1a22831d7f4743781e2f743bd266bdd2f46c19b/flake8-3.8.4-py2.py3-none-any.whl (72kB)\n",
            "\u001b[K     |████████████████████████████████| 81kB 3.1MB/s \n",
            "\u001b[?25hCollecting pycodestyle_magic\n",
            "  Downloading https://files.pythonhosted.org/packages/ec/6f/f206894604a44b522bfa3b6264ca6c213bf89f119942dc3f35fc6589954c/pycodestyle_magic-0.5-py2.py3-none-any.whl\n",
            "Requirement already satisfied: pycodestyle<2.7.0,>=2.6.0a1 in /usr/local/lib/python3.6/dist-packages (from flake8) (2.6.0)\n",
            "Requirement already satisfied: importlib-metadata; python_version < \"3.8\" in /usr/local/lib/python3.6/dist-packages (from flake8) (2.0.0)\n",
            "Collecting pyflakes<2.3.0,>=2.2.0\n",
            "\u001b[?25l  Downloading https://files.pythonhosted.org/packages/69/5b/fd01b0c696f2f9a6d2c839883b642493b431f28fa32b29abc465ef675473/pyflakes-2.2.0-py2.py3-none-any.whl (66kB)\n",
            "\u001b[K     |████████████████████████████████| 71kB 7.4MB/s \n",
            "\u001b[?25hCollecting mccabe<0.7.0,>=0.6.0\n",
            "  Downloading https://files.pythonhosted.org/packages/87/89/479dc97e18549e21354893e4ee4ef36db1d237534982482c3681ee6e7b57/mccabe-0.6.1-py2.py3-none-any.whl\n",
            "Requirement already satisfied: zipp>=0.5 in /usr/local/lib/python3.6/dist-packages (from importlib-metadata; python_version < \"3.8\"->flake8) (3.4.0)\n",
            "Installing collected packages: pyflakes, mccabe, flake8, pycodestyle-magic\n",
            "Successfully installed flake8-3.8.4 mccabe-0.6.1 pycodestyle-magic-0.5 pyflakes-2.2.0\n"
          ],
          "name": "stdout"
        }
      ]
    },
    {
      "cell_type": "markdown",
      "metadata": {
        "id": "1M9TsixiIWoh"
      },
      "source": [
        "Здравствуйте, уважаемые студенты! \n",
        "\n",
        "В этом задании мы будем реализовать линейные модели. Необходимо реализовать линейную и логистическую регрессии с L2 регуляризацией"
      ]
    },
    {
      "cell_type": "markdown",
      "metadata": {
        "id": "nhDOBoHTIWol"
      },
      "source": [
        "# Теоретическое введение\n",
        "\n"
      ]
    },
    {
      "cell_type": "markdown",
      "metadata": {
        "id": "5d2iFLihIWoo"
      },
      "source": [
        "Линейная регрессия решает задачу регрессии и оптимизирует функцию потерь MSE \n",
        "\n",
        "$$L(w) =  \\frac{1}{N}\\left[\\sum_i (y_i - a_i) ^ 2 \\right], $$ где $y_i$ $-$ целевая функция,  $a_i = a(x_i) =  \\langle\\,x_i,w\\rangle ,$ $-$ предсказание алгоритма на объекте $x_i$, $w$ $-$ вектор весов (размерности $D$), $x_i$ $-$ вектор признаков (такой же размерности $D$).\n",
        "\n",
        "Не забываем, что здесь и далее  мы считаем, что в $x_i$ есть тождественный вектор единиц, ему соответствует вес $w_0$.\n"
      ]
    },
    {
      "cell_type": "markdown",
      "metadata": {
        "id": "wTmk4hnFIWos"
      },
      "source": [
        "Логистическая регрессия является линейным классификатором, который оптимизирует так называемый функционал log loss:"
      ]
    },
    {
      "cell_type": "markdown",
      "metadata": {
        "id": "vXW1GWxJIWox"
      },
      "source": [
        "$$L(w) = - \\frac{1}{N}\\left[\\sum_i y_i \\log a_i + ( 1 - y_i) \\log (1 - a_i) \\right],$$\n",
        "где  $y_i  \\in \\{0,1\\}$ $-$ метка класса, $a_i$ $-$ предсказание алгоритма на объекте $x_i$. Модель пытается предсказать апостериорую вероятность объекта принадлежать к классу \"1\":\n",
        "$$ p(y_i = 1 | x_i) = a(x_i) =  \\sigma( \\langle\\,x_i,w\\rangle ),$$\n",
        "$w$ $-$ вектор весов (размерности $D$), $x_i$ $-$ вектор признаков (такой же размерности $D$).\n",
        "\n",
        "Функция $\\sigma(x)$ $-$ нелинейная функция, пероводящее скалярное произведение объекта на веса в число $\\in (0,1)$ (мы же моделируем вероятность все-таки!)\n",
        "\n",
        "$$\\sigma(x) = \\frac{1}{1 + \\exp(-x)}$$\n",
        "\n",
        "Если внимательно посмотреть на функцию потерь, то можно заметить, что в зависимости от правильного ответа алгоритм штрафуется или функцией $-\\log a_i$, или функцией $-\\log (1 - a_i)$.\n",
        "\n"
      ]
    },
    {
      "cell_type": "markdown",
      "metadata": {
        "id": "tFI-ITeqIWo0"
      },
      "source": [
        "Часто для решения проблем, которые так или иначе связаны с проблемой переобучения, в функционал качества добавляют слагаемое, которое называют ***регуляризацией***. Итоговый функционал для линейной регрессии тогда принимает вид:\n",
        "\n",
        "$$L(w) =  \\frac{1}{N}\\left[\\sum_i (y_i - a_i) ^ 2 \\right] + \\frac{1}{C}R(w) $$\n",
        "\n",
        "Для логистической: \n",
        "$$L(w) = - \\frac{1}{N}\\left[\\sum_i y_i \\log a_i + ( 1 - y_i) \\log (1 - a_i) \\right] +  \\frac{1}{C}R(w)$$\n",
        "\n",
        "Самое понятие регуляризации введено основателем ВМК академиком Тихоновым https://ru.wikipedia.org/wiki/Метод_регуляризации_Тихонова\n",
        "\n",
        "Идейно методика регуляризации заключается в следующем $-$ мы рассматриваем некорректно поставленную задачу (что это такое можно найти в интернете), для того чтобы сузить набор различных вариантов (лучшие из которых будут являться переобучением ) мы вводим дополнительные ограничения на множество искомых решений. На лекции Вы уже рассмотрели два варианта регуляризации.\n",
        "\n",
        "$L1$ регуляризация:\n",
        "$$R(w) = \\sum_{j=1}^{D}|w_j|$$\n",
        "$L2$ регуляризация:\n",
        "$$R(w) =  \\sum_{j=1}^{D}w_j^2$$\n",
        "\n",
        "С их помощью мы ограничиваем модель в  возможности выбора каких угодно весов минимизирующих наш лосс, модель уже не сможет подстроиться под данные как ей угодно. \n",
        "\n",
        "Вам нужно добавить соотвествущую Вашему варианту $L2$ регуляризацию.\n",
        "\n",
        "И так, мы поняли, какую функцию ошибки будем минимизировать, разобрались, как получить предсказания по объекту и обученным весам. Осталось разобраться, как получить оптимальные веса. Для этого нужно выбрать какой-то метод оптимизации.\n",
        "\n"
      ]
    },
    {
      "cell_type": "markdown",
      "metadata": {
        "id": "uZOAPz-BIWo4"
      },
      "source": [
        "Градиентный спуск является самым популярным алгоритмом обучения линейных моделей. В этом задании Вам предложат реализовать стохастический градиентный спуск или  мини-батч градиентный спуск (мини-батч на русский язык довольно сложно перевести, многие переводят это как \"пакетный\", но мне не кажется этот перевод удачным). Далее нам потребуется определение **эпохи**.\n",
        "Эпохой в SGD и MB-GD называется один проход по **всем** объектам в обучающей выборки.\n",
        "* В SGD градиент расчитывается по одному случайному объекту. Сам алгоритм выглядит примерно так:\n",
        "        1) Перемешать выборку\n",
        "        2) Посчитать градиент функции потерь на одном объекте (далее один объект тоже будем называть батчем)\n",
        "        3) Сделать шаг спуска\n",
        "        4) Повторять 2) и 3) пока не пройдет максимальное число эпох.\n",
        "* В Mini Batch SGD - по подвыборке объектов. Сам алгоритм выглядит примерно так::\n",
        "        1) Перемешать выборку, выбрать размер мини-батча (от 1 до размера выборки)\n",
        "        2) Почитать градиент функции потерь по мини-батчу (не забыть поделить на  число объектов в мини-батче)\n",
        "        3) Сделать шаг спуска\n",
        "        4) Повторять 2) и 3) пока не пройдет максимальное число эпох.\n",
        "* Для отладки алгоритма реализуйте возможность  вывода средней ошибки на обучении модели по объектам (мини-батчам). После шага градиентного спуска посчитайте значение ошибки на объекте (или мини-батче), а затем усредните, например, по ста шагам. Если обучение проходит корректно, то мы должны увидеть, что каждые 100 шагов функция потерь уменьшается. \n",
        "* Правило останова - максимальное количество эпох\n",
        "    \n"
      ]
    },
    {
      "cell_type": "markdown",
      "metadata": {
        "id": "n9-4RKhbXLrr"
      },
      "source": [
        ""
      ]
    },
    {
      "cell_type": "markdown",
      "metadata": {
        "id": "5aNL9wfUIWo9"
      },
      "source": [
        "# Теоретические вопросы (2 балла)\n",
        "В этой части Вам будут предложены теоретичские вопросы и задачи по теме. Вы, конечно, можете списать их у своего товарища или найти решение в интернете, но учтите, что они обязательно войдут в теоретический коллоквиум. Лучше разобраться в теме сейчас и успешно ответить на коллоквиуме, чем списать, не разобравшись в материале, и быть терзаемым совестью. \n",
        "\n",
        "\n",
        "Формулы надо оформлять в формате **LaTeX**."
      ]
    },
    {
      "cell_type": "markdown",
      "metadata": {
        "id": "m8SalQ7UIWpA"
      },
      "source": [
        "Задача 1. Градиент для линейной регрессии.\n",
        "* Выпишите формулу обновления весов для линейной регрессии с L2 регуляризацией для мини-батч градиентого спуска размера $n$:\n",
        "\n",
        "$$ w_{new} = w_{old} - ... $$\n",
        "\n",
        " Отнеситесь к этому пункту максимально серьезно, это Вам нужно будет реализовать в задании.\n",
        " \n",
        "Проанализруйте итоговую формулу градиента - как  интуитивно можно  описать, чему равен градиент?"
      ]
    },
    {
      "cell_type": "markdown",
      "metadata": {
        "id": "AT7XYxOTIWpE"
      },
      "source": [
        "***Решение здесь***\n",
        "\n",
        "$Q = \\dfrac{1}{n}\\sum_{k=1}^{n} L(w, x_{j_k}, y_{j_k}) + \\dfrac{1}{C} w^*w$, \n",
        "\n",
        "$L(w, x, y) = (y - w^*x)^2$\n",
        "\n",
        "$w_{new} = w_{old} - \\alpha\\nabla_w Q$\n",
        "\n",
        "$\\nabla_w L = -2(y - w^*x)x$\n",
        "\n",
        "$ w_{new} = w_{old} + \\dfrac{2\\alpha}{n}\\sum_{k=1}^{n} (y_{j_k} - w^*x_{j_k})x_{j_k} - \\dfrac{2\\alpha}{C}w_{old}$, \n",
        "где $\\{j_1, \\ldots, j_n\\}$ - случайный набор уникальных индексов из набора $\\{1, \\ldots, n\\}$, \n",
        "$\\alpha$ - зависящая от номера шага невозрастающая функция, например, $\\alpha = \\dfrac{1}{(\\text{номер шага})^p}$.\n",
        "\n",
        "Интуитивный градиент: линейная комбинация точек выборки с весами, равными ошибкам в соответствующих точках, взятым с обратным знаком"
      ]
    },
    {
      "cell_type": "markdown",
      "metadata": {
        "id": "-5mfcrHoIWpH"
      },
      "source": [
        "Задача 2. Градиент для логистической регрессии.\n",
        "* Выпишите формулу обновления весов для логистической регрессии с L2 регуляризацией  для мини-батч градиентого спуска размера $n$:\n",
        "\n",
        "$$ w_{new} = w_{old} - ... $$\n",
        "\n",
        " Отнеситесь к этому пункту максимально серьезно, это Вам нужно будет реализовать в задании.\n",
        " \n",
        "Проанализруйте итоговую формулу градиента - как  интуитивно можно  описать, чему равен градиент? Как соотносится этот градиент с градиентом, возникающий в задаче линейной регрессии?\n",
        "\n",
        "Подсказка: Вам градиент, которой получается если “в лоб” продифференцировать,  надо немного преобразовать.\n",
        "Надо подставить, что $1 - \\sigma(w,x) $ это  $1 - a(x_i)$, а  $-\\sigma(w,x)$ это $0 - a(x_i)$.  Тогда получится свести к одной красивой формуле с линейной регрессией, которую программировать будет намного проще."
      ]
    },
    {
      "cell_type": "markdown",
      "metadata": {
        "id": "29hWf39JIWpI"
      },
      "source": [
        "***Решение здесь***\n",
        "\n",
        "$Q = \\dfrac{1}{n}\\sum_{k=1}^{n} L(w, x_{j_k}, y_{j_k}) + \\dfrac{1}{C} w^*w$, \n",
        "\n",
        "$L(w, x, y)) = -[y\\log(\\sigma(w^*x)) + (1 - y)\\log(1 - \\sigma(w^*x))]$\n",
        "\n",
        "$w_{new} = w_{old} - \\alpha\\nabla_w Q$\n",
        "\n",
        "$\\nabla_w L = -\\dfrac{y}{\\sigma(w^*x)}\\sigma'(w^*x)\\nabla(w^*x) -\\dfrac{1 - y}{1 - \\sigma(w^*x)}(-\\sigma'(w^*x))\\nabla(w^*x)$, $\\,\\,$ \n",
        "$\\sigma'(z) = \\sigma(z)(1 - \\sigma(z))$ \n",
        "$\\Rightarrow$ \n",
        "$\\nabla_w L = -y(1 - \\sigma(w^*x))x + (1 - y)\\sigma(w^*x)x = -(y - \\sigma(w^*x))x$\n",
        "\n",
        "$w_{new} = w_{old} + \\dfrac{\\alpha}{n}\\sum_{k=1}^{n} (y_{j_k}-\\sigma(w^*x_{j_k}))x_{j_k} - \\dfrac{2\\alpha}{C} w_{old}$, \n",
        "где $\\{j_1, \\ldots, j_n\\}$ - случайный набор уникальных индексов из набора $\\{1, \\ldots, n\\}$, \n",
        "$\\alpha$ - зависящая от номера шага невозрастающая функция, например, $\\alpha = \\dfrac{1}{(\\text{номер шага})^p}$."
      ]
    },
    {
      "cell_type": "markdown",
      "metadata": {
        "id": "fj9uiFAUIWpL"
      },
      "source": [
        "Задача 3. Точное решение линейной регрессии\n",
        "\n",
        "На лекции было показано, что точное решение линейной регрессии имеет вид $w = (X^TX)^{-1}X^TY $. \n",
        "* Покажите, что это действительно является точкой минимума в случае, если матрица X имеет строк не меньше, чем столбцов и имеет полный ранг. Подсказка: посчитайте Гессиан и покажите, что в этом случае он положительно определен. \n",
        "* Выпишите точное решение для модели с $L2$ регуляризацией. Как L2 регуляризация помогает с точным решением где матрица X имеет линейно зависимые признаки?"
      ]
    },
    {
      "cell_type": "markdown",
      "metadata": {
        "id": "813ITL92IWpQ"
      },
      "source": [
        "***Решение здесь***\n",
        "\n",
        "Задача 1: минимизировать $Q(w) = \\dfrac{1}{N}(Xw - y)^*(Xw-y)$. Рассмотрим вещественный случай и перейдём от эрмитова сопряжения к транспонированию, а также будем рассматривать $NQ$ вместо $Q$.\n",
        "\n",
        "$\\nabla_w Q = 2X^TXw - 2X^Ty = 0$ $\\Rightarrow$ $w_0 = (X^TX)^{-1}X^Ty$\n",
        "\n",
        "$H(Q) = [\\nabla_w [\\nabla_w Q]_1, \\nabla_w [\\nabla_w Q]_2, \\ldots, \\nabla_w [\\nabla_w Q]_D] = $ \n",
        "$2[\\nabla_w ([X^T]_1 Xw), \\nabla_w ([X^T]_2 Xw, \\ldots, \\nabla_w ([X^T]_D Xw))]$,\n",
        "здесь индексы $1, 2, \\ldots, D$ обозначают строки. \n",
        "\n",
        "$H(Q) = 2[X^T[X^T]_1^T, X^T[X^T]_2^T, \\ldots, X^T[X^T]_D^T] = 2X^T (X^T)^T = 2X^T X > 0$, так как $(X^TXz, z) = (Xz, Xz) > 0$ $\\forall z \\neq 0$ $\\Rightarrow w_0$ - точка минимума $Q$, причём глобального, так как это единственная точка экстремума.\n",
        "\n",
        "\n",
        "Задача 2: минимизировать $Q'(w) = \\dfrac{1}{N}(Xw - y)^T(Xw-y) + \\dfrac{1}{C} w^Tw$.\n",
        "\n",
        "Рассмотрим $NQ'$ вместо $Q'$.\n",
        "\n",
        "$\\nabla_W Q' = 2X^TXw - 2X^Ty + \\dfrac{2N}{C}w = 0$\n",
        "$\\Rightarrow$ $w_0' = (X^T X + \\dfrac{N}{C}I)^{-1}X^Ty$.\n",
        "\n",
        "Если матрица $X$ имеет линейно зависимые строки, то Гессиан в исходно задаче только неотрицательно определён. Тогда добавка $\\dfrac{2N}{C}I$ к диагонали может это исправить (сделать строго положительно определённым) для достаточно больших $C$, так как новый Гессиан $H(Q') = 2X^T X + \\dfrac{2N}{C}I$ будет иметь положительное диагональное преобладание в главных минорах."
      ]
    },
    {
      "cell_type": "markdown",
      "metadata": {
        "id": "3E2tumAAIWpV"
      },
      "source": [
        "Задача 4.  Предсказываем вероятности.\n",
        "\n",
        "Когда говорят о логистической регрессии, произносят фразу, что она \"предсказывает вероятности положительного класса\". Давайте разберемся, что же за этим стоит. Посчитаем математическое ожидание функции потерь и проверим, что предсказание алгоритма, оптимизирующее это мат. ожидание, будет являться вероятностью положительного класса. \n",
        "\n",
        "И так, функция потерь на объекте $x_i$, который имеет метку $y_i \\in \\{0,1\\}$  для предсказания $a(x_i)$ равна:\n",
        "$$L(y_i, b) =-[y_i == 1] \\log a(x_i)  - [y_i == 0] \\log(1 - a(x_i)) $$\n",
        "\n",
        "Где $[]$ означает индикатор $-$ он равен единице, если значение внутри него истинно, иначе он равен нулю. Тогда мат. ожидание при условии конкретного $x_i$  по определение мат. ожидания дискретной случайной величины:\n",
        "$$E(L | x_i) = -p(y_i = 1 |x_i ) \\log a(x_i)  - p(y_i = 0 | x_i) \\log( 1 - a(x_i))$$\n",
        "* Докажите, что значение $a(x_i)$, минимизирующее данное мат. ожидание, в точности равно $p(y_i = 1 |x_i)$, то есть равно вероятности положительного класса.\n",
        "\n",
        "Подсказка: возможно, придется воспользоваться, что  $p(y_i = 1 | x_i) + p(y_i = 0 | x_i) = 1$"
      ]
    },
    {
      "cell_type": "markdown",
      "metadata": {
        "id": "2jsvbiZVIWpX"
      },
      "source": [
        "***Решение здесь***\n",
        "\n",
        "$E(L | x_i) = -p(y_i == 1 | x_i) \\log a(x_i) + (p(y_i == 1 | x_i) - 1) \\log (1 - a(x_i))$\n",
        "\n",
        "$\\dfrac{\\partial L}{\\partial a(x_i)} = -\\dfrac{p(y_i == 1 | x_i)}{a(x_i)} - \\dfrac{(p(y_i == 1 | x_i) - 1)}{1 - a(x_i)} = 0$ \n",
        "$\\Rightarrow$\n",
        "$0 = (1 - a(x_i))p(y_i == 1 | x_i) + a(x_i)(p(y_i == 1 | x_i) - 1) = p(y_i == 1 | x_i) - a(x_i)$\n",
        "$\\Rightarrow$\n",
        "$a(x_i) = p(y_i == 1 | x_i)$"
      ]
    },
    {
      "cell_type": "markdown",
      "metadata": {
        "id": "c6BNkKNCIWpa"
      },
      "source": [
        "Задача 5.  Смысл регуляризации.\n",
        "\n",
        "Нужно ли в L1/L2 регуляризации использовать свободный член $w_0$ (который не умножается ни на какой признак)?\n",
        "\n",
        "Подсказка: подумайте, для чего мы вводим $w_0$"
      ]
    },
    {
      "cell_type": "markdown",
      "metadata": {
        "id": "uzQobgTdIWpe"
      },
      "source": [
        "***Решение здесь***\n",
        "\n",
        "Вообще говоря, его включать не нужно, так как $w_0$ в скалярном произведении умножается на $x_0 \\equiv 1$, а регляризация проводится с целью пресечь большие изменения функции потерь при малом изменении входных параметров:\n",
        "$w_k < C_1$, \n",
        "$\\|x_i^{(1)} - x_i^{(0)}\\| < \\delta$ \n",
        "$\\Rightarrow$ \n",
        "$dL (w, x_i, y) < \\delta C_2$. \n",
        "Легко видеть, что $da(x_i, w) = d(w^*x_i)$ не зависит от $w_0$ $\\Rightarrow$ его учитывать при регуляризации не обязательно.\n",
        "\n"
      ]
    },
    {
      "cell_type": "markdown",
      "metadata": {
        "id": "878rzA1AIWpj"
      },
      "source": [
        "#  Реализация линейной модели (4 балла)"
      ]
    },
    {
      "cell_type": "markdown",
      "metadata": {
        "id": "RB7OcLCpIWpr"
      },
      "source": [
        "## Зачем нужны батчи?\n"
      ]
    },
    {
      "cell_type": "markdown",
      "metadata": {
        "id": "FlqCZBZuIWpv"
      },
      "source": [
        "Как Вы могли заметить из теоретического введения, что в случае SGD, что в случа mini-batch GD,  на каждой итерации обновление весов  происходит только по небольшой части данных (1 пример в случае SGD, batch примеров в случае mini-batch). То есть для каждой итерации нам *** не нужна вся выборка***. Мы можем просто итерироваться по выборке, беря батч нужного размера (далее 1 объект тоже будем называть батчом).\n",
        "\n",
        "Легко заметить, что в этом случае нам не нужно загружать все данные в оперативную память, достаточно просто считать батч с диска, обновить веса, считать диска другой батч и так далее. В целях упрощения домашней работы, прямо с диска  мы считывать не будем, будем работать с обычными numpy array. \n",
        "\n",
        "\n",
        "\n"
      ]
    },
    {
      "cell_type": "markdown",
      "metadata": {
        "id": "ol0OllIbIWpz"
      },
      "source": [
        "## Немножко про генераторы в Python\n",
        "\n"
      ]
    },
    {
      "cell_type": "markdown",
      "metadata": {
        "id": "QEoeU9OeIWp3"
      },
      "source": [
        "Идея считывания данных кусками удачно ложится на так называемые ***генераторы*** из языка Python. В данной работе Вам предлагается не только разобраться с логистической регрессией, но  и познакомиться с таким важным элементом языка.  При желании Вы можете убрать весь код, связанный с генераторами, и реализовать логистическую регрессию и без них, ***штрафоваться это никак не будет***. Главное, чтобы сама модель была реализована правильно, и все пункты были выполнены. \n",
        "\n",
        "Подробнее можно почитать вот тут https://anandology.com/python-practice-book/iterators.html\n"
      ]
    },
    {
      "cell_type": "markdown",
      "metadata": {
        "id": "7SUrC4LKIWp7"
      },
      "source": [
        "К генератору стоит относиться просто как к функции, которая порождает не один объект, а целую последовательность объектов. Новое значение из последовательности генерируется с помощью ключевого слова ***yield***. Ниже Вы можете насладиться  генератором чисел Фибоначчи."
      ]
    },
    {
      "cell_type": "code",
      "metadata": {
        "id": "lVklJsu1IWp-"
      },
      "source": [
        "def fib(max_iter=4):\n",
        "    a, b = 0, 1\n",
        "    iter_num = 0\n",
        "    while 1:\n",
        "        yield a\n",
        "        a, b = b, a + b\n",
        "        iter_num += 1\n",
        "        if iter_num == max_iter:\n",
        "            break"
      ],
      "execution_count": null,
      "outputs": []
    },
    {
      "cell_type": "markdown",
      "metadata": {
        "id": "_HEOdS5HIWqN"
      },
      "source": [
        "Вот так можно сгенерировать последовательность Фибоначчи. \n",
        "\n",
        "Заметьте, что к генераторам можно применять некоторые стандартные функции из Python, например enumerate."
      ]
    },
    {
      "cell_type": "code",
      "metadata": {
        "id": "b_lm1pDeIWqP",
        "outputId": "5ae2fd1d-424b-4f15-e8c6-8b373bff1542",
        "colab": {
          "base_uri": "https://localhost:8080/"
        }
      },
      "source": [
        "new_generator = fib()\n",
        "for j, fib_val in enumerate(new_generator):\n",
        "    print (\"Fib num: \" + str(j) + \" fib values: \" + str(fib_val))"
      ],
      "execution_count": null,
      "outputs": [
        {
          "output_type": "stream",
          "text": [
            "Fib num: 0 fib values: 0\n",
            "Fib num: 1 fib values: 1\n",
            "Fib num: 2 fib values: 1\n",
            "Fib num: 3 fib values: 2\n"
          ],
          "name": "stdout"
        }
      ]
    },
    {
      "cell_type": "markdown",
      "metadata": {
        "id": "XoaK4_gJIWqg"
      },
      "source": [
        "Пересоздавая объект, можно сколько угодно раз генерировать заново последовательность. "
      ]
    },
    {
      "cell_type": "code",
      "metadata": {
        "id": "f3k53ZmQIWqi",
        "outputId": "1dea3bdb-f79e-4ade-8f4d-7f1dcf254cd3",
        "colab": {
          "base_uri": "https://localhost:8080/"
        }
      },
      "source": [
        "for i in range(0, 3):\n",
        "    new_generator = fib()\n",
        "    for j, fib_val in enumerate(new_generator):\n",
        "        print (\"Fib num: \" + str(j) + \" fib values: \" + str(fib_val))"
      ],
      "execution_count": null,
      "outputs": [
        {
          "output_type": "stream",
          "text": [
            "Fib num: 0 fib values: 0\n",
            "Fib num: 1 fib values: 1\n",
            "Fib num: 2 fib values: 1\n",
            "Fib num: 3 fib values: 2\n",
            "Fib num: 0 fib values: 0\n",
            "Fib num: 1 fib values: 1\n",
            "Fib num: 2 fib values: 1\n",
            "Fib num: 3 fib values: 2\n",
            "Fib num: 0 fib values: 0\n",
            "Fib num: 1 fib values: 1\n",
            "Fib num: 2 fib values: 1\n",
            "Fib num: 3 fib values: 2\n"
          ],
          "name": "stdout"
        }
      ]
    },
    {
      "cell_type": "markdown",
      "metadata": {
        "id": "SfpHzMECIWqz"
      },
      "source": [
        "А вот так уже нельзя."
      ]
    },
    {
      "cell_type": "code",
      "metadata": {
        "id": "HeccmQGvIWq2",
        "outputId": "707a6211-9b12-4f3a-a400-f115504d3915",
        "colab": {
          "base_uri": "https://localhost:8080/"
        }
      },
      "source": [
        "new_generator = fib()\n",
        "for i in range(0, 3):\n",
        "    for j, fib_val in enumerate(new_generator):\n",
        "        print (\"Fib num: \" + str(j) + \" fib values: \" + str(fib_val))"
      ],
      "execution_count": null,
      "outputs": [
        {
          "output_type": "stream",
          "text": [
            "Fib num: 0 fib values: 0\n",
            "Fib num: 1 fib values: 1\n",
            "Fib num: 2 fib values: 1\n",
            "Fib num: 3 fib values: 2\n"
          ],
          "name": "stdout"
        }
      ]
    },
    {
      "cell_type": "markdown",
      "metadata": {
        "id": "dd9ynTBQIWrE"
      },
      "source": [
        "Концепция крайне удобная для обучения  моделей $-$ у Вас есть некий источник данных, который Вам выдает их кусками, и Вам совершенно все равно откуда он их берет. Под ним может скрывать как массив в оперативной памяти, как файл на жестком диске, так и SQL база данных. Вы сами данные никуда не сохраняете, оперативную память экономите."
      ]
    },
    {
      "cell_type": "markdown",
      "metadata": {
        "id": "2cwEzu6jIWrG"
      },
      "source": [
        "Если Вам понравилась идея с генераторами, то Вы можете реализовать свой, используя прототип batch_generator. В нем Вам нужно выдавать батчи признаков и ответов для каждой новой итерации спуска. Если не понравилась идея, то можете реализовывать SGD или mini-batch GD без генераторов."
      ]
    },
    {
      "cell_type": "code",
      "metadata": {
        "id": "LhynggylIWrJ"
      },
      "source": [
        "# %%pycodestyle\n",
        "\n",
        "def batch_generator(X, y, shuffle=True, batch_size=1):\n",
        "    \"\"\"\n",
        "    Гератор новых батчей для обучения\n",
        "    X          - матрица объекты-признаки\n",
        "    y_batch    - вектор ответов\n",
        "    shuffle    - нужно ли случайно перемешивать выборку\n",
        "    batch_size - размер батча ( 1 это SGD, > 1 mini-batch GD)\n",
        "    Генерирует подвыборку для итерации спуска (X_batch, y_batch)\n",
        "    \"\"\"\n",
        "\n",
        "    N, D = X.shape\n",
        "    off = 0\n",
        "    cnt = N // batch_size\n",
        "\n",
        "    if shuffle:\n",
        "        gen = np.random.default_rng()\n",
        "        X = np.concatenate((X, np.reshape(y, (-1, 1))), axis=1)\n",
        "        gen.shuffle(X, axis=0)\n",
        "        X, y = X[:, :-1], X[:, -1]\n",
        "\n",
        "    for i in range(cnt):\n",
        "        X_batch = X[off : off + batch_size]\n",
        "        y_batch = y[off : off + batch_size]\n",
        "        yield (X_batch, y_batch)\n",
        "        off += batch_size\n",
        "\n",
        "# Теперь можно сделать генератор по данным ()\n",
        "# my_batch_generator = batch_generator(X, y, shuffle=True, batch_size=1):"
      ],
      "execution_count": null,
      "outputs": []
    },
    {
      "cell_type": "code",
      "metadata": {
        "id": "YLDOwkjKvJ2C",
        "outputId": "e1371ced-3121-41b3-d5f6-77f2e7970048",
        "colab": {
          "base_uri": "https://localhost:8080/"
        }
      },
      "source": [
        "X = np.arange(60).reshape((20, 3))\n",
        "y = np.zeros(20) \n",
        "gen = batch_generator(X, y, shuffle=False, batch_size=4)\n",
        "for b in gen:\n",
        "    print(list(b))"
      ],
      "execution_count": null,
      "outputs": [
        {
          "output_type": "stream",
          "text": [
            "[array([[ 0,  1,  2],\n",
            "       [ 3,  4,  5],\n",
            "       [ 6,  7,  8],\n",
            "       [ 9, 10, 11]]), array([0., 0., 0., 0.])]\n",
            "[array([[12, 13, 14],\n",
            "       [15, 16, 17],\n",
            "       [18, 19, 20],\n",
            "       [21, 22, 23]]), array([0., 0., 0., 0.])]\n",
            "[array([[24, 25, 26],\n",
            "       [27, 28, 29],\n",
            "       [30, 31, 32],\n",
            "       [33, 34, 35]]), array([0., 0., 0., 0.])]\n",
            "[array([[36, 37, 38],\n",
            "       [39, 40, 41],\n",
            "       [42, 43, 44],\n",
            "       [45, 46, 47]]), array([0., 0., 0., 0.])]\n",
            "[array([[48, 49, 50],\n",
            "       [51, 52, 53],\n",
            "       [54, 55, 56],\n",
            "       [57, 58, 59]]), array([0., 0., 0., 0.])]\n"
          ],
          "name": "stdout"
        }
      ]
    },
    {
      "cell_type": "code",
      "metadata": {
        "id": "V1mG1h2pGCMp"
      },
      "source": [
        "from sklearn.preprocessing import StandardScaler"
      ],
      "execution_count": null,
      "outputs": []
    },
    {
      "cell_type": "code",
      "metadata": {
        "id": "2w7VT6rJIWrY"
      },
      "source": [
        "# %%pycodestyle\n",
        "\n",
        "from sklearn.base import BaseEstimator, ClassifierMixin\n",
        "\n",
        "\n",
        "def sigmoid(x):\n",
        "    \"\"\"\n",
        "    Вычисляем значение сигмоида.\n",
        "    X - выход линейной модели\n",
        "    \"\"\"\n",
        "    x = np.asarray(x)\n",
        "    sigm_value_x = np.exp(-x) + 1\n",
        "    sigm_value_x = 1 / sigm_value_x\n",
        "    return sigm_value_x\n",
        "\n",
        "\n",
        "def safe_log(x):\n",
        "    x = np.where(x <= 0.001, 0.001, x)\n",
        "    x = np.where(x == 1, 1.001, x)\n",
        "    return np.log(x)\n",
        "\n",
        "\n",
        "class MySGDClassifier(BaseEstimator, ClassifierMixin):\n",
        "\n",
        "    def __init__(self, batch_generator, C=1, alpha=0.001, max_epoch=10,\n",
        "                 model_type='lin_reg', batch_size=1, scaler=StandardScaler):\n",
        "        \"\"\"\n",
        "        batch_generator -- функция генератор, которой будем создавать батчи\n",
        "        C - коэф. регуляризации\n",
        "        alpha - скорость спуска\n",
        "        max_epoch - максимальное количество эпох\n",
        "        model_type - тим модели, lin_reg или log_reg\n",
        "        \"\"\"\n",
        "\n",
        "        self.C = C\n",
        "        self.alpha = alpha\n",
        "        self.max_epoch = max_epoch\n",
        "        self.batch_generator = batch_generator\n",
        "        self.errors_log = {'iter' : [], 'loss' : []}  \n",
        "        self.model_type = model_type\n",
        "        self.batch_size = batch_size\n",
        "        self.weights = None\n",
        "        if scaler:\n",
        "            self.scaler = scaler()\n",
        "        else:\n",
        "            self.scaler = None\n",
        "        self.treshold = 0.5\n",
        "        self.dot_on_zeros = None\n",
        "        self.dot_on_ones = None\n",
        "        \n",
        "    def calc_loss(self, X_batch, y_batch):\n",
        "        \"\"\"\n",
        "        Считаем функцию потерь по батчу \n",
        "        X_batch - матрица объекты-признаки по батчу\n",
        "        y_batch - вектор ответов по батчу\n",
        "        Не забудте тип модели (линейная или логистическая регрессия)!\n",
        "        \"\"\"\n",
        "\n",
        "        loss_all = 0\n",
        "        n = X_batch.shape[0]\n",
        "        a = np.dot(X_batch, self.weights)\n",
        "        l2_reg = (self.weights * self.weights).sum() / self.C\n",
        "        if self.model_type == 'lin_reg':  \n",
        "            loss_all = (y_batch - a) ** 2\n",
        "        elif self.model_type == 'log_reg':\n",
        "            sigm_arr = sigmoid(a)\n",
        "            loss_all = -y_batch * safe_log(sigm_arr) - (1 - y_batch) * safe_log(1 - sigm_arr)\n",
        "        loss = np.sum(loss_all) / n + l2_reg\n",
        "        return loss\n",
        "    \n",
        "    def calc_loss_grad(self, X_batch, y_batch):\n",
        "        \"\"\"\n",
        "        Считаем  градиент функции потерь по батчу (то что Вы вывели в задании 1)\n",
        "        X_batch - матрица объекты-признаки по батчу\n",
        "        y_batch - вектор ответов по батчу\n",
        "        Не забудте тип модели (линейная или логистическая регрессия)!\n",
        "        \"\"\"\n",
        "\n",
        "        loss_grad = 0\n",
        "        n = X_batch.shape[0]\n",
        "        a = np.dot(X_batch, self.weights)\n",
        "        if self.model_type == 'lin_reg':\n",
        "            loss_grad = 2 * np.dot(y_batch - a, X_batch)\n",
        "        elif self.model_type == 'log_reg':\n",
        "            loss_grad = np.dot(y_batch - sigmoid(a), X_batch)\n",
        "        loss_grad = -1 / n * loss_grad\n",
        "        return loss_grad\n",
        "    \n",
        "    def update_weights(self, new_grad):\n",
        "        \"\"\"\n",
        "        Обновляем вектор весов\n",
        "        new_grad - градиент по батчу\n",
        "        \"\"\"\n",
        "\n",
        "        w_0 = self.weights[0]\n",
        "        self.weights -= self.alpha / self.C * (self.C * new_grad + 2 * self.weights)\n",
        "        self.weights[0] += 2 * self.alpha / self.C * w_0\n",
        "\n",
        "    def fit(self, X, y):\n",
        "        \"\"\"\n",
        "        Обучение модели\n",
        "        X - матрица объекты-признаки\n",
        "        y - вектор ответов\n",
        "        \"\"\"\n",
        "\n",
        "        X_fit = np.copy(X)\n",
        "        y_fit = np.copy(y)\n",
        "        if self.scaler:\n",
        "            X_fit = self.scaler.fit_transform(X_fit, y_fit)\n",
        "        X_fit = np.c_[np.ones(X_fit.shape[0]), X_fit]\n",
        "        # Нужно инициализровать случайно веса\n",
        "        self.weights = -1 + 2 * np.random.randn(X_fit.shape[1])\n",
        "        for n in range(0, self.max_epoch):\n",
        "            new_epoch_generator = self.batch_generator(X_fit, y_fit, \n",
        "                                                       self.batch_size)\n",
        "            for batch_num, new_batch in enumerate(new_epoch_generator):\n",
        "                X_batch = new_batch[0]\n",
        "                y_batch = new_batch[1]               \n",
        "                batch_loss = self.calc_loss(X_batch, y_batch)\n",
        "                batch_grad = self.calc_loss_grad(X_batch, y_batch)\n",
        "                self.update_weights(batch_grad)\n",
        "                # Подумайте в каком месте стоит посчитать ошибку для отладки модели\n",
        "                # До градиентного шага или после\n",
        "                self.errors_log['iter'].append(batch_num)\n",
        "                self.errors_log['loss'].append(batch_loss)\n",
        "\n",
        "        self.dot_on_zeros = np.dot(X_fit, self.weights)[np.where(y == 0)]\n",
        "        self.dot_on_ones = np.dot(X_fit, self.weights)[np.where(y == 1)]\n",
        "        return self\n",
        "        \n",
        "    def predict(self, X, beta=0.5, method='minmax', trshd=None):\n",
        "        \"\"\"\n",
        "        Предсказание класса\n",
        "        X - матрица объекты-признаки\n",
        "        beta - важность единиц: beta == 1 => recall == 1\n",
        "        Не забудте тип модели (линейная или логистическая регрессия)!\n",
        "        \"\"\"\n",
        "\n",
        "        X_pred = np.copy(X)\n",
        "        if beta is not None:\n",
        "            if method == 'minmax':\n",
        "                tmp = (1 - beta) * self.dot_on_zeros.max()\n",
        "                self.treshold = tmp + beta * self.dot_on_ones.min()\n",
        "            elif method == 'mean':\n",
        "                tmp = (1 - beta) * self.dot_on_zeros.mean()\n",
        "                self.treshold = tmp + beta * self.dot_on_ones.mean()\n",
        "        if trshd is None:\n",
        "            trshd = self.treshold\n",
        "        if self.scaler:\n",
        "            X_pred = self.scaler.transform(X_pred)\n",
        "        X_norm = np.c_[np.ones(X_pred.shape[0]), X_pred]\n",
        "        a = np.dot(X_norm, self.weights)  \n",
        "        if self.model_type == 'lin_reg':\n",
        "            y_hat = (a >= trshd).astype(int)\n",
        "        elif self.model_type == 'log_reg':\n",
        "            y_hat = (sigmoid(a) >= trshd).astype(int)\n",
        "        # Желательно здесь использовать матричные операции между X и весами, например, numpy.dot \n",
        "        return y_hat\n"
      ],
      "execution_count": null,
      "outputs": []
    },
    {
      "cell_type": "markdown",
      "metadata": {
        "id": "I0ey45oIIWrq"
      },
      "source": [
        "Запустите обе регрессии на синтетических данных. \n",
        "\n",
        "\n",
        "Выведите полученные веса и нарисуйте разделяющую границу между классами (используйте только первых два веса для первых двух признаков X[:,0], X[:,1] для отображения в 2d пространство ).  "
      ]
    },
    {
      "cell_type": "code",
      "metadata": {
        "id": "aA_zD0MOIWrs"
      },
      "source": [
        "# %%pycodestyle\n",
        "\n",
        "def plot_decision_boundary(clf, trshd=0.5, color='black'):\n",
        "    w = clf.weights\n",
        "    pts = np.linspace(-2, 7)\n",
        "    print(w, -w[1]/w[2])\n",
        "    plt.plot(pts, -(w[0] - trshd + w[1] * pts) / w[2], color=color)"
      ],
      "execution_count": null,
      "outputs": []
    },
    {
      "cell_type": "code",
      "metadata": {
        "id": "-4dkMrmiIWr5"
      },
      "source": [
        "# %%pycodestyle\n",
        "\n",
        "np.random.seed(0)\n",
        "\n",
        "C1 = np.array([[0., -0.8], [1.5, 0.8]])\n",
        "C2 = np.array([[1., -0.7], [2., 0.7]])\n",
        "gauss1 = np.dot(np.random.randn(200, 2) + np.array([5, 3]), C1)\n",
        "gauss2 = np.dot(np.random.randn(200, 2) + np.array([1.5, 0]), C2)\n",
        "\n",
        "X = np.vstack([gauss1, gauss2])\n",
        "y = np.r_[np.ones(200), np.zeros(200)]\n"
      ],
      "execution_count": null,
      "outputs": []
    },
    {
      "cell_type": "code",
      "metadata": {
        "id": "uy7zqJUhOIL4",
        "outputId": "aea29e03-8d04-4184-ace1-cb93f0277c5f",
        "colab": {
          "base_uri": "https://localhost:8080/"
        }
      },
      "source": [
        "# %%pycodestyle\n",
        "\n",
        "my_clf_lin = MySGDClassifier(batch_generator, alpha=0.0001, max_epoch=10,\n",
        "                             C=0.1, model_type='lin_reg', batch_size=1, scaler=None)\n",
        "my_clf_lin.fit(X, y)"
      ],
      "execution_count": null,
      "outputs": [
        {
          "output_type": "execute_result",
          "data": {
            "text/plain": [
              "MySGDClassifier(C=0.1, alpha=0.0001,\n",
              "                batch_generator=<function batch_generator at 0x7f1658b2f400>,\n",
              "                batch_size=1, max_epoch=10, model_type='lin_reg', scaler=None)"
            ]
          },
          "metadata": {
            "tags": []
          },
          "execution_count": 123
        }
      ]
    },
    {
      "cell_type": "code",
      "metadata": {
        "id": "Z9UmmVYZgneO",
        "outputId": "f82285a8-c17a-476c-d27e-1e16cf13e3ed",
        "colab": {
          "base_uri": "https://localhost:8080/"
        }
      },
      "source": [
        "my_clf_log = MySGDClassifier(batch_generator, alpha=0.01, max_epoch=10,\n",
        "                             C=0.1, model_type='log_reg', batch_size=1, scaler=None)\n",
        "my_clf_log.fit(X, y)"
      ],
      "execution_count": null,
      "outputs": [
        {
          "output_type": "execute_result",
          "data": {
            "text/plain": [
              "MySGDClassifier(C=0.1, alpha=0.01,\n",
              "                batch_generator=<function batch_generator at 0x7f1658b2f400>,\n",
              "                batch_size=1, max_epoch=10, model_type='log_reg', scaler=None)"
            ]
          },
          "metadata": {
            "tags": []
          },
          "execution_count": 126
        }
      ]
    },
    {
      "cell_type": "code",
      "metadata": {
        "id": "86QyXBMtXhX4",
        "outputId": "690a7422-2a30-47a5-fe26-79483a875f3b",
        "colab": {
          "base_uri": "https://localhost:8080/",
          "height": 338
        }
      },
      "source": [
        "y_lin = my_clf_lin.predict(X, beta=0.7, method='minmax')\n",
        "y_log = my_clf_log.predict(X, beta=0.5, method='minmax')\n",
        "plot_decision_boundary(my_clf_lin, trshd=my_clf_lin.treshold, color='black')\n",
        "plot_decision_boundary(my_clf_log, trshd=my_clf_log.treshold, color='red')\n",
        "print(my_clf_lin.treshold, my_clf_log.treshold)\n",
        "\n",
        "plt.scatter(X[:, 0], X[:, 1], c=y)\n",
        "# 1 - right\n",
        "# 0 - left"
      ],
      "execution_count": null,
      "outputs": [
        {
          "output_type": "stream",
          "text": [
            "[-0.14293734  0.10326411 -0.05010776] 2.060840618247396\n",
            "[-0.15049489  0.07624733 -0.01746936] 4.364633370583669\n",
            "0.24062172887645694 0.15284600979165586\n"
          ],
          "name": "stdout"
        },
        {
          "output_type": "execute_result",
          "data": {
            "text/plain": [
              "<matplotlib.collections.PathCollection at 0x7f1647185048>"
            ]
          },
          "metadata": {
            "tags": []
          },
          "execution_count": 127
        },
        {
          "output_type": "display_data",
          "data": {
            "image/png": "[encoded data removed]",
            "text/plain": [
              "<Figure size 432x288 with 1 Axes>"
            ]
          },
          "metadata": {
            "tags": [],
            "needs_background": "light"
          }
        }
      ]
    },
    {
      "cell_type": "markdown",
      "metadata": {
        "id": "rS6lzmLyIWsJ"
      },
      "source": [
        "Далее будем анализировать Ваш алгоритм. \n",
        "Для этих заданий используйте датасет ниже."
      ]
    },
    {
      "cell_type": "code",
      "metadata": {
        "id": "7wLKtckUIWsL"
      },
      "source": [
        "from sklearn.datasets import make_classification"
      ],
      "execution_count": null,
      "outputs": []
    },
    {
      "cell_type": "code",
      "metadata": {
        "id": "7RzPQg4RIWsb"
      },
      "source": [
        "X, y = make_classification(n_samples=100000, n_features=10, \n",
        "                           n_informative=4, n_redundant=0, \n",
        "                           random_state=123, class_sep=1.0,\n",
        "                           n_clusters_per_class=1)"
      ],
      "execution_count": null,
      "outputs": []
    },
    {
      "cell_type": "markdown",
      "metadata": {
        "id": "Pat6S6vOIWsq"
      },
      "source": [
        "Покажите сходимости обеих регрессией на этом датасете: изобразите график  функции потерь, усредненной по $N$ шагам градиентого спуска, для разных `alpha` (размеров шага). Разные `alpha` расположите на одном графике. \n",
        "\n",
        "$N$ можно брать 10, 50, 100 и т.д. "
      ]
    },
    {
      "cell_type": "code",
      "metadata": {
        "id": "v4QrFNyfIWst",
        "outputId": "6b4e9ccb-e573-45c4-b913-fe10cfe1d567",
        "colab": {
          "base_uri": "https://localhost:8080/",
          "height": 504
        }
      },
      "source": [
        "# %%pycodestyle\n",
        "\n",
        "plt.figure(figsize=(15, 8))\n",
        "aplha_arr = [0.0001, 0.001, 0.01, 0.05, 0.1]\n",
        "N = 500\n",
        "for alpha in aplha_arr:\n",
        "    my_clf_log = MySGDClassifier(batch_generator, alpha=alpha, max_epoch=1,\n",
        "                                 C=1, batch_size=100, model_type='log_reg')\n",
        "    my_clf_log.fit(X, y)\n",
        "    steps = len(my_clf_log.errors_log['loss']) // N\n",
        "    losses = []\n",
        "    for i in range(steps):\n",
        "        cur_loss = my_clf_log.errors_log['loss']\n",
        "        losses.append(np.mean(cur_loss[i * N : (i + 1) * N]))\n",
        "    plt.plot(np.arange(len(losses)), losses, label='alpha = {}'.format(alpha))\n",
        "\n",
        "plt.ylim(0, 4)\n",
        "plt.xlabel('Steps')\n",
        "plt.ylabel('LogRegLoss')\n",
        "plt.legend()\n",
        "plt.show()"
      ],
      "execution_count": null,
      "outputs": [
        {
          "output_type": "display_data",
          "data": {
            "image/png": "[encoded data removed]",
            "text/plain": [
              "<Figure size 1080x576 with 1 Axes>"
            ]
          },
          "metadata": {
            "tags": [],
            "needs_background": "light"
          }
        }
      ]
    },
    {
      "cell_type": "code",
      "metadata": {
        "id": "xtyieNUr8QST",
        "outputId": "af4adca1-a1ae-49e2-ab2c-50b60aa7ad60",
        "colab": {
          "base_uri": "https://localhost:8080/",
          "height": 608
        }
      },
      "source": [
        "# %%pycodestyle\n",
        "\n",
        "plt.figure(figsize=(15, 8))\n",
        "aplha_arr = [0.00001, 0.0001, 0.001, 0.01, 0.05, 0.075]\n",
        "N = 500\n",
        "for alpha in aplha_arr:\n",
        "    print(alpha)\n",
        "    my_clf_lin = MySGDClassifier(batch_generator, alpha=alpha, max_epoch=1,\n",
        "                                 C=1, model_type='lin_reg', batch_size=200)\n",
        "    my_clf_lin.fit(X, y)\n",
        "    steps = len(my_clf_lin.errors_log['loss']) // N\n",
        "    losses = []\n",
        "    for i in range(steps):\n",
        "        losses.append(np.mean(my_clf_lin.errors_log['loss'][i * N : (i + 1) * N]))\n",
        "    plt.plot(np.arange(len(losses)), losses, label='alpha = {}'.format(alpha))\n",
        "plt.ylim(0, 2)\n",
        "plt.xlabel('Steps')\n",
        "plt.ylabel('LinRegLoss')\n",
        "plt.legend()\n",
        "plt.show()"
      ],
      "execution_count": null,
      "outputs": [
        {
          "output_type": "stream",
          "text": [
            "1e-05\n",
            "0.0001\n",
            "0.001\n",
            "0.01\n",
            "0.05\n",
            "0.075\n"
          ],
          "name": "stdout"
        },
        {
          "output_type": "display_data",
          "data": {
            "image/png": "[encoded data removed]",
            "text/plain": [
              "<Figure size 1080x576 with 1 Axes>"
            ]
          },
          "metadata": {
            "tags": [],
            "needs_background": "light"
          }
        }
      ]
    },
    {
      "cell_type": "markdown",
      "metadata": {
        "id": "pMUeEfypIWs4"
      },
      "source": [
        "Что Вы можете сказать про сходимость метода при различных `alpha`? Какое значение стоит выбирать для лучшей сходимости?"
      ]
    },
    {
      "cell_type": "markdown",
      "metadata": {
        "id": "qib1JEAqLbvD"
      },
      "source": [
        "***Ответ***\n",
        "\n",
        "При относительно малых $\\alpha$ сходимость медленная, сходимость на графике видна слабо. При $\\alpha = 0.75$ уже наблюдается полное отсутствие сходимости. При тестировании $\\alpha \\geq 0.5$ возникали ошибки переполнения."
      ]
    },
    {
      "cell_type": "markdown",
      "metadata": {
        "id": "ic8kfc-jIWs6"
      },
      "source": [
        "Изобразите график среднего значения весов для обеих регрессий в зависимости от коеф. регуляризации С из `np.logspace(3, -3, 10)` "
      ]
    },
    {
      "cell_type": "code",
      "metadata": {
        "id": "omYG6xjFMxp-",
        "outputId": "1de98a88-9d00-41c4-9984-f12ce4282716",
        "colab": {
          "base_uri": "https://localhost:8080/",
          "height": 699
        }
      },
      "source": [
        "# %%pycodestyle\n",
        "\n",
        "C_arr = np.logspace(3, -3, 10)\n",
        "res1 = []\n",
        "for C in C_arr:\n",
        "    print(C)\n",
        "    my_clf_log = MySGDClassifier(batch_generator, batch_size=200, max_epoch=1,\n",
        "                                 C=C, alpha=0.01, model_type='log_reg')\n",
        "    my_clf_log.fit(X, y)\n",
        "    res1.append(np.linalg.norm(my_clf_log.weights))\n",
        "plt.plot(range(len(C_arr)), np.log2(res1))\n",
        "plt.show()"
      ],
      "execution_count": null,
      "outputs": [
        {
          "output_type": "stream",
          "text": [
            "1000.0\n",
            "215.44346900318845\n",
            "46.4158883361278\n",
            "10.0\n",
            "2.1544346900318843\n",
            "0.4641588833612782\n",
            "0.1\n",
            "0.021544346900318867\n",
            "0.004641588833612782\n"
          ],
          "name": "stdout"
        },
        {
          "output_type": "stream",
          "text": [
            "/usr/local/lib/python3.6/dist-packages/ipykernel_launcher.py:12: RuntimeWarning: overflow encountered in exp\n",
            "  if sys.path[0] == '':\n",
            "/usr/local/lib/python3.6/dist-packages/ipykernel_launcher.py:62: RuntimeWarning: overflow encountered in double_scalars\n",
            "/usr/local/lib/python3.6/dist-packages/numpy/core/_methods.py:38: RuntimeWarning: overflow encountered in reduce\n",
            "  return umr_sum(a, axis, dtype, out, keepdims, initial, where)\n",
            "/usr/local/lib/python3.6/dist-packages/ipykernel_launcher.py:62: RuntimeWarning: overflow encountered in multiply\n",
            "/usr/local/lib/python3.6/dist-packages/ipykernel_launcher.py:96: RuntimeWarning: overflow encountered in multiply\n",
            "/usr/local/lib/python3.6/dist-packages/ipykernel_launcher.py:96: RuntimeWarning: invalid value encountered in subtract\n"
          ],
          "name": "stderr"
        },
        {
          "output_type": "stream",
          "text": [
            "0.001\n"
          ],
          "name": "stdout"
        },
        {
          "output_type": "stream",
          "text": [
            "/usr/local/lib/python3.6/dist-packages/ipykernel_launcher.py:12: RuntimeWarning: overflow encountered in exp\n",
            "  if sys.path[0] == '':\n",
            "/usr/local/lib/python3.6/dist-packages/ipykernel_launcher.py:62: RuntimeWarning: overflow encountered in double_scalars\n",
            "/usr/local/lib/python3.6/dist-packages/numpy/core/_methods.py:38: RuntimeWarning: overflow encountered in reduce\n",
            "  return umr_sum(a, axis, dtype, out, keepdims, initial, where)\n",
            "/usr/local/lib/python3.6/dist-packages/ipykernel_launcher.py:62: RuntimeWarning: overflow encountered in multiply\n",
            "/usr/local/lib/python3.6/dist-packages/ipykernel_launcher.py:96: RuntimeWarning: overflow encountered in multiply\n"
          ],
          "name": "stderr"
        },
        {
          "output_type": "display_data",
          "data": {
            "image/png": "[encoded data removed]",
            "text/plain": [
              "<Figure size 432x288 with 1 Axes>"
            ]
          },
          "metadata": {
            "tags": [],
            "needs_background": "light"
          }
        }
      ]
    },
    {
      "cell_type": "code",
      "metadata": {
        "id": "3yIoAliFRDSG",
        "outputId": "0f0964ff-0837-4bb3-a4b5-fe8b300bd6ca",
        "colab": {
          "base_uri": "https://localhost:8080/",
          "height": 265
        }
      },
      "source": [
        "plt.plot(range(len(C_arr)), res1)\n",
        "plt.show()"
      ],
      "execution_count": null,
      "outputs": [
        {
          "output_type": "display_data",
          "data": {
            "image/png": "[encoded data removed]",
            "text/plain": [
              "<Figure size 432x288 with 1 Axes>"
            ]
          },
          "metadata": {
            "tags": [],
            "needs_background": "light"
          }
        }
      ]
    },
    {
      "cell_type": "code",
      "metadata": {
        "id": "khY6-ezjmmjF",
        "outputId": "f612a474-1531-4eb2-f6ec-41d28f75768b",
        "colab": {
          "base_uri": "https://localhost:8080/",
          "height": 265
        }
      },
      "source": [
        "# %%pycodestyle\n",
        "\n",
        "C_arr = np.logspace(-3, 3, 10)\n",
        "res2 = []\n",
        "for C in C_arr:\n",
        "    my_clf_lin = MySGDClassifier(batch_generator, batch_size=10, max_epoch=1,\n",
        "                                 C=C, alpha=0.0001, model_type='lin_reg')\n",
        "    my_clf_lin.fit(X, y)\n",
        "    res2.append(np.linalg.norm(my_clf_lin.weights))\n",
        "plt.plot(range(len(res2)), np.log2(res2))\n",
        "plt.show()"
      ],
      "execution_count": null,
      "outputs": [
        {
          "output_type": "display_data",
          "data": {
            "image/png": "[encoded data removed]",
            "text/plain": [
              "<Figure size 432x288 with 1 Axes>"
            ]
          },
          "metadata": {
            "tags": [],
            "needs_background": "light"
          }
        }
      ]
    },
    {
      "cell_type": "code",
      "metadata": {
        "id": "1KZ6pBbouUle",
        "outputId": "f25be950-e5a7-4644-e66f-92819e780fb2",
        "colab": {
          "base_uri": "https://localhost:8080/",
          "height": 269
        }
      },
      "source": [
        "# %%pycodestyle\n",
        "\n",
        "plt.plot(range(len(res2)), res2)\n",
        "plt.ylim(0, 2)\n",
        "plt.show()"
      ],
      "execution_count": null,
      "outputs": [
        {
          "output_type": "display_data",
          "data": {
            "image/png": "[encoded data removed]",
            "text/plain": [
              "<Figure size 432x288 with 1 Axes>"
            ]
          },
          "metadata": {
            "tags": [],
            "needs_background": "light"
          }
        }
      ]
    },
    {
      "cell_type": "markdown",
      "metadata": {
        "id": "tZEdW3RJIWtQ"
      },
      "source": [
        "Довольны ли Вы, насколько сильно уменьшились Ваши веса? "
      ]
    },
    {
      "cell_type": "markdown",
      "metadata": {
        "id": "PZDKdK5zm9EV"
      },
      "source": [
        "***Ответ***\n",
        "\n",
        "норма вектора весов стабилизируется при $C \\geq 10^{-1}$ на уровне порядка 10, что хорошо для 11-мерного вектора. "
      ]
    },
    {
      "cell_type": "markdown",
      "metadata": {
        "id": "C_QmGbFhIWtT"
      },
      "source": [
        "# Боевое применение (4  балла)\n",
        "\n",
        "**Защита данной части возможна только при преодолении в проекте бейзлайна Handmade baseline.**"
      ]
    },
    {
      "cell_type": "markdown",
      "metadata": {
        "id": "1MRUQBjkIWtU"
      },
      "source": [
        "Давайте применим модель на итоговом проекте! Датасет сделаем точно таким же образом, как было показано в project_overview.ipynb\n",
        "\n",
        "Применим обе регрессии, подберем для них параметры и сравним качество. Может быть Вы еще одновременно с решением домашней работы подрастете на лидерборде!"
      ]
    },
    {
      "cell_type": "code",
      "metadata": {
        "id": "7i1DjeXYBFh1",
        "outputId": "20030399-1195-4cb0-d0bd-922e492d7a01",
        "colab": {
          "resources": {
            "http://localhost:8080/nbextensions/google.colab/files.js": {
              "data": "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",
              "ok": true,
              "headers": [
                [
                  "content-type",
                  "application/javascript"
                ]
              ],
              "status": 200,
              "status_text": "OK"
            }
          },
          "base_uri": "https://localhost:8080/",
          "height": 179
        }
      },
      "source": [
        "from google.colab import files\n",
        "\n",
        "uploaded = files.upload()"
      ],
      "execution_count": null,
      "outputs": [
        {
          "output_type": "display_data",
          "data": {
            "text/html": [
              "\n",
              "     <input type=\"file\" id=\"files-e05646fc-4f6d-467c-9776-3d39c105f123\" name=\"files[]\" multiple disabled\n",
              "        style=\"border:none\" />\n",
              "     <output id=\"result-e05646fc-4f6d-467c-9776-3d39c105f123\">\n",
              "      Upload widget is only available when the cell has been executed in the\n",
              "      current browser session. Please rerun this cell to enable.\n",
              "      </output>\n",
              "      <script src=\"/nbextensions/google.colab/files.js\"></script> "
            ],
            "text/plain": [
              "<IPython.core.display.HTML object>"
            ]
          },
          "metadata": {
            "tags": []
          }
        },
        {
          "output_type": "stream",
          "text": [
            "Saving train_groups.csv to train_groups.csv\n",
            "Saving test_groups.csv to test_groups.csv\n",
            "Saving sample_submission.csv to sample_submission.csv\n",
            "Saving docs_titles.tsv to docs_titles.tsv\n"
          ],
          "name": "stdout"
        }
      ]
    },
    {
      "cell_type": "code",
      "metadata": {
        "id": "IgOqxt15IWtW",
        "outputId": "b129bb06-9313-4bf2-a833-d0a929267ae4",
        "colab": {
          "base_uri": "https://localhost:8080/"
        }
      },
      "source": [
        "doc_to_title = {}\n",
        "with open('docs_titles.tsv') as f:\n",
        "    for num_line, line in enumerate(f):\n",
        "        if num_line == 0:\n",
        "            continue\n",
        "        data = line.strip().split('\\t', 1)\n",
        "        doc_id = int(data[0])\n",
        "        if len(data) == 1:\n",
        "            title = ''\n",
        "        else:\n",
        "            title = data[1]\n",
        "        doc_to_title[doc_id] = title\n",
        "print(len(doc_to_title))"
      ],
      "execution_count": null,
      "outputs": [
        {
          "output_type": "stream",
          "text": [
            "28026\n"
          ],
          "name": "stdout"
        }
      ]
    },
    {
      "cell_type": "code",
      "metadata": {
        "id": "VQIoKPIsIWt1",
        "outputId": "c1c61391-9706-4df2-d2f4-5db91afd5c91",
        "colab": {
          "base_uri": "https://localhost:8080/"
        }
      },
      "source": [
        "import pandas as pd\n",
        "train_data = pd.read_csv('train_groups.csv')\n",
        "traingroups_titledata = {}\n",
        "for i in range(len(train_data)):\n",
        "    new_doc = train_data.iloc[i]\n",
        "    doc_group = new_doc['group_id']\n",
        "    doc_id = new_doc['doc_id']\n",
        "    target = new_doc['target']\n",
        "    title = doc_to_title[doc_id]\n",
        "    if doc_group not in traingroups_titledata:\n",
        "        traingroups_titledata[doc_group] = []\n",
        "    traingroups_titledata[doc_group].append((doc_id, title, target))\n",
        "type(train_data) #[train_data.group_id == 1 * train_data.target == 1]"
      ],
      "execution_count": null,
      "outputs": [
        {
          "output_type": "execute_result",
          "data": {
            "text/plain": [
              "pandas.core.frame.DataFrame"
            ]
          },
          "metadata": {
            "tags": []
          },
          "execution_count": 141
        }
      ]
    },
    {
      "cell_type": "code",
      "metadata": {
        "id": "A2Apo6LmIWuF",
        "outputId": "6bdba29e-f812-45db-ed47-214710368d68",
        "colab": {
          "base_uri": "https://localhost:8080/"
        }
      },
      "source": [
        "import numpy as np\n",
        "y_train = []\n",
        "X_train = []\n",
        "groups_train = []\n",
        "for new_group in traingroups_titledata:\n",
        "    docs = traingroups_titledata[new_group]\n",
        "    for k, (doc_id, title, target_id) in enumerate(docs):\n",
        "        y_train.append(target_id)\n",
        "        groups_train.append(new_group)\n",
        "        all_dist = []\n",
        "        words = set(title.strip().split())\n",
        "        for j in range(0, len(docs)):\n",
        "            if k == j:\n",
        "                continue\n",
        "            doc_id_j, title_j, target_j = docs[j]\n",
        "            words_j = set(title_j.strip().split())\n",
        "            all_dist.append(len(words.intersection(words_j)))\n",
        "        X_train.append(sorted(all_dist, reverse=True)[0:15]    )\n",
        "X_train = np.array(X_train)\n",
        "y_train = np.array(y_train)\n",
        "groups_train = np.array(groups_train)\n",
        "print (X_train.shape, y_train.shape, groups_train.shape)"
      ],
      "execution_count": null,
      "outputs": [
        {
          "output_type": "stream",
          "text": [
            "(11690, 15) (11690,) (11690,)\n"
          ],
          "name": "stdout"
        }
      ]
    },
    {
      "cell_type": "markdown",
      "metadata": {
        "id": "Xv-sfcSxIWuS"
      },
      "source": [
        "Подберите размер батча для обучения. Линейная модель не должна учиться дольше нескольких минут. \n",
        "\n",
        "Не забывайте использовать скейлер!"
      ]
    },
    {
      "cell_type": "code",
      "metadata": {
        "id": "bFJjl3jAIWuW"
      },
      "source": [
        "from sklearn.metrics import f1_score\n",
        "from sklearn.linear_model import LinearRegression\n",
        "from sklearn.preprocessing import StandardScaler"
      ],
      "execution_count": null,
      "outputs": []
    },
    {
      "cell_type": "code",
      "metadata": {
        "id": "owbUG_4fIWul",
        "outputId": "27fbfc39-8b1e-4fef-a411-9cff5ec700ec",
        "colab": {
          "base_uri": "https://localhost:8080/"
        }
      },
      "source": [
        "N = 10\n",
        "result = {}\n",
        "for b in range(10):\n",
        "    size = 2 ** b\n",
        "    tmp = 0\n",
        "    f1_sum = 0\n",
        "    for i in range(N):\n",
        "        my_clf_lin = MySGDClassifier(batch_generator, alpha=0.01, max_epoch=10, \n",
        "                                     C=1, model_type='lin_reg',\n",
        "                                     batch_size=size)\n",
        "        my_clf_lin.fit(X_train, y_train)\n",
        "        y_pred_lin = my_clf_lin.predict(X_train, beta=0.8, method='minmax')\n",
        "        tmp += (y_pred_lin - y_train == 0).astype(int).mean()\n",
        "        f1_sum += f1_score(y_train, y_pred_lin)\n",
        "    result[b] = tmp / N, f1_sum / N\n",
        "    print(\"Batch_size =\", size, result[b])\n"
      ],
      "execution_count": null,
      "outputs": [
        {
          "output_type": "stream",
          "text": [
            "Batch_size = 1 (0.6651668092386656, 0.5821948298404286)\n",
            "Batch_size = 2 (0.7609923011120616, 0.6173964366385931)\n",
            "Batch_size = 4 (0.6166894781864842, 0.5638130444115881)\n",
            "Batch_size = 8 (0.5881180496150555, 0.5531287588690315)\n",
            "Batch_size = 16 (0.7065098374679214, 0.5701674849447883)\n",
            "Batch_size = 32 (0.6517878528656971, 0.5718608364300648)\n",
            "Batch_size = 64 (0.7116766467065869, 0.5977192104179724)\n",
            "Batch_size = 128 (0.7091274593669803, 0.5944661971846908)\n",
            "Batch_size = 256 (0.6590761334473909, 0.5460434294048095)\n",
            "Batch_size = 512 (0.7105218135158256, 0.5964601601208561)\n"
          ],
          "name": "stdout"
        }
      ]
    },
    {
      "cell_type": "code",
      "metadata": {
        "id": "Ivy6xFvLmtnG",
        "outputId": "94a77d34-bbe4-4dfd-a500-81560e0650d4",
        "colab": {
          "base_uri": "https://localhost:8080/"
        }
      },
      "source": [
        "N = 5\n",
        "result_log = {}\n",
        "for b in range(10):\n",
        "    size = 2 ** b\n",
        "    tmp = 0\n",
        "    f1_sum = 0\n",
        "    for i in range(N):\n",
        "        my_clf_log = MySGDClassifier(batch_generator, alpha=0.01, max_epoch=5,\n",
        "                                     C=1, model_type='log_reg',\n",
        "                                     batch_size=size)\n",
        "        my_clf_log.fit(X_train, y_train)\n",
        "        y_pred_log = my_clf_log.predict(X_train, beta=0.8)\n",
        "        diff = y_pred_log - y_train == 0\n",
        "        tmp += diff.astype(int).sum() / X_train.shape[0]\n",
        "        f1_sum += f1_score(y_train, y_pred_log)\n",
        "    result_log[b] = tmp / N, f1_sum / N\n",
        "    print(\"Batch_size =\", size, result_log[b])"
      ],
      "execution_count": null,
      "outputs": [
        {
          "output_type": "stream",
          "text": [
            "Batch_size = 1 (0.28751069289991443, 0.44661484286758346)\n",
            "Batch_size = 2 (0.28751069289991443, 0.44661484286758346)\n",
            "Batch_size = 4 (0.28751069289991443, 0.44661484286758346)\n",
            "Batch_size = 8 (0.28751069289991443, 0.44661484286758346)\n",
            "Batch_size = 16 (0.28751069289991443, 0.44661484286758346)\n",
            "Batch_size = 32 (0.28751069289991443, 0.44661484286758346)\n",
            "Batch_size = 64 (0.28751069289991443, 0.44661484286758346)\n",
            "Batch_size = 128 (0.28751069289991443, 0.44661484286758346)\n",
            "Batch_size = 256 (0.28751069289991443, 0.44661484286758346)\n",
            "Batch_size = 512 (0.28751069289991443, 0.44661484286758346)\n"
          ],
          "name": "stdout"
        }
      ]
    },
    {
      "cell_type": "code",
      "metadata": {
        "id": "I7FAVMCvOIqX"
      },
      "source": [
        "b_batch_size = 2  # max(result.items(), key=operator.itemgetter(1)[1])[0]"
      ],
      "execution_count": null,
      "outputs": []
    },
    {
      "cell_type": "markdown",
      "metadata": {
        "id": "gWYGKF7yIWvB"
      },
      "source": [
        "Разбейте данные на обучение и валидацию. Подберите параметры C, alpha, max_epoch, model_type на валидации (Вы же помните, как правильно в этой задаче делать валидацию?)"
      ]
    },
    {
      "cell_type": "code",
      "metadata": {
        "id": "dxg7eCQ2IWuy"
      },
      "source": [
        "from sklearn.model_selection import train_test_split"
      ],
      "execution_count": null,
      "outputs": []
    },
    {
      "cell_type": "code",
      "metadata": {
        "id": "CAniwGV09KlA"
      },
      "source": [
        "def grouped_train_val_split(X_train, y_train, gr_train):\n",
        "    gr = np.unique(gr_train)\n",
        "    _, valid = train_test_split(gr, test_size=0.2, shuffle=True)\n",
        "    idx_train = []\n",
        "    idx_valid = []\n",
        "    for idx in range(groups_train.shape[0]):\n",
        "        if groups_train[idx] in set(valid):\n",
        "            idx_valid.append(idx)\n",
        "        else:\n",
        "            idx_train.append(idx)\n",
        "    return (X_train[idx_train, :], X_train[idx_valid, :],\n",
        "            y_train[idx_train], y_train[idx_valid],\n",
        "            gr_train[idx_train], gr_train[idx_valid])"
      ],
      "execution_count": null,
      "outputs": []
    },
    {
      "cell_type": "code",
      "metadata": {
        "id": "jR4TNkQgE1SQ",
        "outputId": "50879708-5542-4c70-d436-8c9be8dcc29d",
        "colab": {
          "base_uri": "https://localhost:8080/"
        }
      },
      "source": [
        "par_res = {}\n",
        "N = 5\n",
        "i = 1\n",
        "for model_type in ['lin_reg', 'log_reg']:\n",
        "    for C in [0.5, 1, 2, 4, 8]:\n",
        "        for alpha in [0.05, 0.025, 0.001]:\n",
        "            for max_epoch in range(1, 8, 3):\n",
        "                par_res[model_type, C, alpha, max_epoch] = 0\n",
        "                for _ in range(N):\n",
        "                    X_tr, X_vl, y_tr, y_vl, gr_tr, gr_vl =\\\n",
        "                        grouped_train_val_split(X_train, y_train, groups_train)\n",
        "                    my_clf = MySGDClassifier(batch_generator, C, alpha,\n",
        "                                             max_epoch, model_type, \n",
        "                                             b_batch_size)\n",
        "                    my_clf.fit(X_tr, y_tr)\n",
        "                    y_pr = my_clf.predict(X_vl, beta=0.8)\n",
        "                    par_res[model_type, C, alpha, max_epoch] += f1_score(y_vl, y_pr)\n",
        "                print(\"Ended:\", i)\n",
        "                i += 1"
      ],
      "execution_count": null,
      "outputs": [
        {
          "output_type": "stream",
          "text": [
            "Ended: 1\n",
            "Ended: 2\n",
            "Ended: 3\n",
            "Ended: 4\n",
            "Ended: 5\n",
            "Ended: 6\n",
            "Ended: 7\n",
            "Ended: 8\n",
            "Ended: 9\n",
            "Ended: 10\n",
            "Ended: 11\n",
            "Ended: 12\n",
            "Ended: 13\n",
            "Ended: 14\n",
            "Ended: 15\n",
            "Ended: 16\n",
            "Ended: 17\n",
            "Ended: 18\n",
            "Ended: 19\n",
            "Ended: 20\n",
            "Ended: 21\n",
            "Ended: 22\n",
            "Ended: 23\n",
            "Ended: 24\n",
            "Ended: 25\n",
            "Ended: 26\n",
            "Ended: 27\n",
            "Ended: 28\n",
            "Ended: 29\n"
          ],
          "name": "stdout"
        },
        {
          "output_type": "stream",
          "text": [
            "/usr/local/lib/python3.6/dist-packages/ipykernel_launcher.py:64: RuntimeWarning: overflow encountered in square\n",
            "/usr/local/lib/python3.6/dist-packages/numpy/core/_methods.py:38: RuntimeWarning: overflow encountered in reduce\n",
            "  return umr_sum(a, axis, dtype, out, keepdims, initial, where)\n",
            "/usr/local/lib/python3.6/dist-packages/ipykernel_launcher.py:62: RuntimeWarning: overflow encountered in multiply\n",
            "/usr/local/lib/python3.6/dist-packages/ipykernel_launcher.py:68: RuntimeWarning: overflow encountered in double_scalars\n",
            "/usr/local/lib/python3.6/dist-packages/ipykernel_launcher.py:64: RuntimeWarning: overflow encountered in square\n",
            "/usr/local/lib/python3.6/dist-packages/numpy/core/_methods.py:38: RuntimeWarning: overflow encountered in reduce\n",
            "  return umr_sum(a, axis, dtype, out, keepdims, initial, where)\n",
            "/usr/local/lib/python3.6/dist-packages/ipykernel_launcher.py:62: RuntimeWarning: overflow encountered in multiply\n",
            "/usr/local/lib/python3.6/dist-packages/ipykernel_launcher.py:64: RuntimeWarning: overflow encountered in square\n",
            "/usr/local/lib/python3.6/dist-packages/numpy/core/_methods.py:38: RuntimeWarning: overflow encountered in reduce\n",
            "  return umr_sum(a, axis, dtype, out, keepdims, initial, where)\n",
            "/usr/local/lib/python3.6/dist-packages/ipykernel_launcher.py:62: RuntimeWarning: overflow encountered in multiply\n",
            "/usr/local/lib/python3.6/dist-packages/ipykernel_launcher.py:68: RuntimeWarning: overflow encountered in double_scalars\n",
            "/usr/local/lib/python3.6/dist-packages/ipykernel_launcher.py:64: RuntimeWarning: overflow encountered in square\n",
            "/usr/local/lib/python3.6/dist-packages/ipykernel_launcher.py:68: RuntimeWarning: overflow encountered in double_scalars\n",
            "/usr/local/lib/python3.6/dist-packages/ipykernel_launcher.py:62: RuntimeWarning: overflow encountered in multiply\n",
            "/usr/local/lib/python3.6/dist-packages/numpy/core/_methods.py:38: RuntimeWarning: overflow encountered in reduce\n",
            "  return umr_sum(a, axis, dtype, out, keepdims, initial, where)\n",
            "/usr/local/lib/python3.6/dist-packages/ipykernel_launcher.py:96: RuntimeWarning: overflow encountered in multiply\n",
            "/usr/local/lib/python3.6/dist-packages/ipykernel_launcher.py:96: RuntimeWarning: invalid value encountered in subtract\n",
            "/usr/local/lib/python3.6/dist-packages/ipykernel_launcher.py:154: RuntimeWarning: invalid value encountered in greater_equal\n",
            "/usr/local/lib/python3.6/dist-packages/ipykernel_launcher.py:64: RuntimeWarning: overflow encountered in square\n",
            "/usr/local/lib/python3.6/dist-packages/numpy/core/_methods.py:38: RuntimeWarning: overflow encountered in reduce\n",
            "  return umr_sum(a, axis, dtype, out, keepdims, initial, where)\n",
            "/usr/local/lib/python3.6/dist-packages/ipykernel_launcher.py:68: RuntimeWarning: overflow encountered in double_scalars\n",
            "/usr/local/lib/python3.6/dist-packages/ipykernel_launcher.py:62: RuntimeWarning: overflow encountered in multiply\n"
          ],
          "name": "stderr"
        },
        {
          "output_type": "stream",
          "text": [
            "Ended: 30\n",
            "Ended: 31\n",
            "Ended: 32\n",
            "Ended: 33\n",
            "Ended: 34\n",
            "Ended: 35\n",
            "Ended: 36\n",
            "Ended: 37\n"
          ],
          "name": "stdout"
        },
        {
          "output_type": "stream",
          "text": [
            "/usr/local/lib/python3.6/dist-packages/ipykernel_launcher.py:64: RuntimeWarning: overflow encountered in square\n",
            "/usr/local/lib/python3.6/dist-packages/ipykernel_launcher.py:68: RuntimeWarning: overflow encountered in double_scalars\n",
            "/usr/local/lib/python3.6/dist-packages/numpy/core/_methods.py:38: RuntimeWarning: overflow encountered in reduce\n",
            "  return umr_sum(a, axis, dtype, out, keepdims, initial, where)\n",
            "/usr/local/lib/python3.6/dist-packages/ipykernel_launcher.py:62: RuntimeWarning: overflow encountered in multiply\n",
            "/usr/local/lib/python3.6/dist-packages/ipykernel_launcher.py:96: RuntimeWarning: overflow encountered in multiply\n",
            "/usr/local/lib/python3.6/dist-packages/ipykernel_launcher.py:96: RuntimeWarning: invalid value encountered in subtract\n",
            "/usr/local/lib/python3.6/dist-packages/ipykernel_launcher.py:154: RuntimeWarning: invalid value encountered in greater_equal\n",
            "/usr/local/lib/python3.6/dist-packages/numpy/core/_methods.py:38: RuntimeWarning: overflow encountered in reduce\n",
            "  return umr_sum(a, axis, dtype, out, keepdims, initial, where)\n",
            "/usr/local/lib/python3.6/dist-packages/ipykernel_launcher.py:64: RuntimeWarning: overflow encountered in square\n",
            "/usr/local/lib/python3.6/dist-packages/ipykernel_launcher.py:62: RuntimeWarning: overflow encountered in multiply\n",
            "/usr/local/lib/python3.6/dist-packages/ipykernel_launcher.py:96: RuntimeWarning: overflow encountered in multiply\n",
            "/usr/local/lib/python3.6/dist-packages/ipykernel_launcher.py:96: RuntimeWarning: invalid value encountered in subtract\n",
            "/usr/local/lib/python3.6/dist-packages/ipykernel_launcher.py:154: RuntimeWarning: invalid value encountered in greater_equal\n",
            "/usr/local/lib/python3.6/dist-packages/ipykernel_launcher.py:64: RuntimeWarning: overflow encountered in square\n",
            "/usr/local/lib/python3.6/dist-packages/numpy/core/_methods.py:38: RuntimeWarning: overflow encountered in reduce\n",
            "  return umr_sum(a, axis, dtype, out, keepdims, initial, where)\n",
            "/usr/local/lib/python3.6/dist-packages/ipykernel_launcher.py:62: RuntimeWarning: overflow encountered in multiply\n",
            "/usr/local/lib/python3.6/dist-packages/ipykernel_launcher.py:64: RuntimeWarning: overflow encountered in square\n",
            "/usr/local/lib/python3.6/dist-packages/numpy/core/_methods.py:38: RuntimeWarning: overflow encountered in reduce\n",
            "  return umr_sum(a, axis, dtype, out, keepdims, initial, where)\n",
            "/usr/local/lib/python3.6/dist-packages/ipykernel_launcher.py:68: RuntimeWarning: overflow encountered in double_scalars\n",
            "/usr/local/lib/python3.6/dist-packages/ipykernel_launcher.py:62: RuntimeWarning: overflow encountered in multiply\n",
            "/usr/local/lib/python3.6/dist-packages/ipykernel_launcher.py:64: RuntimeWarning: overflow encountered in square\n",
            "/usr/local/lib/python3.6/dist-packages/numpy/core/_methods.py:38: RuntimeWarning: overflow encountered in reduce\n",
            "  return umr_sum(a, axis, dtype, out, keepdims, initial, where)\n",
            "/usr/local/lib/python3.6/dist-packages/ipykernel_launcher.py:62: RuntimeWarning: overflow encountered in multiply\n"
          ],
          "name": "stderr"
        },
        {
          "output_type": "stream",
          "text": [
            "Ended: 38\n"
          ],
          "name": "stdout"
        },
        {
          "output_type": "stream",
          "text": [
            "/usr/local/lib/python3.6/dist-packages/ipykernel_launcher.py:64: RuntimeWarning: overflow encountered in square\n",
            "/usr/local/lib/python3.6/dist-packages/ipykernel_launcher.py:62: RuntimeWarning: overflow encountered in multiply\n",
            "/usr/local/lib/python3.6/dist-packages/numpy/core/_methods.py:38: RuntimeWarning: overflow encountered in reduce\n",
            "  return umr_sum(a, axis, dtype, out, keepdims, initial, where)\n",
            "/usr/local/lib/python3.6/dist-packages/ipykernel_launcher.py:96: RuntimeWarning: overflow encountered in multiply\n",
            "/usr/local/lib/python3.6/dist-packages/ipykernel_launcher.py:96: RuntimeWarning: invalid value encountered in subtract\n",
            "/usr/local/lib/python3.6/dist-packages/ipykernel_launcher.py:154: RuntimeWarning: invalid value encountered in greater_equal\n",
            "/usr/local/lib/python3.6/dist-packages/ipykernel_launcher.py:64: RuntimeWarning: overflow encountered in square\n",
            "/usr/local/lib/python3.6/dist-packages/numpy/core/_methods.py:38: RuntimeWarning: overflow encountered in reduce\n",
            "  return umr_sum(a, axis, dtype, out, keepdims, initial, where)\n",
            "/usr/local/lib/python3.6/dist-packages/ipykernel_launcher.py:62: RuntimeWarning: overflow encountered in multiply\n",
            "/usr/local/lib/python3.6/dist-packages/ipykernel_launcher.py:96: RuntimeWarning: overflow encountered in multiply\n",
            "/usr/local/lib/python3.6/dist-packages/ipykernel_launcher.py:96: RuntimeWarning: invalid value encountered in subtract\n",
            "/usr/local/lib/python3.6/dist-packages/ipykernel_launcher.py:154: RuntimeWarning: invalid value encountered in greater_equal\n",
            "/usr/local/lib/python3.6/dist-packages/ipykernel_launcher.py:64: RuntimeWarning: overflow encountered in square\n",
            "/usr/local/lib/python3.6/dist-packages/numpy/core/_methods.py:38: RuntimeWarning: overflow encountered in reduce\n",
            "  return umr_sum(a, axis, dtype, out, keepdims, initial, where)\n",
            "/usr/local/lib/python3.6/dist-packages/ipykernel_launcher.py:62: RuntimeWarning: overflow encountered in multiply\n",
            "/usr/local/lib/python3.6/dist-packages/ipykernel_launcher.py:68: RuntimeWarning: overflow encountered in double_scalars\n",
            "/usr/local/lib/python3.6/dist-packages/ipykernel_launcher.py:96: RuntimeWarning: overflow encountered in multiply\n",
            "/usr/local/lib/python3.6/dist-packages/ipykernel_launcher.py:154: RuntimeWarning: invalid value encountered in greater_equal\n",
            "/usr/local/lib/python3.6/dist-packages/ipykernel_launcher.py:64: RuntimeWarning: overflow encountered in square\n",
            "/usr/local/lib/python3.6/dist-packages/numpy/core/_methods.py:38: RuntimeWarning: overflow encountered in reduce\n",
            "  return umr_sum(a, axis, dtype, out, keepdims, initial, where)\n",
            "/usr/local/lib/python3.6/dist-packages/ipykernel_launcher.py:68: RuntimeWarning: overflow encountered in double_scalars\n",
            "/usr/local/lib/python3.6/dist-packages/ipykernel_launcher.py:62: RuntimeWarning: overflow encountered in multiply\n",
            "/usr/local/lib/python3.6/dist-packages/ipykernel_launcher.py:96: RuntimeWarning: overflow encountered in multiply\n",
            "/usr/local/lib/python3.6/dist-packages/ipykernel_launcher.py:96: RuntimeWarning: invalid value encountered in subtract\n",
            "/usr/local/lib/python3.6/dist-packages/ipykernel_launcher.py:154: RuntimeWarning: invalid value encountered in greater_equal\n",
            "/usr/local/lib/python3.6/dist-packages/ipykernel_launcher.py:64: RuntimeWarning: overflow encountered in square\n",
            "/usr/local/lib/python3.6/dist-packages/numpy/core/_methods.py:38: RuntimeWarning: overflow encountered in reduce\n",
            "  return umr_sum(a, axis, dtype, out, keepdims, initial, where)\n",
            "/usr/local/lib/python3.6/dist-packages/ipykernel_launcher.py:62: RuntimeWarning: overflow encountered in multiply\n",
            "/usr/local/lib/python3.6/dist-packages/ipykernel_launcher.py:96: RuntimeWarning: overflow encountered in multiply\n",
            "/usr/local/lib/python3.6/dist-packages/ipykernel_launcher.py:96: RuntimeWarning: invalid value encountered in subtract\n",
            "/usr/local/lib/python3.6/dist-packages/ipykernel_launcher.py:154: RuntimeWarning: invalid value encountered in greater_equal\n"
          ],
          "name": "stderr"
        },
        {
          "output_type": "stream",
          "text": [
            "Ended: 39\n",
            "Ended: 40\n",
            "Ended: 41\n",
            "Ended: 42\n",
            "Ended: 43\n",
            "Ended: 44\n",
            "Ended: 45\n",
            "Ended: 46\n",
            "Ended: 47\n",
            "Ended: 48\n",
            "Ended: 49\n",
            "Ended: 50\n",
            "Ended: 51\n",
            "Ended: 52\n",
            "Ended: 53\n",
            "Ended: 54\n",
            "Ended: 55\n",
            "Ended: 56\n",
            "Ended: 57\n",
            "Ended: 58\n",
            "Ended: 59\n",
            "Ended: 60\n",
            "Ended: 61\n",
            "Ended: 62\n",
            "Ended: 63\n",
            "Ended: 64\n",
            "Ended: 65\n",
            "Ended: 66\n",
            "Ended: 67\n",
            "Ended: 68\n",
            "Ended: 69\n",
            "Ended: 70\n",
            "Ended: 71\n",
            "Ended: 72\n",
            "Ended: 73\n",
            "Ended: 74\n",
            "Ended: 75\n",
            "Ended: 76\n",
            "Ended: 77\n",
            "Ended: 78\n",
            "Ended: 79\n",
            "Ended: 80\n",
            "Ended: 81\n",
            "Ended: 82\n",
            "Ended: 83\n",
            "Ended: 84\n",
            "Ended: 85\n",
            "Ended: 86\n",
            "Ended: 87\n",
            "Ended: 88\n",
            "Ended: 89\n",
            "Ended: 90\n"
          ],
          "name": "stdout"
        }
      ]
    },
    {
      "cell_type": "code",
      "metadata": {
        "id": "sJ_n--yCdhFg"
      },
      "source": [
        "import operator"
      ],
      "execution_count": null,
      "outputs": []
    },
    {
      "cell_type": "code",
      "metadata": {
        "id": "jHrDtPkAfH9Y",
        "outputId": "2ab1a9a8-6663-4cca-ecf9-2c5963986820",
        "colab": {
          "base_uri": "https://localhost:8080/"
        }
      },
      "source": [
        "b_model_type, b_C, b_alpha, b_max_epoch = max(par_res.items(), key=operator.itemgetter(1))[0]\n",
        "print(\"Max score =\", par_res[b_model_type, b_C, b_alpha, b_max_epoch] / N, end=' ')\n",
        "print(\"at\", b_model_type, b_C, b_alpha, b_max_epoch)"
      ],
      "execution_count": null,
      "outputs": [
        {
          "output_type": "stream",
          "text": [
            "Max score = 0.6594714591674852 at lin_reg 4 0.001 7\n"
          ],
          "name": "stdout"
        }
      ]
    },
    {
      "cell_type": "markdown",
      "metadata": {
        "collapsed": true,
        "id": "F-wUhfhrIWvM"
      },
      "source": [
        "Подберите порог линейной модели, по достижении которого, Вы будете относить объект к классу 1. Вспомните, какую метрику мы оптимизируем в соревновании.  Как тогда правильно подобрать порог?"
      ]
    },
    {
      "cell_type": "code",
      "metadata": {
        "id": "fmDQaLo2IWvN",
        "outputId": "8e4722ae-5687-4d57-92e4-f246e9a3b2a2",
        "colab": {
          "base_uri": "https://localhost:8080/"
        }
      },
      "source": [
        "b_clf = MySGDClassifier(batch_generator, C=b_C, alpha=b_alpha,\n",
        "                        max_epoch=b_max_epoch, model_type=b_model_type,\n",
        "                        batch_size=b_batch_size)\n",
        "N = 5\n",
        "num = 13\n",
        "trshd_res = {}\n",
        "for trshd in np.linspace(0, 3, num=num):\n",
        "    trshd_res[trshd] = 0\n",
        "    for q in range(N):\n",
        "        print(trshd, q)\n",
        "        X_tr, X_vl, y_tr, y_vl, gr_tr, gr_vl =\\\n",
        "                grouped_train_val_split(X_train, y_train, groups_train)\n",
        "        b_clf.fit(X_tr, y_tr)\n",
        "        y_pr = b_clf.predict(X_vl, beta=0.8, trshd=trshd)\n",
        "        trshd_res[trshd] += f1_score(y_vl, y_pr)\n",
        "    trshd_res[trshd] /= N\n",
        "\n",
        "trshd_res['beta'] = 0\n",
        "for _ in range(N):\n",
        "    X_tr, X_vl, y_tr, y_vl, gr_tr, gr_vl =\\\n",
        "            grouped_train_val_split(X_train, y_train, groups_train)\n",
        "    b_clf.fit(X_tr, y_tr)\n",
        "    y_pr = b_clf.predict(X_vl, beta=0.8, trshd=None)\n",
        "    trshd_res['beta'] = f1_score(y_vl, y_pr)\n",
        "trshd_res['beta'] /= N"
      ],
      "execution_count": null,
      "outputs": [
        {
          "output_type": "stream",
          "text": [
            "0.0 0\n",
            "0.0 1\n",
            "0.0 2\n",
            "0.0 3\n",
            "0.0 4\n",
            "0.25 0\n",
            "0.25 1\n",
            "0.25 2\n",
            "0.25 3\n",
            "0.25 4\n",
            "0.5 0\n",
            "0.5 1\n",
            "0.5 2\n",
            "0.5 3\n",
            "0.5 4\n",
            "0.75 0\n",
            "0.75 1\n",
            "0.75 2\n",
            "0.75 3\n",
            "0.75 4\n",
            "1.0 0\n",
            "1.0 1\n",
            "1.0 2\n",
            "1.0 3\n",
            "1.0 4\n",
            "1.25 0\n",
            "1.25 1\n",
            "1.25 2\n",
            "1.25 3\n",
            "1.25 4\n",
            "1.5 0\n",
            "1.5 1\n",
            "1.5 2\n",
            "1.5 3\n",
            "1.5 4\n",
            "1.75 0\n",
            "1.75 1\n",
            "1.75 2\n",
            "1.75 3\n",
            "1.75 4\n",
            "2.0 0\n",
            "2.0 1\n",
            "2.0 2\n",
            "2.0 3\n",
            "2.0 4\n",
            "2.25 0\n",
            "2.25 1\n",
            "2.25 2\n",
            "2.25 3\n",
            "2.25 4\n",
            "2.5 0\n",
            "2.5 1\n",
            "2.5 2\n",
            "2.5 3\n",
            "2.5 4\n",
            "2.75 0\n",
            "2.75 1\n",
            "2.75 2\n",
            "2.75 3\n",
            "2.75 4\n",
            "3.0 0\n",
            "3.0 1\n",
            "3.0 2\n",
            "3.0 3\n",
            "3.0 4\n"
          ],
          "name": "stdout"
        }
      ]
    },
    {
      "cell_type": "code",
      "metadata": {
        "id": "AJOZqG7OIWvY",
        "outputId": "5ef9d713-5631-43e8-be70-debd81608c7d",
        "colab": {
          "base_uri": "https://localhost:8080/"
        }
      },
      "source": [
        "b_trshd = max(trshd_res.items(), key=operator.itemgetter(1))[0]\n",
        "print(\"Max score =\", trshd_res[b_trshd], 'at', b_trshd)"
      ],
      "execution_count": null,
      "outputs": [
        {
          "output_type": "stream",
          "text": [
            "Max score = 0.5923679630211467 at 0.25\n"
          ],
          "name": "stdout"
        }
      ]
    },
    {
      "cell_type": "markdown",
      "metadata": {
        "id": "Swoh-ClHIWvj"
      },
      "source": [
        "С лучшими параметрами на валидации сделайте предсказание на тестовом множестве, отправьте его на проверку на платформу kaggle. Убедитесь, что Вы смогли побить public score первого бейзлайна."
      ]
    },
    {
      "cell_type": "code",
      "metadata": {
        "id": "ggNiGZWh9sq8",
        "outputId": "bc348d59-0a08-43a8-f83a-634262a872f1",
        "colab": {
          "base_uri": "https://localhost:8080/"
        }
      },
      "source": [
        "doc_to_title = {}\n",
        "with open('docs_titles.tsv') as f:\n",
        "    for num_line, line in enumerate(f):\n",
        "        if num_line == 0:\n",
        "            continue\n",
        "        data = line.strip().split('\\t', 1)\n",
        "        doc_id = int(data[0])\n",
        "        if len(data) == 1:\n",
        "            title = ''\n",
        "        else:\n",
        "            title = data[1]\n",
        "        doc_to_title[doc_id] = title\n",
        "print (len(doc_to_title))"
      ],
      "execution_count": null,
      "outputs": [
        {
          "output_type": "stream",
          "text": [
            "28026\n"
          ],
          "name": "stdout"
        }
      ]
    },
    {
      "cell_type": "code",
      "metadata": {
        "id": "TSmw-gMY9sn3",
        "outputId": "50d37d56-a84a-437a-b781-124f0d38e99d",
        "colab": {
          "base_uri": "https://localhost:8080/",
          "height": 206
        }
      },
      "source": [
        "test_data = pd.read_csv('test_groups.csv')\n",
        "testgroups_titledata = {}\n",
        "for i in range(len(test_data)):\n",
        "    new_doc = test_data.iloc[i]\n",
        "    doc_group = new_doc['group_id']\n",
        "    doc_id = new_doc['doc_id']\n",
        "    title = doc_to_title[doc_id]\n",
        "    if doc_group not in testgroups_titledata:\n",
        "        testgroups_titledata[doc_group] = []\n",
        "    testgroups_titledata[doc_group].append((doc_id, title))\n",
        "test_data.head()"
      ],
      "execution_count": null,
      "outputs": [
        {
          "output_type": "execute_result",
          "data": {
            "text/html": [
              "<div>\n",
              "<style scoped>\n",
              "    .dataframe tbody tr th:only-of-type {\n",
              "        vertical-align: middle;\n",
              "    }\n",
              "\n",
              "    .dataframe tbody tr th {\n",
              "        vertical-align: top;\n",
              "    }\n",
              "\n",
              "    .dataframe thead th {\n",
              "        text-align: right;\n",
              "    }\n",
              "</style>\n",
              "<table border=\"1\" class=\"dataframe\">\n",
              "  <thead>\n",
              "    <tr style=\"text-align: right;\">\n",
              "      <th></th>\n",
              "      <th>pair_id</th>\n",
              "      <th>group_id</th>\n",
              "      <th>doc_id</th>\n",
              "    </tr>\n",
              "  </thead>\n",
              "  <tbody>\n",
              "    <tr>\n",
              "      <th>0</th>\n",
              "      <td>11691</td>\n",
              "      <td>130</td>\n",
              "      <td>6710</td>\n",
              "    </tr>\n",
              "    <tr>\n",
              "      <th>1</th>\n",
              "      <td>11692</td>\n",
              "      <td>130</td>\n",
              "      <td>4030</td>\n",
              "    </tr>\n",
              "    <tr>\n",
              "      <th>2</th>\n",
              "      <td>11693</td>\n",
              "      <td>130</td>\n",
              "      <td>5561</td>\n",
              "    </tr>\n",
              "    <tr>\n",
              "      <th>3</th>\n",
              "      <td>11694</td>\n",
              "      <td>130</td>\n",
              "      <td>4055</td>\n",
              "    </tr>\n",
              "    <tr>\n",
              "      <th>4</th>\n",
              "      <td>11695</td>\n",
              "      <td>130</td>\n",
              "      <td>4247</td>\n",
              "    </tr>\n",
              "  </tbody>\n",
              "</table>\n",
              "</div>"
            ],
            "text/plain": [
              "   pair_id  group_id  doc_id\n",
              "0    11691       130    6710\n",
              "1    11692       130    4030\n",
              "2    11693       130    5561\n",
              "3    11694       130    4055\n",
              "4    11695       130    4247"
            ]
          },
          "metadata": {
            "tags": []
          },
          "execution_count": 159
        }
      ]
    },
    {
      "cell_type": "code",
      "metadata": {
        "id": "qnMVeqjP9sky",
        "outputId": "c7ff139e-0f46-49af-cc4a-23eff251a3a8",
        "colab": {
          "base_uri": "https://localhost:8080/"
        }
      },
      "source": [
        "X_test = []\n",
        "groups_test = []\n",
        "for new_group in testgroups_titledata:\n",
        "    docs = testgroups_titledata[new_group]\n",
        "    for k, (doc_id, title) in enumerate(docs):\n",
        "        groups_test.append(new_group)\n",
        "        all_dist = []\n",
        "        words = set(title.strip().split())\n",
        "        for j in range(0, len(docs)):\n",
        "            if k == j:\n",
        "                continue\n",
        "            doc_id_j, title_j = docs[j]\n",
        "            words_j = set(title_j.strip().split())\n",
        "            all_dist.append(len(words.intersection(words_j)))\n",
        "        X_test.append(sorted(all_dist, reverse=True)[0:15]    )\n",
        "X_test = np.array(X_test)\n",
        "groups_test = np.array(groups_test)\n",
        "print(X_test.shape, groups_test.shape)"
      ],
      "execution_count": null,
      "outputs": [
        {
          "output_type": "stream",
          "text": [
            "(16627, 15) (16627,)\n"
          ],
          "name": "stdout"
        }
      ]
    },
    {
      "cell_type": "code",
      "metadata": {
        "id": "yvmY7QXa9shS",
        "outputId": "32ade4d5-ed70-4b3b-9a4f-fa394bbfb23d",
        "colab": {
          "base_uri": "https://localhost:8080/"
        }
      },
      "source": [
        "test_clf = MySGDClassifier(batch_generator, C=b_C, alpha=b_alpha,\n",
        "                           max_epoch=b_max_epoch, model_type=b_model_type,\n",
        "                           batch_size=b_batch_size)\n",
        "# test_clf = MySGDClassifier(batch_generator, C=1000, alpha=0.01,\n",
        "#                            max_epoch=10, model_type='lin_reg',\n",
        "#                            batch_size=10)\n",
        "test_clf.fit(X_train, y_train)"
      ],
      "execution_count": null,
      "outputs": [
        {
          "output_type": "execute_result",
          "data": {
            "text/plain": [
              "MySGDClassifier(C=4, alpha=0.001,\n",
              "                batch_generator=<function batch_generator at 0x7f1658b2f400>,\n",
              "                batch_size=2, max_epoch=7, model_type='lin_reg',\n",
              "                scaler=StandardScaler(copy=True, with_mean=True, with_std=True))"
            ]
          },
          "metadata": {
            "tags": []
          },
          "execution_count": 161
        }
      ]
    },
    {
      "cell_type": "code",
      "metadata": {
        "id": "Ye9XubT0pvhR"
      },
      "source": [
        "y_test_pred = test_clf.predict(X_test, beta=0.77, trshd=0.25)"
      ],
      "execution_count": null,
      "outputs": []
    },
    {
      "cell_type": "code",
      "metadata": {
        "id": "sjDFui8v9saL",
        "outputId": "33792e99-ad0c-413a-ccae-99fcd277dd87",
        "colab": {
          "base_uri": "https://localhost:8080/"
        }
      },
      "source": [
        "print((y_test_pred == 1).astype(int).sum())\n",
        "print((y_test_pred == 0).astype(int).sum())\n",
        "\n",
        "print((y_train == 1).astype(int).sum())\n",
        "print((y_train == 0).astype(int).sum())"
      ],
      "execution_count": null,
      "outputs": [
        {
          "output_type": "stream",
          "text": [
            "4392\n",
            "12235\n",
            "3361\n",
            "8329\n"
          ],
          "name": "stdout"
        }
      ]
    },
    {
      "cell_type": "code",
      "metadata": {
        "id": "QkTHDnmXFRLX",
        "outputId": "ff58c5eb-87eb-474b-bf1c-37fbf41dfe2b",
        "colab": {
          "base_uri": "https://localhost:8080/",
          "height": 238
        }
      },
      "source": [
        "data = {'pair_id': np.asarray(test_data.pair_id), 'target': y_test_pred}\n",
        "df = pd.DataFrame(data=data)\n",
        "df = df.set_index(keys=['pair_id'])\n",
        "df.to_csv('submit2.csv')\n",
        "files.download('submit2.csv')\n",
        "df.head()"
      ],
      "execution_count": null,
      "outputs": [
        {
          "output_type": "display_data",
          "data": {
            "application/javascript": [
              "\n",
              "    async function download(id, filename, size) {\n",
              "      if (!google.colab.kernel.accessAllowed) {\n",
              "        return;\n",
              "      }\n",
              "      const div = document.createElement('div');\n",
              "      const label = document.createElement('label');\n",
              "      label.textContent = `Downloading \"${filename}\": `;\n",
              "      div.appendChild(label);\n",
              "      const progress = document.createElement('progress');\n",
              "      progress.max = size;\n",
              "      div.appendChild(progress);\n",
              "      document.body.appendChild(div);\n",
              "\n",
              "      const buffers = [];\n",
              "      let downloaded = 0;\n",
              "\n",
              "      const channel = await google.colab.kernel.comms.open(id);\n",
              "      // Send a message to notify the kernel that we're ready.\n",
              "      channel.send({})\n",
              "\n",
              "      for await (const message of channel.messages) {\n",
              "        // Send a message to notify the kernel that we're ready.\n",
              "        channel.send({})\n",
              "        if (message.buffers) {\n",
              "          for (const buffer of message.buffers) {\n",
              "            buffers.push(buffer);\n",
              "            downloaded += buffer.byteLength;\n",
              "            progress.value = downloaded;\n",
              "          }\n",
              "        }\n",
              "      }\n",
              "      const blob = new Blob(buffers, {type: 'application/binary'});\n",
              "      const a = document.createElement('a');\n",
              "      a.href = window.URL.createObjectURL(blob);\n",
              "      a.download = filename;\n",
              "      div.appendChild(a);\n",
              "      a.click();\n",
              "      div.remove();\n",
              "    }\n",
              "  "
            ],
            "text/plain": [
              "<IPython.core.display.Javascript object>"
            ]
          },
          "metadata": {
            "tags": []
          }
        },
        {
          "output_type": "display_data",
          "data": {
            "application/javascript": [
              "download(\"download_c1978ac8-f725-4d4f-adfd-586c3f23d628\", \"submit2.csv\", 133031)"
            ],
            "text/plain": [
              "<IPython.core.display.Javascript object>"
            ]
          },
          "metadata": {
            "tags": []
          }
        },
        {
          "output_type": "execute_result",
          "data": {
            "text/html": [
              "<div>\n",
              "<style scoped>\n",
              "    .dataframe tbody tr th:only-of-type {\n",
              "        vertical-align: middle;\n",
              "    }\n",
              "\n",
              "    .dataframe tbody tr th {\n",
              "        vertical-align: top;\n",
              "    }\n",
              "\n",
              "    .dataframe thead th {\n",
              "        text-align: right;\n",
              "    }\n",
              "</style>\n",
              "<table border=\"1\" class=\"dataframe\">\n",
              "  <thead>\n",
              "    <tr style=\"text-align: right;\">\n",
              "      <th></th>\n",
              "      <th>target</th>\n",
              "    </tr>\n",
              "    <tr>\n",
              "      <th>pair_id</th>\n",
              "      <th></th>\n",
              "    </tr>\n",
              "  </thead>\n",
              "  <tbody>\n",
              "    <tr>\n",
              "      <th>11691</th>\n",
              "      <td>0</td>\n",
              "    </tr>\n",
              "    <tr>\n",
              "      <th>11692</th>\n",
              "      <td>0</td>\n",
              "    </tr>\n",
              "    <tr>\n",
              "      <th>11693</th>\n",
              "      <td>1</td>\n",
              "    </tr>\n",
              "    <tr>\n",
              "      <th>11694</th>\n",
              "      <td>1</td>\n",
              "    </tr>\n",
              "    <tr>\n",
              "      <th>11695</th>\n",
              "      <td>0</td>\n",
              "    </tr>\n",
              "  </tbody>\n",
              "</table>\n",
              "</div>"
            ],
            "text/plain": [
              "         target\n",
              "pair_id        \n",
              "11691         0\n",
              "11692         0\n",
              "11693         1\n",
              "11694         1\n",
              "11695         0"
            ]
          },
          "metadata": {
            "tags": []
          },
          "execution_count": 178
        }
      ]
    },
    {
      "cell_type": "code",
      "metadata": {
        "id": "ltRZIlhlJE0a"
      },
      "source": [
        ""
      ],
      "execution_count": null,
      "outputs": []
    },
    {
      "cell_type": "markdown",
      "metadata": {
        "collapsed": true,
        "id": "6y58HUz8IWvl"
      },
      "source": [
        "** При сдаче домашки Вам необходимо кроме ссылки на ноутбук показать Ваш ник на kaggle, под которым Вы залили решение, которое побило Handmade baseline. **"
      ]
    },
    {
      "cell_type": "code",
      "metadata": {
        "id": "LQaquL9kIWvn"
      },
      "source": [
        "Ник: Bulat Valiahmetov"
      ],
      "execution_count": null,
      "outputs": []
    },
    {
      "cell_type": "markdown",
      "metadata": {
        "id": "ok2fRMNoIWvx"
      },
      "source": [
        "# Фидбек (бесценно)"
      ]
    },
    {
      "cell_type": "markdown",
      "metadata": {
        "id": "o9RDrrw-IWv4"
      },
      "source": [
        "* Какие аспекты обучения линейных моделей Вам показались непонятными? Какое место стоит дополнительно объяснить?"
      ]
    },
    {
      "cell_type": "markdown",
      "metadata": {
        "id": "YtYcly1kIWv-"
      },
      "source": [
        "***Ваше ответ здесь***\n",
        "\n",
        "Поначалу было трудно приступить к написанию кода, но потом срослось. Тяжело было понять, как от параметров меняется точность алгоритма, много времени уходило на многократные прогоны с изменениями параметров."
      ]
    },
    {
      "cell_type": "markdown",
      "metadata": {
        "id": "J9VmXukPIWv_"
      },
      "source": [
        "* Здесь Вы можете оставить отзыв о этой домашней работе или о всем курсе.   "
      ]
    },
    {
      "cell_type": "markdown",
      "metadata": {
        "id": "LuFLhpIqIWwC"
      },
      "source": [
        "*** ВАШ ОТЗЫВ ЗДЕСЬ***\n",
        "\n",
        "В целом, интересно. Особенно когда что-то получается :) Хотелось бы чуть больше, наверное, узнать про виды стандартизации и когда какую нужно брать. \n",
        "Понравилось, что в ноутбуке хорошо прописаны шаги выполнения ДЗ - круто!"
      ]
    },
    {
      "cell_type": "code",
      "metadata": {
        "id": "rigLsDuHIWwH"
      },
      "source": [
        ""
      ],
      "execution_count": null,
      "outputs": []
    },
    {
      "cell_type": "code",
      "metadata": {
        "id": "1bKPpsDGIWwV"
      },
      "source": [
        ""
      ],
      "execution_count": null,
      "outputs": []
    }
  ]
}