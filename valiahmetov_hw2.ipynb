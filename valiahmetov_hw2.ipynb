{
  "nbformat": 4,
  "nbformat_minor": 0,
  "metadata": {
    "anaconda-cloud": {},
    "colab": {
      "name": "valiahmetov_hw2.ipynb",
      "provenance": [],
      "collapsed_sections": [
        "ok2fRMNoIWvx"
      ]
    },
    "kernelspec": {
      "display_name": "Python 3",
      "language": "python",
      "name": "python3"
    },
    "language_info": {
      "codemirror_mode": {
        "name": "ipython",
        "version": 3
      },
      "file_extension": ".py",
      "mimetype": "text/x-python",
      "name": "python",
      "nbconvert_exporter": "python",
      "pygments_lexer": "ipython3",
      "version": "3.8.5"
    },
    "nav_menu": {},
    "toc": {
      "colors": {
        "hover_highlight": "#DAA520",
        "navigate_num": "#000000",
        "navigate_text": "#333333",
        "running_highlight": "#FF0000",
        "selected_highlight": "#FFD700",
        "sidebar_border": "#EEEEEE",
        "wrapper_background": "#FFFFFF"
      },
      "moveMenuLeft": true,
      "nav_menu": {
        "height": "402px",
        "width": "253px"
      },
      "navigate_menu": true,
      "number_sections": false,
      "sideBar": true,
      "threshold": 4,
      "toc_cell": false,
      "toc_section_display": "block",
      "toc_window_display": true,
      "widenNotebook": false
    }
  },
  "cells": [
    {
      "cell_type": "markdown",
      "metadata": {
        "id": "_nn3MJ6ZIWnx"
      },
      "source": [
        "# Алгоритмы интеллектуальной обработки больших объемов данных\n",
        "## Домашнее задание №2: Линейные модели\n"
      ]
    },
    {
      "cell_type": "markdown",
      "metadata": {
        "id": "oDIIZiEcIWn4"
      },
      "source": [
        "###### <hr\\>\n",
        "**Общая информация**\n",
        "\n",
        "**Срок сдачи:** 09 ноября 18:00 Сдача **очная** на онлайн занятии. <br\\>\n",
        "\n",
        "\n",
        "Используйте данный Ipython Notebook при оформлении домашнего задания.\n",
        "\n",
        "Присылать ДЗ необходимо в виде ссылки на свой github репозиторий на почту ml1.sphere@mail.ru с указанием темы в следующем формате:\n",
        "\n",
        "[ML0920, Задание 2] Фамилия Имя.\n",
        "\n",
        "\n",
        "\n",
        "**Штрафные баллы:**\n",
        "\n",
        "1. Невыполнение PEP8 -1 балл\n",
        "2. Отсутствие фамилии в имени скрипта (скрипт должен называться по аналогии со stroykova_hw2.ipynb) -1 балл\n",
        "3. Все строчки должны быть выполнены. Нужно, чтобы output команды можно было увидеть уже в git'е. В противном случае -1 балл\n",
        "4. При оформлении ДЗ нужно пользоваться данным файлом в качестве шаблона. Не нужно удалять и видоизменять написанный код и текст, если явно не указана такая возможность. В противном случае -1 балл\n",
        "<hr\\>"
      ]
    },
    {
      "cell_type": "code",
      "metadata": {
        "id": "4UGD6AcEIWoB",
        "outputId": "ae321e71-a7c0-4e55-ee32-0ec08a8fa265",
        "colab": {
          "base_uri": "https://localhost:8080/"
        }
      },
      "source": [
        "import pandas as pd\n",
        "import numpy as np\n",
        "import matplotlib.pyplot as plt\n",
        "\n",
        "%matplotlib inline\n",
        "\n",
        "plt.style.use('ggplot')\n",
        "plt.rcParams['figure.figsize'] = (12,5)\n",
        "\n",
        "!pip install flake8 pycodestyle_magic\n",
        "%load_ext pycodestyle_magic"
      ],
      "execution_count": 1,
      "outputs": [
        {
          "output_type": "stream",
          "text": [
            "Collecting flake8\n",
            "\u001b[?25l  Downloading https://files.pythonhosted.org/packages/d4/ca/3971802ee6251da1abead1a22831d7f4743781e2f743bd266bdd2f46c19b/flake8-3.8.4-py2.py3-none-any.whl (72kB)\n",
            "\u001b[K     |████████████████████████████████| 81kB 2.2MB/s \n",
            "\u001b[?25hCollecting pycodestyle_magic\n",
            "  Downloading https://files.pythonhosted.org/packages/ec/6f/f206894604a44b522bfa3b6264ca6c213bf89f119942dc3f35fc6589954c/pycodestyle_magic-0.5-py2.py3-none-any.whl\n",
            "Collecting pyflakes<2.3.0,>=2.2.0\n",
            "\u001b[?25l  Downloading https://files.pythonhosted.org/packages/69/5b/fd01b0c696f2f9a6d2c839883b642493b431f28fa32b29abc465ef675473/pyflakes-2.2.0-py2.py3-none-any.whl (66kB)\n",
            "\u001b[K     |████████████████████████████████| 71kB 6.0MB/s \n",
            "\u001b[?25hCollecting pycodestyle<2.7.0,>=2.6.0a1\n",
            "\u001b[?25l  Downloading https://files.pythonhosted.org/packages/10/5b/88879fb861ab79aef45c7e199cae3ef7af487b5603dcb363517a50602dd7/pycodestyle-2.6.0-py2.py3-none-any.whl (41kB)\n",
            "\u001b[K     |████████████████████████████████| 51kB 6.2MB/s \n",
            "\u001b[?25hCollecting mccabe<0.7.0,>=0.6.0\n",
            "  Downloading https://files.pythonhosted.org/packages/87/89/479dc97e18549e21354893e4ee4ef36db1d237534982482c3681ee6e7b57/mccabe-0.6.1-py2.py3-none-any.whl\n",
            "Requirement already satisfied: importlib-metadata; python_version < \"3.8\" in /usr/local/lib/python3.6/dist-packages (from flake8) (2.0.0)\n",
            "Requirement already satisfied: zipp>=0.5 in /usr/local/lib/python3.6/dist-packages (from importlib-metadata; python_version < \"3.8\"->flake8) (3.4.0)\n",
            "Installing collected packages: pyflakes, pycodestyle, mccabe, flake8, pycodestyle-magic\n",
            "Successfully installed flake8-3.8.4 mccabe-0.6.1 pycodestyle-2.6.0 pycodestyle-magic-0.5 pyflakes-2.2.0\n"
          ],
          "name": "stdout"
        }
      ]
    },
    {
      "cell_type": "markdown",
      "metadata": {
        "id": "1M9TsixiIWoh"
      },
      "source": [
        "Здравствуйте, уважаемые студенты! \n",
        "\n",
        "В этом задании мы будем реализовать линейные модели. Необходимо реализовать линейную и логистическую регрессии с L2 регуляризацией"
      ]
    },
    {
      "cell_type": "markdown",
      "metadata": {
        "id": "nhDOBoHTIWol"
      },
      "source": [
        "# Теоретическое введение\n",
        "\n"
      ]
    },
    {
      "cell_type": "markdown",
      "metadata": {
        "id": "5d2iFLihIWoo"
      },
      "source": [
        "Линейная регрессия решает задачу регрессии и оптимизирует функцию потерь MSE \n",
        "\n",
        "$$L(w) =  \\frac{1}{N}\\left[\\sum_i (y_i - a_i) ^ 2 \\right], $$ где $y_i$ $-$ целевая функция,  $a_i = a(x_i) =  \\langle\\,x_i,w\\rangle ,$ $-$ предсказание алгоритма на объекте $x_i$, $w$ $-$ вектор весов (размерности $D$), $x_i$ $-$ вектор признаков (такой же размерности $D$).\n",
        "\n",
        "Не забываем, что здесь и далее  мы считаем, что в $x_i$ есть тождественный вектор единиц, ему соответствует вес $w_0$.\n"
      ]
    },
    {
      "cell_type": "markdown",
      "metadata": {
        "id": "wTmk4hnFIWos"
      },
      "source": [
        "Логистическая регрессия является линейным классификатором, который оптимизирует так называемый функционал log loss:"
      ]
    },
    {
      "cell_type": "markdown",
      "metadata": {
        "id": "vXW1GWxJIWox"
      },
      "source": [
        "$$L(w) = - \\frac{1}{N}\\left[\\sum_i y_i \\log a_i + ( 1 - y_i) \\log (1 - a_i) \\right],$$\n",
        "где  $y_i  \\in \\{0,1\\}$ $-$ метка класса, $a_i$ $-$ предсказание алгоритма на объекте $x_i$. Модель пытается предсказать апостериорую вероятность объекта принадлежать к классу \"1\":\n",
        "$$ p(y_i = 1 | x_i) = a(x_i) =  \\sigma( \\langle\\,x_i,w\\rangle ),$$\n",
        "$w$ $-$ вектор весов (размерности $D$), $x_i$ $-$ вектор признаков (такой же размерности $D$).\n",
        "\n",
        "Функция $\\sigma(x)$ $-$ нелинейная функция, пероводящее скалярное произведение объекта на веса в число $\\in (0,1)$ (мы же моделируем вероятность все-таки!)\n",
        "\n",
        "$$\\sigma(x) = \\frac{1}{1 + \\exp(-x)}$$\n",
        "\n",
        "Если внимательно посмотреть на функцию потерь, то можно заметить, что в зависимости от правильного ответа алгоритм штрафуется или функцией $-\\log a_i$, или функцией $-\\log (1 - a_i)$.\n",
        "\n"
      ]
    },
    {
      "cell_type": "markdown",
      "metadata": {
        "id": "tFI-ITeqIWo0"
      },
      "source": [
        "Часто для решения проблем, которые так или иначе связаны с проблемой переобучения, в функционал качества добавляют слагаемое, которое называют ***регуляризацией***. Итоговый функционал для линейной регрессии тогда принимает вид:\n",
        "\n",
        "$$L(w) =  \\frac{1}{N}\\left[\\sum_i (y_i - a_i) ^ 2 \\right] + \\frac{1}{C}R(w) $$\n",
        "\n",
        "Для логистической: \n",
        "$$L(w) = - \\frac{1}{N}\\left[\\sum_i y_i \\log a_i + ( 1 - y_i) \\log (1 - a_i) \\right] +  \\frac{1}{C}R(w)$$\n",
        "\n",
        "Самое понятие регуляризации введено основателем ВМК академиком Тихоновым https://ru.wikipedia.org/wiki/Метод_регуляризации_Тихонова\n",
        "\n",
        "Идейно методика регуляризации заключается в следующем $-$ мы рассматриваем некорректно поставленную задачу (что это такое можно найти в интернете), для того чтобы сузить набор различных вариантов (лучшие из которых будут являться переобучением ) мы вводим дополнительные ограничения на множество искомых решений. На лекции Вы уже рассмотрели два варианта регуляризации.\n",
        "\n",
        "$L1$ регуляризация:\n",
        "$$R(w) = \\sum_{j=1}^{D}|w_j|$$\n",
        "$L2$ регуляризация:\n",
        "$$R(w) =  \\sum_{j=1}^{D}w_j^2$$\n",
        "\n",
        "С их помощью мы ограничиваем модель в  возможности выбора каких угодно весов минимизирующих наш лосс, модель уже не сможет подстроиться под данные как ей угодно. \n",
        "\n",
        "Вам нужно добавить соотвествущую Вашему варианту $L2$ регуляризацию.\n",
        "\n",
        "И так, мы поняли, какую функцию ошибки будем минимизировать, разобрались, как получить предсказания по объекту и обученным весам. Осталось разобраться, как получить оптимальные веса. Для этого нужно выбрать какой-то метод оптимизации.\n",
        "\n"
      ]
    },
    {
      "cell_type": "markdown",
      "metadata": {
        "id": "uZOAPz-BIWo4"
      },
      "source": [
        "Градиентный спуск является самым популярным алгоритмом обучения линейных моделей. В этом задании Вам предложат реализовать стохастический градиентный спуск или  мини-батч градиентный спуск (мини-батч на русский язык довольно сложно перевести, многие переводят это как \"пакетный\", но мне не кажется этот перевод удачным). Далее нам потребуется определение **эпохи**.\n",
        "Эпохой в SGD и MB-GD называется один проход по **всем** объектам в обучающей выборки.\n",
        "* В SGD градиент расчитывается по одному случайному объекту. Сам алгоритм выглядит примерно так:\n",
        "        1) Перемешать выборку\n",
        "        2) Посчитать градиент функции потерь на одном объекте (далее один объект тоже будем называть батчем)\n",
        "        3) Сделать шаг спуска\n",
        "        4) Повторять 2) и 3) пока не пройдет максимальное число эпох.\n",
        "* В Mini Batch SGD - по подвыборке объектов. Сам алгоритм выглядит примерно так::\n",
        "        1) Перемешать выборку, выбрать размер мини-батча (от 1 до размера выборки)\n",
        "        2) Почитать градиент функции потерь по мини-батчу (не забыть поделить на  число объектов в мини-батче)\n",
        "        3) Сделать шаг спуска\n",
        "        4) Повторять 2) и 3) пока не пройдет максимальное число эпох.\n",
        "* Для отладки алгоритма реализуйте возможность  вывода средней ошибки на обучении модели по объектам (мини-батчам). После шага градиентного спуска посчитайте значение ошибки на объекте (или мини-батче), а затем усредните, например, по ста шагам. Если обучение проходит корректно, то мы должны увидеть, что каждые 100 шагов функция потерь уменьшается. \n",
        "* Правило останова - максимальное количество эпох\n",
        "    \n"
      ]
    },
    {
      "cell_type": "markdown",
      "metadata": {
        "id": "n9-4RKhbXLrr"
      },
      "source": [
        ""
      ]
    },
    {
      "cell_type": "markdown",
      "metadata": {
        "id": "5aNL9wfUIWo9"
      },
      "source": [
        "# Теоретические вопросы (2 балла)\n",
        "В этой части Вам будут предложены теоретичские вопросы и задачи по теме. Вы, конечно, можете списать их у своего товарища или найти решение в интернете, но учтите, что они обязательно войдут в теоретический коллоквиум. Лучше разобраться в теме сейчас и успешно ответить на коллоквиуме, чем списать, не разобравшись в материале, и быть терзаемым совестью. \n",
        "\n",
        "\n",
        "Формулы надо оформлять в формате **LaTeX**."
      ]
    },
    {
      "cell_type": "markdown",
      "metadata": {
        "id": "m8SalQ7UIWpA"
      },
      "source": [
        "Задача 1. Градиент для линейной регрессии.\n",
        "* Выпишите формулу обновления весов для линейной регрессии с L2 регуляризацией для мини-батч градиентого спуска размера $n$:\n",
        "\n",
        "$$ w_{new} = w_{old} - ... $$\n",
        "\n",
        " Отнеситесь к этому пункту максимально серьезно, это Вам нужно будет реализовать в задании.\n",
        " \n",
        "Проанализруйте итоговую формулу градиента - как  интуитивно можно  описать, чему равен градиент?"
      ]
    },
    {
      "cell_type": "markdown",
      "metadata": {
        "id": "AT7XYxOTIWpE"
      },
      "source": [
        "***Решение здесь***\n",
        "\n",
        "$Q = \\dfrac{1}{n}\\sum\\limits_{k=1}^{n} L(w, x_{j_k}, y_{j_k}) + \\dfrac{1}{C} w^*w$, \n",
        "\n",
        "$L(w, x, y) = (y - w^*x)^2$\n",
        "\n",
        "$w_{new} = w_{old} - \\alpha\\nabla_w Q$\n",
        "\n",
        "$\\nabla_w L = -2(y - w^*x)x$\n",
        "\n",
        "$ w_{new} = w_{old} + \\dfrac{2\\alpha}{n}\\sum\\limits_{k=1}^{n} (y_{j_k} - w^*x_{j_k})x_{j_k} - \\dfrac{2\\alpha}{C}w_{old}$, \n",
        "где $\\{j_1, \\ldots, j_n\\}$ - случайный набор уникальных индексов из набора $\\{1, \\ldots, n\\}$, \n",
        "$\\alpha$ - зависящая от номера шага невозрастающая функция, например, $\\alpha = \\dfrac{1}{(\\text{номер шага})^p}$.\n",
        "\n",
        "Интуитивный градиент: линейная комбинация точек выборки с весами, равными ошибкам в соответствующих точках, взятым с обратным знаком"
      ]
    },
    {
      "cell_type": "markdown",
      "metadata": {
        "id": "-5mfcrHoIWpH"
      },
      "source": [
        "Задача 2. Градиент для логистической регрессии.\n",
        "* Выпишите формулу обновления весов для логистической регрессии с L2 регуляризацией  для мини-батч градиентого спуска размера $n$:\n",
        "\n",
        "$$ w_{new} = w_{old} - ... $$\n",
        "\n",
        " Отнеситесь к этому пункту максимально серьезно, это Вам нужно будет реализовать в задании.\n",
        " \n",
        "Проанализруйте итоговую формулу градиента - как  интуитивно можно  описать, чему равен градиент? Как соотносится этот градиент с градиентом, возникающий в задаче линейной регрессии?\n",
        "\n",
        "Подсказка: Вам градиент, которой получается если “в лоб” продифференцировать,  надо немного преобразовать.\n",
        "Надо подставить, что $1 - \\sigma(w,x) $ это  $1 - a(x_i)$, а  $-\\sigma(w,x)$ это $0 - a(x_i)$.  Тогда получится свести к одной красивой формуле с линейной регрессией, которую программировать будет намного проще."
      ]
    },
    {
      "cell_type": "markdown",
      "metadata": {
        "id": "29hWf39JIWpI"
      },
      "source": [
        "***Решение здесь***\n",
        "\n",
        "$Q = \\dfrac{1}{n}\\sum\\limits_{k=1}^{n} L(w, x_{j_k}, y_{j_k}) + \\dfrac{1}{C} w^*w$, \n",
        "\n",
        "$L(w, x, y)) = -[y\\log(\\sigma(w^*x)) + (1 - y)\\log(1 - \\sigma(w^*x))]$\n",
        "\n",
        "$w_{new} = w_{old} - \\alpha\\nabla_w Q$\n",
        "\n",
        "$\\nabla_w L = -\\dfrac{y}{\\sigma(w^*x)}\\sigma'(w^*x)\\nabla(w^*x) -\\dfrac{1 - y}{1 - \\sigma(w^*x)}(-\\sigma'(w^*x))\\nabla(w^*x)$, $\\,\\,$ \n",
        "$\\sigma'(z) = \\sigma(z)(1 - \\sigma(z))$ \n",
        "$\\Rightarrow$ \n",
        "$\\nabla_w L = -y(1 - \\sigma(w^*x))x + (1 - y)\\sigma(w^*x)x = -(y - \\sigma(w^*x))x$\n",
        "\n",
        "$w_{new} = w_{old} + \\dfrac{\\alpha}{n}\\sum\\limits_{k=1}^{n} (y_{j_k}-\\sigma(w^*x_{j_k}))x_{j_k} - \\dfrac{2\\alpha}{C} w_{old}$, \n",
        "где $\\{j_1, \\ldots, j_n\\}$ - случайный набор уникальных индексов из набора $\\{1, \\ldots, n\\}$, \n",
        "$\\alpha$ - зависящая от номера шага невозрастающая функция, например, $\\alpha = \\dfrac{1}{(\\text{номер шага})^p}$."
      ]
    },
    {
      "cell_type": "markdown",
      "metadata": {
        "id": "fj9uiFAUIWpL"
      },
      "source": [
        "Задача 3. Точное решение линейной регрессии\n",
        "\n",
        "На лекции было показано, что точное решение линейной регрессии имеет вид $w = (X^TX)^{-1}X^TY $. \n",
        "* Покажите, что это действительно является точкой минимума в случае, если матрица X имеет строк не меньше, чем столбцов и имеет полный ранг. Подсказка: посчитайте Гессиан и покажите, что в этом случае он положительно определен. \n",
        "* Выпишите точное решение для модели с $L2$ регуляризацией. Как L2 регуляризация помогает с точным решением где матрица X имеет линейно зависимые признаки?"
      ]
    },
    {
      "cell_type": "markdown",
      "metadata": {
        "id": "813ITL92IWpQ"
      },
      "source": [
        "***Решение здесь***\n",
        "\n",
        "Задача 1: минимизировать $Q(w) = \\dfrac{1}{N}(Xw - y)^*(Xw-y)$. Рассмотрим вещественный случай и перейдём от эрмитова сопряжения к транспонированию, а также будем рассматривать $NQ$ вместо $Q$.\n",
        "\n",
        "$\\nabla_w Q = 2X^TXw - 2X^Ty = 0$ $\\Rightarrow$ $w_0 = (X^TX)^{-1}X^Ty$\n",
        "\n",
        "$H(Q) = [\\nabla_w [\\nabla_w Q]_1, \\nabla_w [\\nabla_w Q]_2, \\ldots, \\nabla_w [\\nabla_w Q]_D] = $ \n",
        "$2[\\nabla_w ([X^T]_1 Xw), \\nabla_w ([X^T]_2 Xw, \\ldots, \\nabla_w ([X^T]_D Xw))]$,\n",
        "здесь индексы $1, 2, \\ldots, D$ обозначают строки. \n",
        "\n",
        "$H(Q) = 2[X^T[X^T]_1^T, X^T[X^T]_2^T, \\ldots, X^T[X^T]_D^T] = 2X^T (X^T)^T = 2X^T X > 0$, так как $(X^TXz, z) = (Xz, Xz) > 0$ $\\forall z \\neq 0$ $\\Rightarrow w_0$ - точка минимума $Q$, причём глобального, так как это единственная точка экстремума.\n",
        "\n",
        "\n",
        "Задача 2: минимизировать $Q'(w) = \\dfrac{1}{N}(Xw - y)^T(Xw-y) + \\dfrac{1}{C} w^Tw$.\n",
        "\n",
        "Рассмотрим $NQ'$ вместо $Q'$.\n",
        "\n",
        "$\\nabla_W Q' = 2X^TXw - 2X^Ty + \\dfrac{2N}{C}w = 0$\n",
        "$\\Rightarrow$ $w_0' = (X^T X + \\dfrac{N}{C}I)^{-1}X^Ty$.\n",
        "\n",
        "Если матрица $X$ имеет линейно зависимые строки, то Гессиан в исходно задаче только неотрицательно определён. Тогда добавка $\\dfrac{2N}{C}I$ к диагонали может это исправить (сделать строго положительно определённым) для достаточно больших $C$, так как новый Гессиан $H(Q') = 2X^T X + \\dfrac{2N}{C}I$ будет иметь положительное диагональное преобладание в главных минорах."
      ]
    },
    {
      "cell_type": "markdown",
      "metadata": {
        "id": "3E2tumAAIWpV"
      },
      "source": [
        "Задача 4.  Предсказываем вероятности.\n",
        "\n",
        "Когда говорят о логистической регрессии, произносят фразу, что она \"предсказывает вероятности положительного класса\". Давайте разберемся, что же за этим стоит. Посчитаем математическое ожидание функции потерь и проверим, что предсказание алгоритма, оптимизирующее это мат. ожидание, будет являться вероятностью положительного класса. \n",
        "\n",
        "И так, функция потерь на объекте $x_i$, который имеет метку $y_i \\in \\{0,1\\}$  для предсказания $a(x_i)$ равна:\n",
        "$$L(y_i, b) =-[y_i == 1] \\log a(x_i)  - [y_i == 0] \\log(1 - a(x_i)) $$\n",
        "\n",
        "Где $[]$ означает индикатор $-$ он равен единице, если значение внутри него истинно, иначе он равен нулю. Тогда мат. ожидание при условии конкретного $x_i$  по определение мат. ожидания дискретной случайной величины:\n",
        "$$E(L | x_i) = -p(y_i = 1 |x_i ) \\log a(x_i)  - p(y_i = 0 | x_i) \\log( 1 - a(x_i))$$\n",
        "* Докажите, что значение $a(x_i)$, минимизирующее данное мат. ожидание, в точности равно $p(y_i = 1 |x_i)$, то есть равно вероятности положительного класса.\n",
        "\n",
        "Подсказка: возможно, придется воспользоваться, что  $p(y_i = 1 | x_i) + p(y_i = 0 | x_i) = 1$"
      ]
    },
    {
      "cell_type": "markdown",
      "metadata": {
        "id": "2jsvbiZVIWpX"
      },
      "source": [
        "***Решение здесь***\n",
        "\n",
        "$E(L | x_i) = -p(y_i == 1 | x_i) \\log a(x_i) + (p(y_i == 1 | x_i) - 1) \\log (1 - a(x_i))$\n",
        "\n",
        "$\\dfrac{\\partial L}{\\partial a(x_i)} = -\\dfrac{p(y_i == 1 | x_i)}{a(x_i)} - \\dfrac{(p(y_i == 1 | x_i) - 1)}{1 - a(x_i)} = 0$ \n",
        "$\\Rightarrow$\n",
        "$0 = (1 - a(x_i))p(y_i == 1 | x_i) + a(x_i)(p(y_i == 1 | x_i) - 1) = p(y_i == 1 | x_i) - a(x_i)$\n",
        "$\\Rightarrow$\n",
        "$a(x_i) = p(y_i == 1 | x_i)$"
      ]
    },
    {
      "cell_type": "markdown",
      "metadata": {
        "id": "c6BNkKNCIWpa"
      },
      "source": [
        "Задача 5.  Смысл регуляризации.\n",
        "\n",
        "Нужно ли в L1/L2 регуляризации использовать свободный член $w_0$ (который не умножается ни на какой признак)?\n",
        "\n",
        "Подсказка: подумайте, для чего мы вводим $w_0$"
      ]
    },
    {
      "cell_type": "markdown",
      "metadata": {
        "id": "uzQobgTdIWpe"
      },
      "source": [
        "***Решение здесь***\n",
        "\n",
        "Вообще говоря, его включать не нужно, так как $w_0$ в скалярном произведении умножается на $x_0 \\equiv 1$, а регляризация проводится с целью пресечь большие изменения функции потерь при малом изменении входных параметров:\n",
        "$w_k < C_1$, \n",
        "$\\|x_i^{(1)} - x_i^{(0)}\\| < \\delta$ \n",
        "$\\Rightarrow$ \n",
        "$dL (w, x_i, y) < \\delta C_2$. \n",
        "Легко видеть, что $da(x_i, w) = d(w^*x_i)$ не зависит от $w_0$ $\\Rightarrow$ его учитывать при регуляризации не обязательно.\n",
        "\n"
      ]
    },
    {
      "cell_type": "markdown",
      "metadata": {
        "id": "878rzA1AIWpj"
      },
      "source": [
        "#  Реализация линейной модели (4 балла)"
      ]
    },
    {
      "cell_type": "markdown",
      "metadata": {
        "id": "RB7OcLCpIWpr"
      },
      "source": [
        "## Зачем нужны батчи?\n"
      ]
    },
    {
      "cell_type": "markdown",
      "metadata": {
        "id": "FlqCZBZuIWpv"
      },
      "source": [
        "Как Вы могли заметить из теоретического введения, что в случае SGD, что в случа mini-batch GD,  на каждой итерации обновление весов  происходит только по небольшой части данных (1 пример в случае SGD, batch примеров в случае mini-batch). То есть для каждой итерации нам *** не нужна вся выборка***. Мы можем просто итерироваться по выборке, беря батч нужного размера (далее 1 объект тоже будем называть батчом).\n",
        "\n",
        "Легко заметить, что в этом случае нам не нужно загружать все данные в оперативную память, достаточно просто считать батч с диска, обновить веса, считать диска другой батч и так далее. В целях упрощения домашней работы, прямо с диска  мы считывать не будем, будем работать с обычными numpy array. \n",
        "\n",
        "\n",
        "\n"
      ]
    },
    {
      "cell_type": "markdown",
      "metadata": {
        "id": "ol0OllIbIWpz"
      },
      "source": [
        "## Немножко про генераторы в Python\n",
        "\n"
      ]
    },
    {
      "cell_type": "markdown",
      "metadata": {
        "id": "QEoeU9OeIWp3"
      },
      "source": [
        "Идея считывания данных кусками удачно ложится на так называемые ***генераторы*** из языка Python. В данной работе Вам предлагается не только разобраться с логистической регрессией, но  и познакомиться с таким важным элементом языка.  При желании Вы можете убрать весь код, связанный с генераторами, и реализовать логистическую регрессию и без них, ***штрафоваться это никак не будет***. Главное, чтобы сама модель была реализована правильно, и все пункты были выполнены. \n",
        "\n",
        "Подробнее можно почитать вот тут https://anandology.com/python-practice-book/iterators.html\n"
      ]
    },
    {
      "cell_type": "markdown",
      "metadata": {
        "id": "7SUrC4LKIWp7"
      },
      "source": [
        "К генератору стоит относиться просто как к функции, которая порождает не один объект, а целую последовательность объектов. Новое значение из последовательности генерируется с помощью ключевого слова ***yield***. Ниже Вы можете насладиться  генератором чисел Фибоначчи."
      ]
    },
    {
      "cell_type": "code",
      "metadata": {
        "id": "lVklJsu1IWp-"
      },
      "source": [
        "def fib(max_iter=4):\n",
        "    a, b = 0, 1\n",
        "    iter_num = 0\n",
        "    while 1:\n",
        "        yield a\n",
        "        a, b = b, a + b\n",
        "        iter_num += 1\n",
        "        if iter_num == max_iter:\n",
        "            break"
      ],
      "execution_count": 2,
      "outputs": []
    },
    {
      "cell_type": "markdown",
      "metadata": {
        "id": "_HEOdS5HIWqN"
      },
      "source": [
        "Вот так можно сгенерировать последовательность Фибоначчи. \n",
        "\n",
        "Заметьте, что к генераторам можно применять некоторые стандартные функции из Python, например enumerate."
      ]
    },
    {
      "cell_type": "code",
      "metadata": {
        "id": "b_lm1pDeIWqP",
        "outputId": "a1440210-9f5c-4946-c246-a999daf318ae",
        "colab": {
          "base_uri": "https://localhost:8080/"
        }
      },
      "source": [
        "new_generator = fib()\n",
        "for j, fib_val in enumerate(new_generator):\n",
        "    print (\"Fib num: \" + str(j) + \" fib values: \" + str(fib_val))"
      ],
      "execution_count": 3,
      "outputs": [
        {
          "output_type": "stream",
          "text": [
            "Fib num: 0 fib values: 0\n",
            "Fib num: 1 fib values: 1\n",
            "Fib num: 2 fib values: 1\n",
            "Fib num: 3 fib values: 2\n"
          ],
          "name": "stdout"
        }
      ]
    },
    {
      "cell_type": "markdown",
      "metadata": {
        "id": "XoaK4_gJIWqg"
      },
      "source": [
        "Пересоздавая объект, можно сколько угодно раз генерировать заново последовательность. "
      ]
    },
    {
      "cell_type": "code",
      "metadata": {
        "id": "f3k53ZmQIWqi",
        "outputId": "e311ccd0-a009-4afd-e064-a6636af27d04",
        "colab": {
          "base_uri": "https://localhost:8080/"
        }
      },
      "source": [
        "for i in range(0, 3):\n",
        "    new_generator = fib()\n",
        "    for j, fib_val in enumerate(new_generator):\n",
        "        print (\"Fib num: \" + str(j) + \" fib values: \" + str(fib_val))"
      ],
      "execution_count": 4,
      "outputs": [
        {
          "output_type": "stream",
          "text": [
            "Fib num: 0 fib values: 0\n",
            "Fib num: 1 fib values: 1\n",
            "Fib num: 2 fib values: 1\n",
            "Fib num: 3 fib values: 2\n",
            "Fib num: 0 fib values: 0\n",
            "Fib num: 1 fib values: 1\n",
            "Fib num: 2 fib values: 1\n",
            "Fib num: 3 fib values: 2\n",
            "Fib num: 0 fib values: 0\n",
            "Fib num: 1 fib values: 1\n",
            "Fib num: 2 fib values: 1\n",
            "Fib num: 3 fib values: 2\n"
          ],
          "name": "stdout"
        }
      ]
    },
    {
      "cell_type": "markdown",
      "metadata": {
        "id": "SfpHzMECIWqz"
      },
      "source": [
        "А вот так уже нельзя."
      ]
    },
    {
      "cell_type": "code",
      "metadata": {
        "id": "HeccmQGvIWq2",
        "outputId": "0af6ee69-834c-4e9b-a761-8be0ceec4148",
        "colab": {
          "base_uri": "https://localhost:8080/"
        }
      },
      "source": [
        "new_generator = fib()\n",
        "for i in range(0, 3):\n",
        "    for j, fib_val in enumerate(new_generator):\n",
        "        print (\"Fib num: \" + str(j) + \" fib values: \" + str(fib_val))"
      ],
      "execution_count": 5,
      "outputs": [
        {
          "output_type": "stream",
          "text": [
            "Fib num: 0 fib values: 0\n",
            "Fib num: 1 fib values: 1\n",
            "Fib num: 2 fib values: 1\n",
            "Fib num: 3 fib values: 2\n"
          ],
          "name": "stdout"
        }
      ]
    },
    {
      "cell_type": "markdown",
      "metadata": {
        "id": "dd9ynTBQIWrE"
      },
      "source": [
        "Концепция крайне удобная для обучения  моделей $-$ у Вас есть некий источник данных, который Вам выдает их кусками, и Вам совершенно все равно откуда он их берет. Под ним может скрывать как массив в оперативной памяти, как файл на жестком диске, так и SQL база данных. Вы сами данные никуда не сохраняете, оперативную память экономите."
      ]
    },
    {
      "cell_type": "markdown",
      "metadata": {
        "id": "2cwEzu6jIWrG"
      },
      "source": [
        "Если Вам понравилась идея с генераторами, то Вы можете реализовать свой, используя прототип batch_generator. В нем Вам нужно выдавать батчи признаков и ответов для каждой новой итерации спуска. Если не понравилась идея, то можете реализовывать SGD или mini-batch GD без генераторов."
      ]
    },
    {
      "cell_type": "code",
      "metadata": {
        "id": "LhynggylIWrJ"
      },
      "source": [
        "# %%pycodestyle\n",
        "\n",
        "def batch_generator(X, y, shuffle=True, batch_size=1):\n",
        "    \"\"\"\n",
        "    Гератор новых батчей для обучения\n",
        "    X          - матрица объекты-признаки\n",
        "    y_batch    - вектор ответов\n",
        "    shuffle    - нужно ли случайно перемешивать выборку\n",
        "    batch_size - размер батча ( 1 это SGD, > 1 mini-batch GD)\n",
        "    Генерирует подвыборку для итерации спуска (X_batch, y_batch)\n",
        "    \"\"\"\n",
        "\n",
        "    N, D = X.shape\n",
        "    idx = np.arange(N)\n",
        "    off = 0\n",
        "    cnt = N // batch_size\n",
        "\n",
        "    if shuffle:\n",
        "        gen = np.random.default_rng()\n",
        "        X = np.concatenate((X, np.reshape(y, (-1, 1))), axis=1)\n",
        "        gen.shuffle(X, axis=0)\n",
        "        X, y = X[:, :-1], X[:, -1]\n",
        "    X_batch = X[0:batch_size]\n",
        "    y_batch = y[0:batch_size]\n",
        "    for i in range(cnt):\n",
        "        X_batch = X[off : off + batch_size]\n",
        "        y_batch = y[off : off + batch_size]\n",
        "        yield (X_batch, y_batch)\n",
        "        off += batch_size\n",
        "\n",
        "# Теперь можно сделать генератор по данным ()\n",
        "# my_batch_generator = batch_generator(X, y, shuffle=True, batch_size=1):"
      ],
      "execution_count": 6,
      "outputs": []
    },
    {
      "cell_type": "code",
      "metadata": {
        "id": "YLDOwkjKvJ2C",
        "outputId": "dc72d50c-62b2-4d82-ec56-3845499f92a2",
        "colab": {
          "base_uri": "https://localhost:8080/"
        }
      },
      "source": [
        "X = np.arange(60).reshape((20, 3))\n",
        "y = np.zeros(20) \n",
        "gen = batch_generator(X, y, shuffle=False, batch_size=4)\n",
        "for b in gen:\n",
        "    print(list(b))"
      ],
      "execution_count": 7,
      "outputs": [
        {
          "output_type": "stream",
          "text": [
            "[array([[ 0,  1,  2],\n",
            "       [ 3,  4,  5],\n",
            "       [ 6,  7,  8],\n",
            "       [ 9, 10, 11]]), array([0., 0., 0., 0.])]\n",
            "[array([[12, 13, 14],\n",
            "       [15, 16, 17],\n",
            "       [18, 19, 20],\n",
            "       [21, 22, 23]]), array([0., 0., 0., 0.])]\n",
            "[array([[24, 25, 26],\n",
            "       [27, 28, 29],\n",
            "       [30, 31, 32],\n",
            "       [33, 34, 35]]), array([0., 0., 0., 0.])]\n",
            "[array([[36, 37, 38],\n",
            "       [39, 40, 41],\n",
            "       [42, 43, 44],\n",
            "       [45, 46, 47]]), array([0., 0., 0., 0.])]\n",
            "[array([[48, 49, 50],\n",
            "       [51, 52, 53],\n",
            "       [54, 55, 56],\n",
            "       [57, 58, 59]]), array([0., 0., 0., 0.])]\n"
          ],
          "name": "stdout"
        }
      ]
    },
    {
      "cell_type": "code",
      "metadata": {
        "id": "V1mG1h2pGCMp"
      },
      "source": [
        "from sklearn.preprocessing import StandardScaler"
      ],
      "execution_count": 8,
      "outputs": []
    },
    {
      "cell_type": "code",
      "metadata": {
        "id": "2w7VT6rJIWrY"
      },
      "source": [
        "# %%pycodestyle\n",
        "\n",
        "from sklearn.base import BaseEstimator, ClassifierMixin\n",
        "\n",
        "\n",
        "def sigmoid(x):\n",
        "    \"\"\"\n",
        "    Вычисляем значение сигмоида.\n",
        "    X - выход линейной модели\n",
        "    \"\"\"\n",
        "    x = np.asarray(x)\n",
        "    sigm_value_x = np.exp(-x) + 1\n",
        "    sigm_value_x = 1 / sigm_value_x\n",
        "    return sigm_value_x\n",
        "\n",
        "\n",
        "def safe_log(x):\n",
        "    x = np.where(x <= 0.001, 0.001, x)\n",
        "    x = np.where(x == 1, 1.001, x)\n",
        "    return np.log(x)\n",
        "\n",
        "\n",
        "class MySGDClassifier(BaseEstimator, ClassifierMixin):\n",
        "\n",
        "    def __init__(self, batch_generator, C=1, alpha=0.001, max_epoch=10,\n",
        "                 model_type='lin_reg', batch_size=1, scaler=StandardScaler):\n",
        "        \"\"\"\n",
        "        batch_generator -- функция генератор, которой будем создавать батчи\n",
        "        C - коэф. регуляризации\n",
        "        alpha - скорость спуска\n",
        "        max_epoch - максимальное количество эпох\n",
        "        model_type - тим модели, lin_reg или log_reg\n",
        "        \"\"\"\n",
        "\n",
        "        self.C = C\n",
        "        self.alpha = alpha\n",
        "        self.max_epoch = max_epoch\n",
        "        self.batch_generator = batch_generator\n",
        "        self.errors_log = {'iter' : [], 'loss' : []}  \n",
        "        self.model_type = model_type\n",
        "        self.batch_size = batch_size\n",
        "        if scaler:\n",
        "            self.scaler = scaler()\n",
        "        else:\n",
        "            self.scaler = None\n",
        "        self.treshold = 0.5\n",
        "        \n",
        "    def calc_loss(self, X_batch, y_batch):\n",
        "        \"\"\"\n",
        "        Считаем функцию потерь по батчу \n",
        "        X_batch - матрица объекты-признаки по батчу\n",
        "        y_batch - вектор ответов по батчу\n",
        "        Не забудте тип модели (линейная или логистическая регрессия)!\n",
        "        \"\"\"\n",
        "\n",
        "        loss_all = 0\n",
        "        n = X_batch.shape[0]\n",
        "        a = np.dot(X_batch, self.weights)\n",
        "        L2_reg = (self.weights * self.weights).sum() / self.C\n",
        "        if self.model_type == 'lin_reg':  \n",
        "            loss_all = (y_batch - a) ** 2\n",
        "        elif self.model_type == 'log_reg':\n",
        "            sigm_arr = sigmoid(a)\n",
        "            loss_all = -y_batch * safe_log(sigm_arr) - (1 - y_batch) * safe_log(1 - sigm_arr)\n",
        "        loss = np.sum(loss_all) / n + L2_reg\n",
        "        return loss\n",
        "    \n",
        "    def calc_loss_grad(self, X_batch, y_batch):\n",
        "        \"\"\"\n",
        "        Считаем  градиент функции потерь по батчу (то что Вы вывели в задании 1)\n",
        "        X_batch - матрица объекты-признаки по батчу\n",
        "        y_batch - вектор ответов по батчу\n",
        "        Не забудте тип модели (линейная или логистическая регрессия)!\n",
        "        \"\"\"\n",
        "        loss_grad = 0\n",
        "        n = X_batch.shape[0]\n",
        "        a = np.dot(X_batch, self.weights)\n",
        "        if self.model_type == 'lin_reg':\n",
        "            loss_grad = 2 * np.dot(y_batch - a, X_batch)\n",
        "        elif self.model_type == 'log_reg':\n",
        "            loss_grad = np.dot(y_batch - sigmoid(a), X_batch)\n",
        "        loss_grad = -1 / n * loss_grad\n",
        "        return loss_grad\n",
        "    \n",
        "    def update_weights(self, new_grad):\n",
        "        \"\"\"\n",
        "        Обновляем вектор весов\n",
        "        new_grad - градиент по батчу\n",
        "        \"\"\"\n",
        "\n",
        "        w_0 = self.weights[0]\n",
        "        self.weights -= self.alpha * (new_grad - 2 / self.C * self.weights)\n",
        "        self.weights[0] += 2 * self.alpha / self.C * w_0\n",
        "\n",
        "    def fit(self, X, y):\n",
        "        '''\n",
        "        Обучение модели\n",
        "        X - матрица объекты-признаки\n",
        "        y - вектор ответов\n",
        "        '''\n",
        "        \n",
        "        if self.scaler:\n",
        "            X = self.scaler.fit_transform(X, y)\n",
        "        X = np.c_[np.ones(X.shape[0]), X]\n",
        "        # Нужно инициализровать случайно веса\n",
        "        self.weights = -1 + 2 * np.random.randn(X.shape[1])\n",
        "        for n in range(0, self.max_epoch):\n",
        "            new_epoch_generator = self.batch_generator(X, y, batch_size=self.batch_size)\n",
        "            for batch_num, new_batch in enumerate(new_epoch_generator):\n",
        "                X_batch = new_batch[0]\n",
        "                y_batch = new_batch[1]               \n",
        "                batch_loss = self.calc_loss(X_batch, y_batch)\n",
        "                batch_grad = self.calc_loss_grad(X_batch, y_batch)\n",
        "                self.update_weights(batch_grad)\n",
        "                # Подумайте в каком месте стоит посчитать ошибку для отладки модели\n",
        "                # До градиентного шага или после\n",
        "                self.errors_log['iter'].append(batch_num)\n",
        "                self.errors_log['loss'].append(batch_loss)\n",
        "\n",
        "        s0 = np.where(y == 0, np.dot(X, self.weights), -np.inf)\n",
        "        s1 = np.where(y == 1, np.dot(X, self.weights), np.inf)\n",
        "        #cnt0 = np.sum(np.where(y == 0))\n",
        "        #cnt1 = np.sum(np.where(y == 1)) \n",
        "        trs = (s0.max() + s1.min()) / 2  #s1.min() #s0.max()  # \n",
        "        self.treshold = trs\n",
        "        \n",
        "        return self\n",
        "        \n",
        "    def predict(self, X):\n",
        "        '''\n",
        "        Предсказание класса\n",
        "        X - матрица объекты-признаки\n",
        "        Не забудте тип модели (линейная или логистическая регрессия)!\n",
        "        '''\n",
        "\n",
        "        if self.scaler:\n",
        "            X = self.scaler.transform(X)\n",
        "        X_norm = np.c_[np.ones(X.shape[0]), X]\n",
        "        a = np.dot(X_norm, self.weights)  \n",
        "        if self.model_type == 'lin_reg':\n",
        "            y_hat = (a >= self.treshold).astype(int)\n",
        "        elif self.model_type == 'log_reg':\n",
        "            y_hat = (sigmoid(a) >= self.treshold).astype(int)\n",
        "        # Желательно здесь использовать матричные операции между X и весами, например, numpy.dot \n",
        "        return y_hat\n"
      ],
      "execution_count": 78,
      "outputs": []
    },
    {
      "cell_type": "markdown",
      "metadata": {
        "id": "I0ey45oIIWrq"
      },
      "source": [
        "Запустите обе регрессии на синтетических данных. \n",
        "\n",
        "\n",
        "Выведите полученные веса и нарисуйте разделяющую границу между классами (используйте только первых два веса для первых двух признаков X[:,0], X[:,1] для отображения в 2d пространство ).  "
      ]
    },
    {
      "cell_type": "code",
      "metadata": {
        "id": "aA_zD0MOIWrs"
      },
      "source": [
        "# %%pycodestyle\n",
        "\n",
        "def plot_decision_boundary(clf, trsh=0.5, color='black'):\n",
        "    w = clf.weights\n",
        "    pts = np.linspace(-2, 7)\n",
        "    print(w, -w[1]/w[2])\n",
        "    plt.plot(pts, -(w[0] - trsh + w[1] * pts) / w[2], color=color)"
      ],
      "execution_count": 79,
      "outputs": []
    },
    {
      "cell_type": "code",
      "metadata": {
        "id": "-4dkMrmiIWr5"
      },
      "source": [
        "# %%pycodestyle\n",
        "\n",
        "np.random.seed(0)\n",
        "\n",
        "C1 = np.array([[0., -0.8], [1.5, 0.8]])\n",
        "C2 = np.array([[1., -0.7], [2., 0.7]])\n",
        "gauss1 = np.dot(np.random.randn(200, 2) + np.array([5, 3]), C1)\n",
        "gauss2 = np.dot(np.random.randn(200, 2) + np.array([1.5, 0]), C2)\n",
        "\n",
        "X = np.vstack([gauss1, gauss2])\n",
        "y = np.r_[np.ones(200), np.zeros(200)]\n"
      ],
      "execution_count": 80,
      "outputs": []
    },
    {
      "cell_type": "code",
      "metadata": {
        "id": "uy7zqJUhOIL4",
        "outputId": "cbd0a60d-2f88-4260-c5b6-b80ed93504aa",
        "colab": {
          "base_uri": "https://localhost:8080/"
        }
      },
      "source": [
        "# %%pycodestyle\n",
        "\n",
        "my_clf_lin = MySGDClassifier(batch_generator, alpha=0.01, max_epoch=10,\n",
        "                             C=20, model_type='lin_reg', batch_size=1, scaler=None)\n",
        "my_clf_lin.fit(X, y)"
      ],
      "execution_count": 81,
      "outputs": [
        {
          "output_type": "execute_result",
          "data": {
            "text/plain": [
              "MySGDClassifier(C=20, alpha=0.01,\n",
              "                batch_generator=<function batch_generator at 0x7fc0e0e847b8>,\n",
              "                batch_size=1, max_epoch=10, model_type='lin_reg', scaler=None)"
            ]
          },
          "metadata": {
            "tags": []
          },
          "execution_count": 81
        }
      ]
    },
    {
      "cell_type": "code",
      "metadata": {
        "id": "Z9UmmVYZgneO",
        "outputId": "3f8ee5e0-5e36-4cff-f14b-bcb84347f42b",
        "colab": {
          "base_uri": "https://localhost:8080/"
        }
      },
      "source": [
        "my_clf_log = MySGDClassifier(batch_generator, alpha=0.01, max_epoch=10,\n",
        "                             C=50, model_type='log_reg', batch_size=1, scaler=None)\n",
        "my_clf_log.fit(X, y)"
      ],
      "execution_count": 82,
      "outputs": [
        {
          "output_type": "execute_result",
          "data": {
            "text/plain": [
              "MySGDClassifier(C=50, alpha=0.01,\n",
              "                batch_generator=<function batch_generator at 0x7fc0e0e847b8>,\n",
              "                batch_size=1, max_epoch=10, model_type='log_reg', scaler=None)"
            ]
          },
          "metadata": {
            "tags": []
          },
          "execution_count": 82
        }
      ]
    },
    {
      "cell_type": "code",
      "metadata": {
        "id": "86QyXBMtXhX4",
        "outputId": "a8996e58-06e1-4a9e-f4a2-67b5178175f5",
        "colab": {
          "base_uri": "https://localhost:8080/",
          "height": 334
        }
      },
      "source": [
        "plot_decision_boundary(my_clf_lin, trsh=my_clf_lin.treshold, color='black')\n",
        "plot_decision_boundary(my_clf_log, trsh=my_clf_log.treshold, color='red')\n",
        "y_lin = my_clf_lin.predict(X)\n",
        "y_log = my_clf_log.predict(X)\n",
        "print(my_clf_lin.treshold, my_clf_log.treshold)\n",
        "#print(sigmoid(np.dot(np.c_[np.ones(X.shape[0]), X], my_clf_log.weights)) > 0.64)\n",
        "plt.scatter(X[:, 0], X[:, 1], c=y)\n",
        "# 1 - right\n",
        "# 0 - left"
      ],
      "execution_count": 83,
      "outputs": [
        {
          "output_type": "stream",
          "text": [
            "[-0.24509227  0.19966006 -0.22235791] 0.8979219963113664\n",
            "[-46.06571131   8.62753554  -7.79282282] 1.1071130112422214\n",
            "0.8652657440607454 0.5308320890651643\n"
          ],
          "name": "stdout"
        },
        {
          "output_type": "execute_result",
          "data": {
            "text/plain": [
              "<matplotlib.collections.PathCollection at 0x7fc0d4d9fe10>"
            ]
          },
          "metadata": {
            "tags": []
          },
          "execution_count": 83
        },
        {
          "output_type": "display_data",
          "data": {
            "image/png": "[encoded data removed]",
            "text/plain": [
              "<Figure size 432x288 with 1 Axes>"
            ]
          },
          "metadata": {
            "tags": [],
            "needs_background": "light"
          }
        }
      ]
    },
    {
      "cell_type": "markdown",
      "metadata": {
        "id": "rS6lzmLyIWsJ"
      },
      "source": [
        "Далее будем анализировать Ваш алгоритм. \n",
        "Для этих заданий используйте датасет ниже."
      ]
    },
    {
      "cell_type": "code",
      "metadata": {
        "id": "7wLKtckUIWsL"
      },
      "source": [
        "from sklearn.datasets import make_classification"
      ],
      "execution_count": 84,
      "outputs": []
    },
    {
      "cell_type": "code",
      "metadata": {
        "id": "7RzPQg4RIWsb"
      },
      "source": [
        "X, y = make_classification(n_samples=100000, n_features=10, \n",
        "                           n_informative=4, n_redundant=0, \n",
        "                           random_state=123, class_sep=1.0,\n",
        "                           n_clusters_per_class=1)"
      ],
      "execution_count": 85,
      "outputs": []
    },
    {
      "cell_type": "markdown",
      "metadata": {
        "id": "Pat6S6vOIWsq"
      },
      "source": [
        "Покажите сходимости обеих регрессией на этом датасете: изобразите график  функции потерь, усредненной по $N$ шагам градиентого спуска, для разных `alpha` (размеров шага). Разные `alpha` расположите на одном графике. \n",
        "\n",
        "$N$ можно брать 10, 50, 100 и т.д. "
      ]
    },
    {
      "cell_type": "code",
      "metadata": {
        "id": "v4QrFNyfIWst",
        "outputId": "5e6cd92d-6bfb-4258-be9f-0fc62840f7fa",
        "colab": {
          "base_uri": "https://localhost:8080/",
          "height": 500
        }
      },
      "source": [
        "# %%pycodestyle\n",
        "\n",
        "plt.figure(figsize=(15, 8))\n",
        "aplha_arr = [0.0001, 0.001, 0.01, 0.05, 0.1]\n",
        "N = 50\n",
        "for alpha in aplha_arr:\n",
        "    my_clf_log = MySGDClassifier(batch_generator, alpha=alpha, max_epoch=5,\n",
        "                                 C=1000, batch_size=100, model_type='log_reg')\n",
        "    my_clf_log.fit(X, y)\n",
        "    steps = len(my_clf_log.errors_log['loss']) // N\n",
        "    losses = []\n",
        "    for i in range(steps):\n",
        "        losses.append(np.sum(my_clf_log.errors_log['loss'][i * N : (i + 1) * N]) / N)\n",
        "    plt.plot(np.arange(len(losses)), losses, label='alpha = {}'.format(alpha))\n",
        "plt.xlabel('Steps')\n",
        "plt.ylabel('LogRegLoss')\n",
        "plt.legend()\n",
        "plt.show()\n"
      ],
      "execution_count": 86,
      "outputs": [
        {
          "output_type": "display_data",
          "data": {
            "image/png": "[encoded data removed]",
            "text/plain": [
              "<Figure size 1080x576 with 1 Axes>"
            ]
          },
          "metadata": {
            "tags": [],
            "needs_background": "light"
          }
        }
      ]
    },
    {
      "cell_type": "code",
      "metadata": {
        "id": "xtyieNUr8QST",
        "outputId": "b8b36a15-92ea-4743-8adb-6f789e81bd41",
        "colab": {
          "base_uri": "https://localhost:8080/",
          "height": 500
        }
      },
      "source": [
        "# %%pycodestyle\n",
        "\n",
        "plt.figure(figsize=(15, 8))\n",
        "aplha_arr = [0.0001, 0.001, 0.01, 0.05, 0.1]\n",
        "N = 500\n",
        "for alpha in aplha_arr:\n",
        "    my_clf_lin = MySGDClassifier(batch_generator, alpha=alpha, max_epoch=1,\n",
        "                                 C=1000, model_type='lin_reg', batch_size=10)\n",
        "    my_clf_lin.fit(X, y)\n",
        "    steps = len(my_clf_lin.errors_log['loss']) // N\n",
        "    losses = []\n",
        "    for i in range(steps):\n",
        "        losses.append(np.sum(my_clf_lin.errors_log['loss'][i * N : (i + 1) * N]) / N)\n",
        "    plt.plot(np.arange(len(losses)), losses, label='alpha = {}'.format(alpha))\n",
        "plt.xlabel('Steps')\n",
        "plt.ylabel('LinRegLoss')\n",
        "plt.legend()\n",
        "plt.show()\n"
      ],
      "execution_count": 87,
      "outputs": [
        {
          "output_type": "display_data",
          "data": {
            "image/png": "[encoded data removed]",
            "text/plain": [
              "<Figure size 1080x576 with 1 Axes>"
            ]
          },
          "metadata": {
            "tags": [],
            "needs_background": "light"
          }
        }
      ]
    },
    {
      "cell_type": "markdown",
      "metadata": {
        "id": "pMUeEfypIWs4"
      },
      "source": [
        "Что Вы можете сказать про сходимость метода при различных `alpha`? Какое значение стоит выбирать для лучшей сходимости?"
      ]
    },
    {
      "cell_type": "markdown",
      "metadata": {
        "id": "qib1JEAqLbvD"
      },
      "source": [
        "***Ответ***\n",
        "\n",
        "При относительно больших $\\alpha$ сходимость медленная, стабилизируется за несколько эпох, для малых значений сходимость на графике еще не видна. В то же время $\\alpha = 0.1$ даёт хорошую скорость сходимости. При тестировании $\\alpha \\geq 0.5$ возникали ошибки переполнения."
      ]
    },
    {
      "cell_type": "markdown",
      "metadata": {
        "id": "ic8kfc-jIWs6"
      },
      "source": [
        "Изобразите график среднего значения весов для обеих регрессий в зависимости от коеф. регуляризации С из `np.logspace(3, -3, 10)` "
      ]
    },
    {
      "cell_type": "code",
      "metadata": {
        "id": "omYG6xjFMxp-",
        "outputId": "dd80bb6c-1c30-4062-f81a-925d3e4e1ba8",
        "colab": {
          "base_uri": "https://localhost:8080/",
          "height": 265
        }
      },
      "source": [
        "# %%pycodestyle\n",
        "\n",
        "C_arr = np.logspace(-3, 3, 10)\n",
        "res1 = []\n",
        "for C in C_arr:\n",
        "    my_clf_log = MySGDClassifier(batch_generator, batch_size=100, max_epoch=30,\n",
        "                                 C=C, alpha=0.00000001, model_type='log_reg')\n",
        "    my_clf_log.fit(X, y)\n",
        "    res1.append(np.linalg.norm(my_clf_log.weights))\n",
        "plt.plot(range(len(res1)), np.log2(res1))\n",
        "plt.show()"
      ],
      "execution_count": 88,
      "outputs": [
        {
          "output_type": "display_data",
          "data": {
            "image/png": "[encoded data removed]",
            "text/plain": [
              "<Figure size 432x288 with 1 Axes>"
            ]
          },
          "metadata": {
            "tags": [],
            "needs_background": "light"
          }
        }
      ]
    },
    {
      "cell_type": "code",
      "metadata": {
        "id": "khY6-ezjmmjF",
        "outputId": "05b8b47f-2322-474f-be2b-0bfcff59537b",
        "colab": {
          "base_uri": "https://localhost:8080/",
          "height": 265
        }
      },
      "source": [
        "# %%pycodestyle\n",
        "\n",
        "C_arr = np.logspace(-3, 3, 10)\n",
        "res2 = []\n",
        "for C in C_arr:\n",
        "    my_clf_lin = MySGDClassifier(batch_generator, batch_size=10, max_epoch=10,\n",
        "                                 C=C, alpha=0.0000001, model_type='lin_reg')\n",
        "    my_clf_lin.fit(X, y)\n",
        "    res2.append(np.linalg.norm(my_clf_lin.weights))\n",
        "plt.plot(range(len(res2)), np.log2(res2))\n",
        "plt.show()"
      ],
      "execution_count": 89,
      "outputs": [
        {
          "output_type": "display_data",
          "data": {
            "image/png": "[encoded data removed]",
            "text/plain": [
              "<Figure size 432x288 with 1 Axes>"
            ]
          },
          "metadata": {
            "tags": [],
            "needs_background": "light"
          }
        }
      ]
    },
    {
      "cell_type": "code",
      "metadata": {
        "id": "1KZ6pBbouUle",
        "outputId": "5c6fdeea-1a98-471d-d430-0469299b3795",
        "colab": {
          "base_uri": "https://localhost:8080/",
          "height": 265
        }
      },
      "source": [
        "# %%pycodestyle\n",
        "\n",
        "plt.plot(range(len(res2))[2:], np.log2(res2[2:]))\n",
        "plt.show()"
      ],
      "execution_count": 90,
      "outputs": [
        {
          "output_type": "display_data",
          "data": {
            "image/png": "[encoded data removed]",
            "text/plain": [
              "<Figure size 432x288 with 1 Axes>"
            ]
          },
          "metadata": {
            "tags": [],
            "needs_background": "light"
          }
        }
      ]
    },
    {
      "cell_type": "markdown",
      "metadata": {
        "id": "tZEdW3RJIWtQ"
      },
      "source": [
        "Довольны ли Вы, насколько сильно уменьшились Ваши веса? "
      ]
    },
    {
      "cell_type": "markdown",
      "metadata": {
        "id": "PZDKdK5zm9EV"
      },
      "source": [
        "***Ответ***\n",
        "\n",
        "норма вектора весов стабилизируется при $C \\geq 10^{-1}$ на уровне порядка 10, что хорошо для 11-мерного вектора. "
      ]
    },
    {
      "cell_type": "markdown",
      "metadata": {
        "id": "C_QmGbFhIWtT"
      },
      "source": [
        "# Боевое применение (4  балла)\n",
        "\n",
        "**Защита данной части возможна только при преодолении в проекте бейзлайна Handmade baseline.**"
      ]
    },
    {
      "cell_type": "markdown",
      "metadata": {
        "id": "1MRUQBjkIWtU"
      },
      "source": [
        "Давайте применим модель на итоговом проекте! Датасет сделаем точно таким же образом, как было показано в project_overview.ipynb\n",
        "\n",
        "Применим обе регрессии, подберем для них параметры и сравним качество. Может быть Вы еще одновременно с решением домашней работы подрастете на лидерборде!"
      ]
    },
    {
      "cell_type": "code",
      "metadata": {
        "id": "7i1DjeXYBFh1",
        "outputId": "a72239de-a042-42c8-89b4-4c0abd576ee1",
        "colab": {
          "resources": {
            "http://localhost:8080/nbextensions/google.colab/files.js": {
              "data": "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",
              "ok": true,
              "headers": [
                [
                  "content-type",
                  "application/javascript"
                ]
              ],
              "status": 200,
              "status_text": "OK"
            }
          },
          "base_uri": "https://localhost:8080/",
          "height": 179
        }
      },
      "source": [
        "from google.colab import files\n",
        "\n",
        "uploaded = files.upload()"
      ],
      "execution_count": null,
      "outputs": [
        {
          "output_type": "display_data",
          "data": {
            "text/html": [
              "\n",
              "     <input type=\"file\" id=\"files-40b92da8-3260-41d5-bae6-1df6c84b7b32\" name=\"files[]\" multiple disabled\n",
              "        style=\"border:none\" />\n",
              "     <output id=\"result-40b92da8-3260-41d5-bae6-1df6c84b7b32\">\n",
              "      Upload widget is only available when the cell has been executed in the\n",
              "      current browser session. Please rerun this cell to enable.\n",
              "      </output>\n",
              "      <script src=\"/nbextensions/google.colab/files.js\"></script> "
            ],
            "text/plain": [
              "<IPython.core.display.HTML object>"
            ]
          },
          "metadata": {
            "tags": []
          }
        },
        {
          "output_type": "stream",
          "text": [
            "Saving train_groups.csv to train_groups.csv\n",
            "Saving test_groups.csv to test_groups.csv\n",
            "Saving sample_submission.csv to sample_submission.csv\n",
            "Saving docs_titles.tsv to docs_titles.tsv\n"
          ],
          "name": "stdout"
        }
      ]
    },
    {
      "cell_type": "code",
      "metadata": {
        "id": "IgOqxt15IWtW",
        "outputId": "81b6e376-22fe-46d8-aee7-dbb50b45bde8",
        "colab": {
          "base_uri": "https://localhost:8080/"
        }
      },
      "source": [
        "doc_to_title = {}\n",
        "with open('docs_titles.tsv') as f:\n",
        "    for num_line, line in enumerate(f):\n",
        "        if num_line == 0:\n",
        "            continue\n",
        "        data = line.strip().split('\\t', 1)\n",
        "        doc_id = int(data[0])\n",
        "        if len(data) == 1:\n",
        "            title = ''\n",
        "        else:\n",
        "            title = data[1]\n",
        "        doc_to_title[doc_id] = title\n",
        "print (len(doc_to_title))\n"
      ],
      "execution_count": null,
      "outputs": [
        {
          "output_type": "stream",
          "text": [
            "28026\n"
          ],
          "name": "stdout"
        }
      ]
    },
    {
      "cell_type": "code",
      "metadata": {
        "id": "VQIoKPIsIWt1",
        "outputId": "c38deb1e-4cae-4a0c-c928-6b963ad1a15c",
        "colab": {
          "base_uri": "https://localhost:8080/"
        }
      },
      "source": [
        "import pandas as pd\n",
        "train_data = pd.read_csv('train_groups.csv')\n",
        "traingroups_titledata = {}\n",
        "for i in range(len(train_data)):\n",
        "    new_doc = train_data.iloc[i]\n",
        "    doc_group = new_doc['group_id']\n",
        "    doc_id = new_doc['doc_id']\n",
        "    target = new_doc['target']\n",
        "    title = doc_to_title[doc_id]\n",
        "    if doc_group not in traingroups_titledata:\n",
        "        traingroups_titledata[doc_group] = []\n",
        "    traingroups_titledata[doc_group].append((doc_id, title, target))\n",
        "type(train_data) #[train_data.group_id == 1 * train_data.target == 1]"
      ],
      "execution_count": null,
      "outputs": [
        {
          "output_type": "execute_result",
          "data": {
            "text/plain": [
              "pandas.core.frame.DataFrame"
            ]
          },
          "metadata": {
            "tags": []
          },
          "execution_count": 25
        }
      ]
    },
    {
      "cell_type": "code",
      "metadata": {
        "id": "A2Apo6LmIWuF",
        "outputId": "707a5a04-5928-4627-c943-4000285bd49a",
        "colab": {
          "base_uri": "https://localhost:8080/"
        }
      },
      "source": [
        "import numpy as np\n",
        "y_train = []\n",
        "X_train = []\n",
        "groups_train = []\n",
        "for new_group in traingroups_titledata:\n",
        "    docs = traingroups_titledata[new_group]\n",
        "    for k, (doc_id, title, target_id) in enumerate(docs):\n",
        "        y_train.append(target_id)\n",
        "        groups_train.append(new_group)\n",
        "        all_dist = []\n",
        "        words = set(title.strip().split())\n",
        "        for j in range(0, len(docs)):\n",
        "            if k == j:\n",
        "                continue\n",
        "            doc_id_j, title_j, target_j = docs[j]\n",
        "            words_j = set(title_j.strip().split())\n",
        "            all_dist.append(len(words.intersection(words_j)))\n",
        "        X_train.append(sorted(all_dist, reverse=True)[0:15]    )\n",
        "X_train = np.array(X_train)\n",
        "y_train = np.array(y_train)\n",
        "groups_train = np.array(groups_train)\n",
        "print (X_train.shape, y_train.shape, groups_train.shape)\n"
      ],
      "execution_count": null,
      "outputs": [
        {
          "output_type": "stream",
          "text": [
            "(11690, 15) (11690,) (11690,)\n"
          ],
          "name": "stdout"
        }
      ]
    },
    {
      "cell_type": "markdown",
      "metadata": {
        "id": "Xv-sfcSxIWuS"
      },
      "source": [
        "Подберите размер батча для обучения. Линейная модель не должна учиться дольше нескольких минут. \n",
        "\n",
        "Не забывайте использовать скейлер!"
      ]
    },
    {
      "cell_type": "code",
      "metadata": {
        "id": "bFJjl3jAIWuW"
      },
      "source": [
        "from sklearn.metrics import f1_score\n",
        "from sklearn.linear_model import LinearRegression\n",
        "from sklearn.preprocessing import StandardScaler"
      ],
      "execution_count": null,
      "outputs": []
    },
    {
      "cell_type": "code",
      "metadata": {
        "id": "owbUG_4fIWul",
        "outputId": "98315858-bad5-4ca5-d945-93f646272978",
        "colab": {
          "base_uri": "https://localhost:8080/"
        }
      },
      "source": [
        "for b in range(10):\n",
        "    size = 2 ** b\n",
        "    my_clf_lin = MySGDClassifier(batch_generator, alpha=0.01, max_epoch=10, \n",
        "                                 C=1000, model_type='lin_reg', batch_size=size)\n",
        "    my_clf_lin.fit(X_train, y_train)\n",
        "    y_pred_lin = my_clf_lin.predict(X_train)\n",
        "    diff = y_pred_lin - y_train == 0\n",
        "    print(size, \"is done:\", diff.astype(int).sum() / X_train.shape[0], f1_score(y_train, y_pred_lin))\n"
      ],
      "execution_count": null,
      "outputs": [
        {
          "output_type": "stream",
          "text": [
            "1 is done: 0.7256629597946963 0.163754889178618\n",
            "2 is done: 0.7433704020530368 0.258160237388724\n",
            "4 is done: 0.7857998289136013 0.5065037445802129\n",
            "8 is done: 0.7477331052181352 0.2798534798534798\n",
            "16 is done: 0.7193327630453379 0.22890716803760283\n",
            "32 is done: 0.7115483319076134 0.004134672179562906\n",
            "64 is done: 0.7173652694610778 0.07761027359017308\n",
            "128 is done: 0.3220701454234388 0.43885859944770944\n",
            "256 is done: 0.6774165953806672 0.4365755266696549\n",
            "512 is done: 0.6209580838323353 0.4396104717339067\n"
          ],
          "name": "stdout"
        }
      ]
    },
    {
      "cell_type": "code",
      "metadata": {
        "id": "dxg7eCQ2IWuy"
      },
      "source": [
        ""
      ],
      "execution_count": null,
      "outputs": []
    },
    {
      "cell_type": "markdown",
      "metadata": {
        "id": "gWYGKF7yIWvB"
      },
      "source": [
        "Разбейте данные на обучение и валидацию. Подберите параметры C, alpha, max_epoch, model_type на валидации (Вы же помните, как правильно в этой задаче делать валидацию?)"
      ]
    },
    {
      "cell_type": "code",
      "metadata": {
        "id": "69v1BMW7IWvC"
      },
      "source": [
        ""
      ],
      "execution_count": null,
      "outputs": []
    },
    {
      "cell_type": "markdown",
      "metadata": {
        "collapsed": true,
        "id": "F-wUhfhrIWvM"
      },
      "source": [
        "Подберите порог линейной модели, по достижении которого, Вы будете относить объект к классу 1. Вспомните, какую метрику мы оптимизируем в соревновании.  Как тогда правильно подобрать порог?"
      ]
    },
    {
      "cell_type": "code",
      "metadata": {
        "id": "fmDQaLo2IWvN"
      },
      "source": [
        ""
      ],
      "execution_count": null,
      "outputs": []
    },
    {
      "cell_type": "code",
      "metadata": {
        "id": "AJOZqG7OIWvY"
      },
      "source": [
        ""
      ],
      "execution_count": null,
      "outputs": []
    },
    {
      "cell_type": "markdown",
      "metadata": {
        "id": "Swoh-ClHIWvj"
      },
      "source": [
        "С лучшими параметрами на валидации сделайте предсказание на тестовом множестве, отправьте его на проверку на платформу kaggle. Убедитесь, что Вы смогли побить public score первого бейзлайна."
      ]
    },
    {
      "cell_type": "markdown",
      "metadata": {
        "collapsed": true,
        "id": "6y58HUz8IWvl"
      },
      "source": [
        "** При сдаче домашки Вам необходимо кроме ссылки на ноутбук показать Ваш ник на kaggle, под которым Вы залили решение, которое побило Handmade baseline. **"
      ]
    },
    {
      "cell_type": "code",
      "metadata": {
        "id": "LQaquL9kIWvn"
      },
      "source": [
        ""
      ],
      "execution_count": null,
      "outputs": []
    },
    {
      "cell_type": "markdown",
      "metadata": {
        "id": "ok2fRMNoIWvx"
      },
      "source": [
        "# Фидбек (бесценно)"
      ]
    },
    {
      "cell_type": "markdown",
      "metadata": {
        "id": "o9RDrrw-IWv4"
      },
      "source": [
        "* Какие аспекты обучения линейных моделей Вам показались непонятными? Какое место стоит дополнительно объяснить?"
      ]
    },
    {
      "cell_type": "markdown",
      "metadata": {
        "id": "YtYcly1kIWv-"
      },
      "source": [
        "***Ваше ответ здесь***"
      ]
    },
    {
      "cell_type": "markdown",
      "metadata": {
        "id": "J9VmXukPIWv_"
      },
      "source": [
        "* Здесь Вы можете оставить отзыв о этой домашней работе или о всем курсе.   "
      ]
    },
    {
      "cell_type": "markdown",
      "metadata": {
        "id": "LuFLhpIqIWwC"
      },
      "source": [
        "*** ВАШ ОТЗЫВ ЗДЕСЬ***"
      ]
    },
    {
      "cell_type": "code",
      "metadata": {
        "id": "rigLsDuHIWwH"
      },
      "source": [
        ""
      ],
      "execution_count": null,
      "outputs": []
    },
    {
      "cell_type": "code",
      "metadata": {
        "id": "1bKPpsDGIWwV"
      },
      "source": [
        ""
      ],
      "execution_count": null,
      "outputs": []
    }
  ]
}