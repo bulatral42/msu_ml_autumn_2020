{
 "cells": [
  {
   "cell_type": "markdown",
   "metadata": {},
   "source": [
    "# Алгоритмы интеллектуальной обработки больших объемов данных\n",
    "## Семинар, учимся настраивать параметры бустинга\n"
   ]
  },
  {
   "cell_type": "markdown",
   "metadata": {},
   "source": [
    "Разберем, например, xgboost:\n",
    "https://xgboost.readthedocs.io/en/latest/parameter.html\n",
    "\n",
    "https://xgboost.readthedocs.io/en/latest/python/python_api.html"
   ]
  },
  {
   "cell_type": "markdown",
   "metadata": {},
   "source": [
    "Параметры можно разделить на группы. \n",
    "\n"
   ]
  },
  {
   "cell_type": "markdown",
   "metadata": {},
   "source": [
    "1) Общие параметры алгоритма, например, тип бустинга\n",
    "\n",
    "2) Параметры обучения бустинга, например число итераций, learning rate\n",
    "\n",
    "3) Параметры построения деревьев, например, глубина, минимальное число элементов в листе\n",
    "\n",
    "4) Параметры стохастики, subsample, colsample\n",
    "\n",
    "5) Регуляриазция, например, lambda\n"
   ]
  },
  {
   "cell_type": "markdown",
   "metadata": {},
   "source": [
    "ПРАВИЛЬНОГО алгоритма для тюнинга нет, вот один из вариантов, которые часто используют на практике."
   ]
  },
  {
   "cell_type": "markdown",
   "metadata": {},
   "source": [
    "1) Возьмите дефолтное параметры. Поставьте нужные loss и eval функции.  Измените максимальное  число деревьев, чтобы было не долго делать эксперименты"
   ]
  },
  {
   "cell_type": "markdown",
   "metadata": {},
   "source": [
    "2) Подберите для него alpha, чтобы алгоритм не переобучался"
   ]
  },
  {
   "cell_type": "markdown",
   "metadata": {},
   "source": [
    "3) Подберите параметры сложности дерева, например,  глубину, мин число объектов в листах, мин значение для расщепления и тд"
   ]
  },
  {
   "cell_type": "markdown",
   "metadata": {},
   "source": [
    "4) Подберите паарметры стохастики"
   ]
  },
  {
   "cell_type": "markdown",
   "metadata": {},
   "source": [
    "5) Подберите регуляризацию"
   ]
  },
  {
   "cell_type": "markdown",
   "metadata": {},
   "source": [
    "6) Уменьшите leraning rate и обучите максимальное число деревьев, чтобы не переобучалось"
   ]
  },
  {
   "cell_type": "markdown",
   "metadata": {},
   "source": [
    "Давайте настроим параметры бустинга на нашем конкурсе!"
   ]
  },
  {
   "cell_type": "code",
   "execution_count": 102,
   "metadata": {},
   "outputs": [
    {
     "name": "stdout",
     "output_type": "stream",
     "text": [
      "28026\n"
     ]
    }
   ],
   "source": [
    "doc_to_title = {}\n",
    "with open('docs_titles.tsv') as f:\n",
    "    for num_line, line in enumerate(f):\n",
    "        if num_line == 0:\n",
    "            continue\n",
    "        data = line.strip().split('\\t', 1)\n",
    "        doc_id = int(data[0])\n",
    "        if len(data) == 1:\n",
    "            title = ''\n",
    "        else:\n",
    "            title = data[1]\n",
    "        doc_to_title[doc_id] = title\n",
    "print (len(doc_to_title))\n"
   ]
  },
  {
   "cell_type": "code",
   "execution_count": 103,
   "metadata": {},
   "outputs": [],
   "source": [
    "import pandas as pd\n",
    "train_data = pd.read_csv('train_groups.csv')\n",
    "traingroups_titledata = {}\n",
    "for i in range(len(train_data)):\n",
    "    new_doc = train_data.iloc[i]\n",
    "    doc_group = new_doc['group_id']\n",
    "    doc_id = new_doc['doc_id']\n",
    "    target = new_doc['target']\n",
    "    title = doc_to_title[doc_id]\n",
    "    if doc_group not in traingroups_titledata:\n",
    "        traingroups_titledata[doc_group] = []\n",
    "    traingroups_titledata[doc_group].append((doc_id, title, target))"
   ]
  },
  {
   "cell_type": "code",
   "execution_count": 170,
   "metadata": {},
   "outputs": [
    {
     "name": "stdout",
     "output_type": "stream",
     "text": [
      "(11690, 25) (11690,) (11690,)\n"
     ]
    }
   ],
   "source": [
    "import numpy as np\n",
    "y_train = []\n",
    "X_train = []\n",
    "groups_train = []\n",
    "for new_group in traingroups_titledata:\n",
    "    docs = traingroups_titledata[new_group]\n",
    "    for k, (doc_id, title, target_id) in enumerate(docs):\n",
    "        y_train.append(target_id)\n",
    "        groups_train.append(new_group)\n",
    "        all_dist = []\n",
    "        words = set(title.strip().split())\n",
    "        for j in range(0, len(docs)):\n",
    "            if k == j:\n",
    "                continue\n",
    "            doc_id_j, title_j, target_j = docs[j]\n",
    "            words_j = set(title_j.strip().split())\n",
    "            all_dist.append(len(words.intersection(words_j)))\n",
    "        X_train.append(sorted(all_dist, reverse=True)[0:25]    )\n",
    "X_train = np.array(X_train)\n",
    "y_train = np.array(y_train)\n",
    "groups_train = np.array(groups_train)\n",
    "print (X_train.shape, y_train.shape, groups_train.shape)"
   ]
  },
  {
   "cell_type": "markdown",
   "metadata": {},
   "source": [
    "Подберите размер батча для обучения. Линейная модель не должна учиться дольше нескольких минут. \n",
    "\n",
    "Не забывайте использовать скейлер!"
   ]
  },
  {
   "cell_type": "code",
   "execution_count": 97,
   "metadata": {},
   "outputs": [],
   "source": [
    "import lightgbm as lgb\n",
    "import xgboost as xgb\n",
    "from sklearn.ensemble import GradientBoostingClassifier\n",
    "from sklearn.model_selection import RepeatedKFold, KFold\n",
    "import matplotlib.pyplot as plt\n",
    "# clf = lgb.LGBMClassifier()"
   ]
  },
  {
   "cell_type": "code",
   "execution_count": 107,
   "metadata": {
    "scrolled": true
   },
   "outputs": [
    {
     "data": {
      "text/plain": [
       "[<matplotlib.lines.Line2D at 0x7feeb40d23a0>]"
      ]
     },
     "execution_count": 107,
     "metadata": {},
     "output_type": "execute_result"
    },
    {
     "data": {
      "image/png": "[encoded data removed]",
      "text/plain": [
       "<Figure size 432x288 with 1 Axes>"
      ]
     },
     "metadata": {
      "needs_background": "light"
     },
     "output_type": "display_data"
    }
   ],
   "source": [
    "param_dist = {'n_estimators': 25, 'verbosity': 1, 'objective': 'reg:squarederror'}\n",
    "splits = 5\n",
    "rkf = RepeatedKFold(n_splits=splits, n_repeats=1, random_state=100500)\n",
    "res = []\n",
    "for train_idx, test_idx in rkf.split(X_train, y_train):\n",
    "    X_tr, y_tr = X_train[train_idx], y_train[train_idx]\n",
    "    X_ts, y_ts = X_train[test_idx], y_train[test_idx]\n",
    "    \n",
    "    clf = xgb.XGBClassifier(**param_dist)\n",
    "\n",
    "    clf.fit(X_tr, y_tr,\n",
    "        eval_set=[(X_ts, y_ts)],\n",
    "        #eval_metric='rmse',\n",
    "        verbose=False)\n",
    "\n",
    "    evals_result = clf.evals_result()\n",
    "    \n",
    "    if len(res) > 0:\n",
    "        res = [res[i] + e_res for i, e_res in enumerate(evals_result['validation_0']['rmse'])]\n",
    "    else:\n",
    "        res = evals_result['validation_0']['rmse']\n",
    "\n",
    "plt.plot([r / splits for r in res])"
   ]
  },
  {
   "cell_type": "code",
   "execution_count": 108,
   "metadata": {},
   "outputs": [],
   "source": [
    "param_dist['n_estimators'] = 20"
   ]
  },
  {
   "cell_type": "code",
   "execution_count": 109,
   "metadata": {},
   "outputs": [
    {
     "data": {
      "text/plain": [
       "[<matplotlib.lines.Line2D at 0x7feeb41ad280>]"
      ]
     },
     "execution_count": 109,
     "metadata": {},
     "output_type": "execute_result"
    },
    {
     "data": {
      "image/png": "[encoded data removed]",
      "text/plain": [
       "<Figure size 432x288 with 1 Axes>"
      ]
     },
     "metadata": {
      "needs_background": "light"
     },
     "output_type": "display_data"
    }
   ],
   "source": [
    "etas = [0.1, 0.15, 0.2, 0.25, 0.4]\n",
    "splits=5\n",
    "result = [0] * len(etas)\n",
    "kf = KFold(n_splits=splits, shuffle=True, random_state=100500)\n",
    "for train_idx, test_idx in kf.split(X_train, y_train):\n",
    "    X_tr, y_tr = X_train[train_idx], y_train[train_idx]\n",
    "    X_ts, y_ts = X_train[test_idx], y_train[test_idx]\n",
    "    tmp = []\n",
    "    for eta in etas:\n",
    "        clf = xgb.XGBClassifier(learning_rate=eta, **param_dist)\n",
    "        clf.fit(X_tr, y_tr,\n",
    "            eval_set=[(X_ts, y_ts)],\n",
    "            eval_metric='rmse',\n",
    "            verbose=False)\n",
    "        evals_result = clf.evals_result()\n",
    "        tmp.append(evals_result['validation_0']['rmse'][-1])\n",
    "    result = [r + tmp[i] for i, r in enumerate(result)]\n",
    "\n",
    "plt.plot(etas, result)"
   ]
  },
  {
   "cell_type": "code",
   "execution_count": 110,
   "metadata": {},
   "outputs": [],
   "source": [
    "param_dist['learning_rate'] = 0.2"
   ]
  },
  {
   "cell_type": "code",
   "execution_count": 111,
   "metadata": {},
   "outputs": [],
   "source": [
    "depths = range(1, 8, 2)\n",
    "leaves = range(1, 10, 2)\n",
    "steps = [0, 0.1, 0.2, 0.5, 1, 2]\n",
    "splits=5\n",
    "result = {}\n",
    "kf = KFold(n_splits=splits, shuffle=True, random_state=100500)\n",
    "for train_idx, test_idx in kf.split(X_train, y_train):\n",
    "    X_tr, y_tr = X_train[train_idx], y_train[train_idx]\n",
    "    X_ts, y_ts = X_train[test_idx], y_train[test_idx]\n",
    "    tmp = {}\n",
    "    for depth in depths:\n",
    "        for leaf in leaves:\n",
    "            for step in steps:\n",
    "                clf = xgb.XGBClassifier(max_depth=depth, min_child_weight=leaf, \n",
    "                                        max_delta_step=step, **param_dist)\n",
    "                clf.fit(X_tr, y_tr,\n",
    "                        eval_set=[(X_ts, y_ts)],\n",
    "                        eval_metric='rmse',\n",
    "                        verbose=False)\n",
    "                evals_result = clf.evals_result()\n",
    "                idx = '({}, {}, {})'.format(depth, leaf, step)\n",
    "                tmp[idx] = evals_result['validation_0']['rmse'][-1]\n",
    "    \n",
    "    if len(result) > 0:\n",
    "        for key in result.keys():\n",
    "            result[key] += tmp[key]\n",
    "    else:\n",
    "        result = tmp"
   ]
  },
  {
   "cell_type": "code",
   "execution_count": 112,
   "metadata": {},
   "outputs": [
    {
     "name": "stdout",
     "output_type": "stream",
     "text": [
      "(5, 1, 0.5) 1.905189\n"
     ]
    }
   ],
   "source": [
    "key_min = min(result.keys(), key=(lambda k: result[k]))\n",
    "print(key_min, result[key_min])"
   ]
  },
  {
   "cell_type": "code",
   "execution_count": 115,
   "metadata": {},
   "outputs": [],
   "source": [
    "keys = key_min.split(', ')\n",
    "param_dist['max_depth'] = int(keys[0][1:])\n",
    "param_dist['min_child_weight'] = float(keys[1])\n",
    "param_dist['max_delta_step'] = float(keys[2][:-1])"
   ]
  },
  {
   "cell_type": "code",
   "execution_count": 119,
   "metadata": {},
   "outputs": [],
   "source": [
    "bytrees = [0.5, 0.6, 0.7, 0.8, 0.9, 1]\n",
    "bylevels = [0.5, 0.8, 1]\n",
    "bynodes = [0.5, 0.8, 1]\n",
    "subsamples = [0.5, 0.6, 0.7, 0.8, 0.9, 1]\n",
    "splits = 5\n",
    "result = {}\n",
    "kf = KFold(n_splits=splits, shuffle=True, random_state=100500)\n",
    "for train_idx, test_idx in kf.split(X_train, y_train):\n",
    "    X_tr, y_tr = X_train[train_idx], y_train[train_idx]\n",
    "    X_ts, y_ts = X_train[test_idx], y_train[test_idx]\n",
    "    tmp = {}\n",
    "    for smp in subsamples:\n",
    "        #for bt in bytrees:\n",
    "        #    for bl in bylevels:\n",
    "        #        for bn in bynodes:\n",
    "                    clf = xgb.XGBClassifier(#colsample_bytree=bt,# colsample_bylevel=bl, colsample_bynode=bn, \n",
    "                                            subsample=smp, **param_dist)\n",
    "                    clf.fit(X_tr, y_tr,\n",
    "                            eval_set=[(X_ts, y_ts)],\n",
    "                            eval_metric='rmse',\n",
    "                            verbose=False)\n",
    "                    evals_result = clf.evals_result()\n",
    "                    idx = '({})'.format(smp)#, bt, bl, bn)\n",
    "                    tmp[idx] = evals_result['validation_0']['rmse'][-1]\n",
    "\n",
    "    if len(result) > 0:\n",
    "        for key in result.keys():\n",
    "            result[key] += tmp[key]\n",
    "    else:\n",
    "        result = tmp"
   ]
  },
  {
   "cell_type": "code",
   "execution_count": 120,
   "metadata": {},
   "outputs": [
    {
     "name": "stdout",
     "output_type": "stream",
     "text": [
      "(0.8) 1.904487\n"
     ]
    }
   ],
   "source": [
    "key_min = min(result.keys(), key=(lambda k: result[k]))\n",
    "print(key_min, result[key_min])"
   ]
  },
  {
   "cell_type": "code",
   "execution_count": 122,
   "metadata": {},
   "outputs": [],
   "source": [
    "keys = key_min.split(', ')\n",
    "param_dist['subsample'] = float(keys[0][1:-1])\n",
    "#param_dist['colsample_bytree'] = float(keys[1][:-1])\n",
    "#param_dist['colsample_bylevel'] = float(keys[2])\n",
    "#param_dist['colsample_bynode'] = float(keys[3][:-1])"
   ]
  },
  {
   "cell_type": "code",
   "execution_count": 123,
   "metadata": {},
   "outputs": [],
   "source": [
    "lambdas = [0.5, 1, 3, 7, 10, 20, 40]\n",
    "splits = 5\n",
    "result = []\n",
    "kf = KFold(n_splits=splits, shuffle=True, random_state=100500)\n",
    "for train_idx, test_idx in kf.split(X_train, y_train):\n",
    "    X_tr, y_tr = X_train[train_idx], y_train[train_idx]\n",
    "    X_ts, y_ts = X_train[test_idx], y_train[test_idx]\n",
    "    tmp = []\n",
    "    for lam in lambdas:\n",
    "        clf = xgb.XGBClassifier(reg_lambda=lam, **param_dist)\n",
    "        clf.fit(X_tr, y_tr,\n",
    "                eval_set=[(X_ts, y_ts)],\n",
    "                eval_metric='rmse',\n",
    "                verbose=False)\n",
    "        evals_result = clf.evals_result()\n",
    "        tmp.append(evals_result['validation_0']['rmse'][-1])\n",
    "\n",
    "    if len(result) > 0:\n",
    "        for k, _ in enumerate(result):\n",
    "            result[k] += tmp[k]\n",
    "    else:\n",
    "        result = tmp"
   ]
  },
  {
   "cell_type": "code",
   "execution_count": 124,
   "metadata": {},
   "outputs": [
    {
     "data": {
      "text/plain": [
       "[<matplotlib.lines.Line2D at 0x7fee5c950d90>]"
      ]
     },
     "execution_count": 124,
     "metadata": {},
     "output_type": "execute_result"
    },
    {
     "data": {
      "image/png": "[encoded data removed]",
      "text/plain": [
       "<Figure size 432x288 with 1 Axes>"
      ]
     },
     "metadata": {
      "needs_background": "light"
     },
     "output_type": "display_data"
    }
   ],
   "source": [
    "plt.plot(lambdas, result)"
   ]
  },
  {
   "cell_type": "code",
   "execution_count": 125,
   "metadata": {},
   "outputs": [],
   "source": [
    "param_dist['lambda'] = 1"
   ]
  },
  {
   "cell_type": "code",
   "execution_count": 153,
   "metadata": {},
   "outputs": [],
   "source": [
    "spws = [0.5 + 0.3 * r for r in range(11)]\n",
    "splits = 5\n",
    "result = []\n",
    "kf = KFold(n_splits=splits, shuffle=True, random_state=100500)\n",
    "for train_idx, test_idx in kf.split(X_train, y_train):\n",
    "    X_tr, y_tr = X_train[train_idx], y_train[train_idx]\n",
    "    X_ts, y_ts = X_train[test_idx], y_train[test_idx]\n",
    "    tmp = []\n",
    "    for spw in spws:\n",
    "        clf = xgb.XGBClassifier(scale_pos_weight=spw, **param_dist)\n",
    "        clf.fit(X_tr, y_tr,\n",
    "                eval_set=[(X_ts, y_ts)],\n",
    "                eval_metric='rmse',\n",
    "                verbose=False)\n",
    "        evals_result = clf.evals_result()\n",
    "        tmp.append(evals_result['validation_0']['rmse'][-1])\n",
    "\n",
    "    if len(result) > 0:\n",
    "        for k, _ in enumerate(result):\n",
    "            result[k] += tmp[k]\n",
    "    else:\n",
    "        result = tmp"
   ]
  },
  {
   "cell_type": "code",
   "execution_count": 154,
   "metadata": {},
   "outputs": [
    {
     "data": {
      "text/plain": [
       "[<matplotlib.lines.Line2D at 0x7fee5c83ddc0>]"
      ]
     },
     "execution_count": 154,
     "metadata": {},
     "output_type": "execute_result"
    },
    {
     "data": {
      "image/png": "[encoded data removed]",
      "text/plain": [
       "<Figure size 432x288 with 1 Axes>"
      ]
     },
     "metadata": {
      "needs_background": "light"
     },
     "output_type": "display_data"
    }
   ],
   "source": [
    "plt.plot(spws, result)"
   ]
  },
  {
   "cell_type": "markdown",
   "metadata": {},
   "source": [
    "Задача: обучите на этих фичах (число фичей рассатриваем как гипераматр) бустинг, подберите параметры, засабмитьте на кагл. Побейте 0.62 паблик скор за сутки.  Удачи!"
   ]
  },
  {
   "cell_type": "code",
   "execution_count": 156,
   "metadata": {},
   "outputs": [
    {
     "data": {
      "text/html": [
       "<div>\n",
       "<style scoped>\n",
       "    .dataframe tbody tr th:only-of-type {\n",
       "        vertical-align: middle;\n",
       "    }\n",
       "\n",
       "    .dataframe tbody tr th {\n",
       "        vertical-align: top;\n",
       "    }\n",
       "\n",
       "    .dataframe thead th {\n",
       "        text-align: right;\n",
       "    }\n",
       "</style>\n",
       "<table border=\"1\" class=\"dataframe\">\n",
       "  <thead>\n",
       "    <tr style=\"text-align: right;\">\n",
       "      <th></th>\n",
       "      <th>pair_id</th>\n",
       "      <th>group_id</th>\n",
       "      <th>doc_id</th>\n",
       "    </tr>\n",
       "  </thead>\n",
       "  <tbody>\n",
       "    <tr>\n",
       "      <th>0</th>\n",
       "      <td>11691</td>\n",
       "      <td>130</td>\n",
       "      <td>6710</td>\n",
       "    </tr>\n",
       "    <tr>\n",
       "      <th>1</th>\n",
       "      <td>11692</td>\n",
       "      <td>130</td>\n",
       "      <td>4030</td>\n",
       "    </tr>\n",
       "    <tr>\n",
       "      <th>2</th>\n",
       "      <td>11693</td>\n",
       "      <td>130</td>\n",
       "      <td>5561</td>\n",
       "    </tr>\n",
       "    <tr>\n",
       "      <th>3</th>\n",
       "      <td>11694</td>\n",
       "      <td>130</td>\n",
       "      <td>4055</td>\n",
       "    </tr>\n",
       "    <tr>\n",
       "      <th>4</th>\n",
       "      <td>11695</td>\n",
       "      <td>130</td>\n",
       "      <td>4247</td>\n",
       "    </tr>\n",
       "  </tbody>\n",
       "</table>\n",
       "</div>"
      ],
      "text/plain": [
       "   pair_id  group_id  doc_id\n",
       "0    11691       130    6710\n",
       "1    11692       130    4030\n",
       "2    11693       130    5561\n",
       "3    11694       130    4055\n",
       "4    11695       130    4247"
      ]
     },
     "execution_count": 156,
     "metadata": {},
     "output_type": "execute_result"
    }
   ],
   "source": [
    "test_data = pd.read_csv('test_groups.csv')\n",
    "testgroups_titledata = {}\n",
    "for i in range(len(test_data)):\n",
    "    new_doc = test_data.iloc[i]\n",
    "    doc_group = new_doc['group_id']\n",
    "    doc_id = new_doc['doc_id']\n",
    "    title = doc_to_title[doc_id]\n",
    "    if doc_group not in testgroups_titledata:\n",
    "        testgroups_titledata[doc_group] = []\n",
    "    testgroups_titledata[doc_group].append((doc_id, title))\n",
    "test_data.head()"
   ]
  },
  {
   "cell_type": "code",
   "execution_count": 158,
   "metadata": {},
   "outputs": [
    {
     "name": "stdout",
     "output_type": "stream",
     "text": [
      "(16627, 25) (16627,)\n"
     ]
    }
   ],
   "source": [
    "X_test = []\n",
    "groups_test = []\n",
    "for new_group in testgroups_titledata:\n",
    "    docs = testgroups_titledata[new_group]\n",
    "    for k, (doc_id, title) in enumerate(docs):\n",
    "        groups_test.append(new_group)\n",
    "        all_dist = []\n",
    "        words = set(title.strip().split())\n",
    "        for j in range(0, len(docs)):\n",
    "            if k == j:\n",
    "                continue\n",
    "            doc_id_j, title_j = docs[j]\n",
    "            words_j = set(title_j.strip().split())\n",
    "            all_dist.append(len(words.intersection(words_j)))\n",
    "        X_test.append(sorted(all_dist, reverse=True)[0:25]    )\n",
    "X_test = np.array(X_test)\n",
    "groups_test = np.array(groups_test)\n",
    "print(X_test.shape, groups_test.shape)"
   ]
  },
  {
   "cell_type": "code",
   "execution_count": 159,
   "metadata": {},
   "outputs": [],
   "source": [
    "param_dist['learning_rate'] = 0.1"
   ]
  },
  {
   "cell_type": "code",
   "execution_count": 160,
   "metadata": {},
   "outputs": [],
   "source": [
    "from sklearn.model_selection import train_test_split\n",
    "X_tr, X_ts, y_tr, y_ts = train_test_split(X_train, y_train, test_size=0.2)"
   ]
  },
  {
   "cell_type": "code",
   "execution_count": 162,
   "metadata": {},
   "outputs": [
    {
     "name": "stdout",
     "output_type": "stream",
     "text": [
      "CPU times: user 35.9 s, sys: 112 ms, total: 36 s\n",
      "Wall time: 37 s\n"
     ]
    }
   ],
   "source": [
    "%%time\n",
    "\n",
    "#del param_dist['n_estimators']\n",
    "param_dist['max_depth'] = 3\n",
    "old = -1\n",
    "losses = []\n",
    "for n_est in range(10, 200, 5):\n",
    "    test_clf = xgb.XGBClassifier(n_estimators=n_est, **param_dist)\n",
    "    test_clf.fit(X_tr, y_tr,\n",
    "                eval_set=[(X_ts, y_ts)],\n",
    "                eval_metric='rmse',\n",
    "                verbose=False)\n",
    "    evals_result = test_clf.evals_result()\n",
    "    #if old < 0 or old > evals_result['validation_0']['rmse'][-1]:\n",
    "    old = evals_result['validation_0']['rmse'][-1]\n",
    "    losses.append(old)\n",
    "    \n",
    "#print(param_dist['n_estimators'])"
   ]
  },
  {
   "cell_type": "code",
   "execution_count": 163,
   "metadata": {},
   "outputs": [
    {
     "data": {
      "text/plain": [
       "[<matplotlib.lines.Line2D at 0x7fee9f5a2b20>]"
      ]
     },
     "execution_count": 163,
     "metadata": {},
     "output_type": "execute_result"
    },
    {
     "data": {
      "image/png": "[encoded data removed]",
      "text/plain": [
       "<Figure size 432x288 with 1 Axes>"
      ]
     },
     "metadata": {
      "needs_background": "light"
     },
     "output_type": "display_data"
    }
   ],
   "source": [
    "plt.plot(range(10, 200, 5), losses)"
   ]
  },
  {
   "cell_type": "code",
   "execution_count": 164,
   "metadata": {},
   "outputs": [
    {
     "name": "stdout",
     "output_type": "stream",
     "text": [
      "CPU times: user 26 s, sys: 206 ms, total: 26.2 s\n",
      "Wall time: 27.8 s\n"
     ]
    }
   ],
   "source": [
    "%%time\n",
    "\n",
    "#del param_dist['n_estimators']\n",
    "param_dist['max_depth'] = 3\n",
    "old = -1\n",
    "losses = []\n",
    "for n_est in range(10, 200, 5):\n",
    "    test_clf = xgb.XGBClassifier(n_estimators=n_est, **param_dist)\n",
    "    test_clf.fit(X_tr, y_tr,\n",
    "                eval_set=[(X_ts, y_ts)],\n",
    "                eval_metric='rmse',\n",
    "                verbose=False)\n",
    "    evals_result = test_clf.evals_result()\n",
    "    #if old < 0 or old > evals_result['validation_0']['rmse'][-1]:\n",
    "    old = evals_result['validation_0']['rmse'][-1]\n",
    "    losses.append(old)\n",
    "    \n",
    "#print(param_dist['n_estimators'])"
   ]
  },
  {
   "cell_type": "code",
   "execution_count": 165,
   "metadata": {},
   "outputs": [
    {
     "data": {
      "text/plain": [
       "[<matplotlib.lines.Line2D at 0x7fee5c898910>]"
      ]
     },
     "execution_count": 165,
     "metadata": {},
     "output_type": "execute_result"
    },
    {
     "data": {
      "image/png": "[encoded data removed]",
      "text/plain": [
       "<Figure size 432x288 with 1 Axes>"
      ]
     },
     "metadata": {
      "needs_background": "light"
     },
     "output_type": "display_data"
    }
   ],
   "source": [
    "plt.plot(range(10, 200, 5), losses)"
   ]
  },
  {
   "cell_type": "code",
   "execution_count": 166,
   "metadata": {},
   "outputs": [
    {
     "name": "stdout",
     "output_type": "stream",
     "text": [
      "CPU times: user 23.5 s, sys: 91.7 ms, total: 23.6 s\n",
      "Wall time: 23.8 s\n"
     ]
    }
   ],
   "source": [
    "%%time\n",
    "\n",
    "#del param_dist['n_estimators']\n",
    "param_dist['max_depth'] = 3\n",
    "param_dist['scale_pos_weight'] = 2.3\n",
    "old = -1\n",
    "losses = []\n",
    "for n_est in range(10, 200, 5):\n",
    "    test_clf = xgb.XGBClassifier(n_estimators=n_est, **param_dist)\n",
    "    test_clf.fit(X_tr, y_tr,\n",
    "                eval_set=[(X_ts, y_ts)],\n",
    "                eval_metric='rmse',\n",
    "                verbose=False)\n",
    "    evals_result = test_clf.evals_result()\n",
    "    #if old < 0 or old > evals_result['validation_0']['rmse'][-1]:\n",
    "    old = evals_result['validation_0']['rmse'][-1]\n",
    "    losses.append(old)\n",
    "    \n",
    "#print(param_dist['n_estimators'])"
   ]
  },
  {
   "cell_type": "code",
   "execution_count": 167,
   "metadata": {},
   "outputs": [
    {
     "data": {
      "text/plain": [
       "[<matplotlib.lines.Line2D at 0x7fee9f62fa60>]"
      ]
     },
     "execution_count": 167,
     "metadata": {},
     "output_type": "execute_result"
    },
    {
     "data": {
      "image/png": "[encoded data removed]",
      "text/plain": [
       "<Figure size 432x288 with 1 Axes>"
      ]
     },
     "metadata": {
      "needs_background": "light"
     },
     "output_type": "display_data"
    }
   ],
   "source": [
    "plt.plot(range(10, 200, 5), losses)"
   ]
  },
  {
   "cell_type": "code",
   "execution_count": null,
   "metadata": {},
   "outputs": [],
   "source": []
  },
  {
   "cell_type": "code",
   "execution_count": 171,
   "metadata": {},
   "outputs": [
    {
     "name": "stdout",
     "output_type": "stream",
     "text": [
      "{'verbosity': 1, 'objective': 'reg:squarederror', 'learning_rate': 0.01, 'max_depth': 3, 'min_child_weight': 1.0, 'max_delta_step': 0.5, 'subsample': 0.8, 'lambda': 1, 'scale_pos_weight': 2.3, 'n_estimators': 150}\n"
     ]
    }
   ],
   "source": [
    "param_dist['n_estimators'] = 150\n",
    "param_dist['scale_pos_weight'] = 2.3\n",
    "param_dist['learning_rate'] = 0.01\n",
    "param_dist['subsample'] = 0.8\n",
    "param_dist['max_depth'] = 3\n",
    "print(param_dist)\n",
    "test_clf = xgb.XGBClassifier(**param_dist)\n",
    "test_clf.fit(X_train, y_train)\n",
    "y_test_pred = test_clf.predict(X_test)"
   ]
  },
  {
   "cell_type": "code",
   "execution_count": 172,
   "metadata": {},
   "outputs": [
    {
     "data": {
      "text/html": [
       "<div>\n",
       "<style scoped>\n",
       "    .dataframe tbody tr th:only-of-type {\n",
       "        vertical-align: middle;\n",
       "    }\n",
       "\n",
       "    .dataframe tbody tr th {\n",
       "        vertical-align: top;\n",
       "    }\n",
       "\n",
       "    .dataframe thead th {\n",
       "        text-align: right;\n",
       "    }\n",
       "</style>\n",
       "<table border=\"1\" class=\"dataframe\">\n",
       "  <thead>\n",
       "    <tr style=\"text-align: right;\">\n",
       "      <th></th>\n",
       "      <th>target</th>\n",
       "    </tr>\n",
       "    <tr>\n",
       "      <th>pair_id</th>\n",
       "      <th></th>\n",
       "    </tr>\n",
       "  </thead>\n",
       "  <tbody>\n",
       "    <tr>\n",
       "      <th>11691</th>\n",
       "      <td>0</td>\n",
       "    </tr>\n",
       "    <tr>\n",
       "      <th>11692</th>\n",
       "      <td>1</td>\n",
       "    </tr>\n",
       "    <tr>\n",
       "      <th>11693</th>\n",
       "      <td>1</td>\n",
       "    </tr>\n",
       "    <tr>\n",
       "      <th>11694</th>\n",
       "      <td>1</td>\n",
       "    </tr>\n",
       "    <tr>\n",
       "      <th>11695</th>\n",
       "      <td>1</td>\n",
       "    </tr>\n",
       "  </tbody>\n",
       "</table>\n",
       "</div>"
      ],
      "text/plain": [
       "         target\n",
       "pair_id        \n",
       "11691         0\n",
       "11692         1\n",
       "11693         1\n",
       "11694         1\n",
       "11695         1"
      ]
     },
     "execution_count": 172,
     "metadata": {},
     "output_type": "execute_result"
    }
   ],
   "source": [
    "data = {'pair_id': np.asarray(test_data.pair_id), 'target': y_test_pred}\n",
    "df = pd.DataFrame(data=data)\n",
    "df = df.set_index(keys=['pair_id'])\n",
    "df.to_csv('submitBoost.csv')\n",
    "df.head()"
   ]
  },
  {
   "cell_type": "code",
   "execution_count": 173,
   "metadata": {},
   "outputs": [
    {
     "name": "stdout",
     "output_type": "stream",
     "text": [
      "5978\n",
      "10649\n",
      "3361\n",
      "8329\n"
     ]
    }
   ],
   "source": [
    "print((y_test_pred == 1).astype(int).sum())\n",
    "print((y_test_pred == 0).astype(int).sum())\n",
    "\n",
    "print((y_train == 1).astype(int).sum())\n",
    "print((y_train == 0).astype(int).sum())"
   ]
  },
  {
   "cell_type": "code",
   "execution_count": null,
   "metadata": {},
   "outputs": [],
   "source": []
  }
 ],
 "metadata": {
  "anaconda-cloud": {},
  "kernelspec": {
   "display_name": "Python 3",
   "language": "python",
   "name": "python3"
  },
  "language_info": {
   "codemirror_mode": {
    "name": "ipython",
    "version": 3
   },
   "file_extension": ".py",
   "mimetype": "text/x-python",
   "name": "python",
   "nbconvert_exporter": "python",
   "pygments_lexer": "ipython3",
   "version": "3.8.5"
  },
  "nav_menu": {},
  "toc": {
   "colors": {
    "hover_highlight": "#DAA520",
    "navigate_num": "#000000",
    "navigate_text": "#333333",
    "running_highlight": "#FF0000",
    "selected_highlight": "#FFD700",
    "sidebar_border": "#EEEEEE",
    "wrapper_background": "#FFFFFF"
   },
   "moveMenuLeft": true,
   "nav_menu": {
    "height": "402px",
    "width": "253px"
   },
   "navigate_menu": true,
   "number_sections": false,
   "sideBar": true,
   "threshold": 4,
   "toc_cell": false,
   "toc_section_display": "block",
   "toc_window_display": true,
   "widenNotebook": false
  }
 },
 "nbformat": 4,
 "nbformat_minor": 2
}
