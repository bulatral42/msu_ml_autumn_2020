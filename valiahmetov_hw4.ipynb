{
 "cells": [
  {
   "cell_type": "markdown",
   "metadata": {},
   "source": [
    "### Алгоритмы интеллектуальной обработки больших объемов данных\n",
    "## Домашнее задание №4 - Градиентный бустинг\n"
   ]
  },
  {
   "cell_type": "markdown",
   "metadata": {},
   "source": [
    "**Общая информация**\n",
    "\n",
    "**Срок сдачи:** 21 декабря 2020, 08:30   \n",
    "**Штраф за опоздание:** -2 балла после 08:30 21 декабря, -4 балла после 08:30 28 декабря, -6 баллов после 08:30 04 янва, -8 баллов после 08:30 11 января.\n",
    "\n",
    "При отправлении ДЗ указывайте фамилию в названии файла Присылать ДЗ необходимо в виде ссылки на свой github репозиторий на почту ml1.sphere@mail.ru с указанием темы в следующем формате:\n",
    "[ML0220, Задание 4] Фамилия Имя. \n",
    "\n",
    "\n",
    "Используйте данный Ipython Notebook при оформлении домашнего задания."
   ]
  },
  {
   "cell_type": "markdown",
   "metadata": {},
   "source": [
    "##  Считаем производные для функций потерь (1 балл)"
   ]
  },
  {
   "cell_type": "markdown",
   "metadata": {},
   "source": [
    "Мы будем реализовать градиентный бустинг для 3 функций потерь:\n",
    "\n",
    "1) MSE  $L(a(x_i), y_i) = (y_i - a(x_i)) ^ 2$\n",
    "\n",
    "2) Экспоненциальная  $L(a(x_i), y_i) = exp( -a(x_i) y_i), y_i \\in \\{-1, 1\\}$\n",
    "\n",
    "3) Логистическая  $L(a(x_i), y_i) = \\log (1 + exp( -a(x_i) y_i)), y_i \\in \\{-1, 1\\}$\n",
    "\n",
    "где $a(x_i)$ предсказание бустинга на итом объекте. \n",
    "\n",
    "Для каждой функции потерь напишите таргет, на который будет настраиваться каждое дерево в бустинге. "
   ]
  },
  {
   "cell_type": "markdown",
   "metadata": {},
   "source": [
    "### Решение\n",
    "\n",
    "$L = L(F(x_i), y_i)$\n",
    "\n",
    "Таргет $z_i = -\\dfrac{\\partial L}{\\partial F}(F_{k-1}(x_i), y_i)$, $i =\\overline{1, n}$ на $k$-й итерации:\n",
    "1) $z_i = -2(F_{k-1}(x_i) - y_i) = 2(y_i - F_{k-1}(x_i))$\n",
    "\n",
    "2) $z_i = -\\exp(-y_i F_{k-1}(x_i))(-y_i) =  y_i\\exp(-y_i F_{k-1}(x_i))$\n",
    "\n",
    "3) $z_i = \\dfrac{y_i\\exp(-y_i F_{k-1}(x_i))}{1 + \\exp(-y_i F_{k-1}(x_i)} = \\dfrac{y_i}{1 + \\exp(y_i F_{k-1}(x_i))}$"
   ]
  },
  {
   "cell_type": "markdown",
   "metadata": {},
   "source": [
    "##  Реализуем градиентный бустинг (3 балла)"
   ]
  },
  {
   "cell_type": "markdown",
   "metadata": {},
   "source": [
    "Реализуйте класс градиентного бустинга для классификации. Ваша реализация бустинга должна работать по точности не более чем на 5 процентов хуже чем GradientBoostingClassifier из sklearn. \n"
   ]
  },
  {
   "cell_type": "markdown",
   "metadata": {},
   "source": [
    "Детали реализации:\n",
    "\n",
    "-- должно поддерживаться 3 функции потерь\n",
    "\n",
    "-- сами базовые алгоритмы(деревья, линейные модели и тп) реализовать не надо, просто возьмите готовые из sklearn\n",
    "\n",
    "-- в качестве функции потерь для построения одного дерева используйте MSE\n",
    "\n",
    "-- шаг в бустинге можно не подбирать, можно брать константный\n",
    "\n",
    "-- можно брать разные модели в качестве инициализации бустинга\n",
    "\n",
    "-- должны поддерживаться следующие параметры:\n",
    "\n",
    "а) число итераций\n",
    "б) размер шага\n",
    "в) процент случайных фичей при построении одного дерева\n",
    "д) процент случайных объектов при построении одного дерева\n",
    "е) параметры базового алгоритма (передавайте через **kwargs)"
   ]
  },
  {
   "cell_type": "code",
   "execution_count": 107,
   "metadata": {},
   "outputs": [],
   "source": [
    "import numpy as np\n",
    "import pandas as pd\n",
    "\n",
    "from sklearn.datasets import load_wine\n",
    "from sklearn.ensemble import GradientBoostingClassifier\n",
    "from sklearn.metrics import accuracy_score\n",
    "from sklearn.model_selection import train_test_split\n",
    "from sklearn.tree import DecisionTreeRegressor, DecisionTreeClassifier\n",
    "from sklearn.linear_model import LinearRegression\n",
    "\n",
    "import random\n",
    "\n",
    "import matplotlib.pyplot as plt"
   ]
  },
  {
   "cell_type": "code",
   "execution_count": 335,
   "metadata": {},
   "outputs": [],
   "source": [
    "class MyGradientBoostingClassifier:\n",
    "\n",
    "    def __init__(self, loss='mse', learning_rate=0.1, n_estimators=100, colsample=1.0, subsample=1.0, *args, **kwargs):\n",
    "        \"\"\"\n",
    "        loss -- один из 3 лоссов:\n",
    "        learning_rate -- шаг бустинга\n",
    "        n_estimators -- число итераций\n",
    "        colsample -- процент рандомных признаков при обучнеии одного алгоритма\n",
    "        subsample -- процент рандомных объектов при обучнеии одного алгоритма\n",
    "        args, kwargs -- параметры  базовых моделей\n",
    "        \"\"\"\n",
    "        # Ваш код здесь\n",
    "        self.loss = loss\n",
    "        self.learning_rate = learning_rate\n",
    "        self.n_estimators = n_estimators\n",
    "        self.colsample = colsample\n",
    "        self.subsample = subsample\n",
    "        self.base_args = args\n",
    "        self.base_kwargs = kwargs\n",
    "        self.base_models = [] # (c_i, f_i, idx_feat)\n",
    "        self.last_loss = None\n",
    "        self.last_predict = None\n",
    "    \n",
    "    def calc_grad(self, idx_obj, y):\n",
    "        F_last = self.last_predict[idx_obj]\n",
    "        if self.loss == 'exp':\n",
    "            return y * np.exp(-y * F_last)\n",
    "        elif self.loss == 'logexp':\n",
    "            tmp = np.exp(y * F_last)\n",
    "            return y / (1.0 + tmp)\n",
    "        elif self.loss == 'mse':\n",
    "            return 2 * (y - F_last)\n",
    "    \n",
    "    \n",
    "    def fit(self, X, y, base_model=DecisionTreeRegressor, init_model=None):\n",
    "        \"\"\"\n",
    "        X -- объекты для обучения:\n",
    "        y -- таргеты для обучения\n",
    "        base_model -- класс базовых моделей, например sklearn.tree.DecisionTreeRegressor\n",
    "        init_model -- класс для первой модели, если None то берем константу (только для посл задания)\n",
    "        \"\"\"\n",
    "        # Ваш код здесь\n",
    "        n_obj = int(self.subsample * X.shape[0])\n",
    "        n_feat = int(self.colsample * X.shape[1])\n",
    "        \n",
    "        if init_model is not None:\n",
    "            init_model.fit(X, y)\n",
    "            self.last_predict = init_model.predict(X).astype('float64')\n",
    "            self.base_models.append((1.0, init_model, np.arange(X.shape[1])))\n",
    "        else:\n",
    "            self.last_predict = np.zeros(shape=(X.shape[0]))\n",
    "        \n",
    "        grid = np.indices(X.shape)\n",
    "        for step in range(self.n_estimators):\n",
    "            model = base_model(*self.base_args, **self.base_kwargs)\n",
    "            idx_obj = np.random.choice(X.shape[0], n_obj)\n",
    "            idx_obj = np.array(range(X.shape[0]))\n",
    "            idx_feat = np.sort(np.random.choice(X.shape[1], n_feat, replace=False))\n",
    "            X_sample = X[grid[0][idx_obj, :idx_feat.shape[0]], grid[1][:idx_obj.shape[0], idx_feat]]\n",
    "            z_sample = self.calc_grad(idx_obj, y[idx_obj])\n",
    "            model.fit(X_sample, z_sample)\n",
    "            self.base_models.append((self.learning_rate, model, idx_feat))\n",
    "            self.last_predict += self.learning_rate * model.predict(X[:, idx_feat])\n",
    "        \n",
    "        \n",
    "    def predict(self, X):\n",
    "        # Ваш код здесь\n",
    "        pred = 0\n",
    "        n_obj = int(self.subsample * X.shape[0])\n",
    "        n_feat = int(self.colsample * X.shape[1])\n",
    "        grid = np.indices(X.shape)\n",
    "        for eta, model, idx_feat in self.base_models:\n",
    "            X_sample = X[grid[0][:, :idx_feat.shape[0]], grid[1][:, idx_feat]]\n",
    "            pred += eta * model.predict(X_sample)\n",
    "        if self.loss == 'mse':\n",
    "            return (pred + 0.5).astype('int')\n",
    "        else:\n",
    "            return -1 + 2 * (pred > 0).astype('int')"
   ]
  },
  {
   "cell_type": "code",
   "execution_count": 266,
   "metadata": {},
   "outputs": [],
   "source": [
    "my_clf = MyGradientBoostingClassifier(n_estimators=100)\n",
    "clf = GradientBoostingClassifier()"
   ]
  },
  {
   "cell_type": "code",
   "execution_count": 267,
   "metadata": {},
   "outputs": [],
   "source": [
    "wine = load_wine()\n",
    "X_train, X_test, y_train, y_test = train_test_split(wine.data, wine.target, test_size=0.1, stratify=wine.target)"
   ]
  },
  {
   "cell_type": "code",
   "execution_count": 268,
   "metadata": {},
   "outputs": [
    {
     "name": "stdout",
     "output_type": "stream",
     "text": [
      "0.9444444444444444\n",
      "0.9444444444444444\n"
     ]
    }
   ],
   "source": [
    "my_clf.fit(X_train, y_train)\n",
    "clf.fit(X_train, y_train)\n",
    "print(accuracy_score(y_pred=clf.predict(X_test), y_true=y_test))\n",
    "print(accuracy_score(y_pred=my_clf.predict(X_test), y_true=y_test))"
   ]
  },
  {
   "cell_type": "markdown",
   "metadata": {},
   "source": [
    "## Подбираем параметры (2 балла)\n",
    "\n",
    "Давайте попробуем применить Ваш бустинг для предсказаний цены домов в Калифорнии. Чтобы можно было попробовтаь разные функции потерь, переведем по порогу таргет в 2 класса: дорогие и дешевые дома."
   ]
  },
  {
   "cell_type": "markdown",
   "metadata": {},
   "source": [
    "В задании нужно\n",
    "\n",
    "1) Построить график точности в зависимости от числа итераций на валидации.\n",
    "\n",
    "2) Подобрать оптимальные параметры Вашего бустинга на валидации. \n"
   ]
  },
  {
   "cell_type": "code",
   "execution_count": 269,
   "metadata": {},
   "outputs": [
    {
     "name": "stdout",
     "output_type": "stream",
     "text": [
      "(20640, 8) (20640,)\n"
     ]
    }
   ],
   "source": [
    "from sklearn.datasets import fetch_california_housing\n",
    "X, y = fetch_california_housing(return_X_y=True)\n",
    "# Превращаем регрессию в классификацию\n",
    "y = (y > 2.0).astype(int)\n",
    "y1 = -1 + 2 * y\n",
    "print(X.shape, y.shape)"
   ]
  },
  {
   "cell_type": "code",
   "execution_count": 270,
   "metadata": {},
   "outputs": [],
   "source": [
    "idx = np.arange(X.shape[0])\n",
    "np.random.shuffle(idx)\n",
    "train_len = int(0.6 * X.shape[0])\n",
    "X_train, X_val = X[idx[:train_len]], X[idx[train_len:]]\n",
    "y_train, y_val = y[idx[:train_len]], y[idx[train_len:]]\n",
    "y1_train, y1_val = y1[idx[:train_len]], y1[idx[train_len:]]"
   ]
  },
  {
   "cell_type": "code",
   "execution_count": 271,
   "metadata": {},
   "outputs": [],
   "source": [
    "res = []\n",
    "res2 = []\n",
    "losses = ['mse', 'logexp', 'exp']\n",
    "for loss in losses:\n",
    "    my_clf = MyGradientBoostingClassifier(n_estimators=500, max_depth=5, loss=loss)\n",
    "    if loss == 'mse':\n",
    "        my_clf.fit(X_train, y_train)\n",
    "        y_pred = my_clf.predict(X_val)\n",
    "        res.append(accuracy_score(y_pred=y_pred, y_true=y_val))\n",
    "    else:\n",
    "        my_clf.fit(X_train, y1_train)\n",
    "        y_pred = my_clf.predict(X_val)\n",
    "        res.append(accuracy_score(y_pred=y_pred, y_true=y1_val))"
   ]
  },
  {
   "cell_type": "code",
   "execution_count": 272,
   "metadata": {},
   "outputs": [
    {
     "data": {
      "text/plain": [
       "[<matplotlib.lines.Line2D at 0x7f0f94e74790>]"
      ]
     },
     "execution_count": 272,
     "metadata": {},
     "output_type": "execute_result"
    },
    {
     "data": {
      "image/png": "[encoded data removed]",
      "text/plain": [
       "<Figure size 432x288 with 1 Axes>"
      ]
     },
     "metadata": {
      "needs_background": "light"
     },
     "output_type": "display_data"
    }
   ],
   "source": [
    "plt.plot(losses, res)"
   ]
  },
  {
   "cell_type": "markdown",
   "metadata": {},
   "source": [
    "Будем использовать mse и exp loss'ы"
   ]
  },
  {
   "cell_type": "code",
   "execution_count": 275,
   "metadata": {},
   "outputs": [],
   "source": [
    "res = []\n",
    "res2 = []\n",
    "iterations = [5, 10, 15, 20, 30, 40, 50, 100, 150]\n",
    "for i in iterations:\n",
    "    my_clf = MyGradientBoostingClassifier(n_estimators=i, max_depth=5, loss='mse')\n",
    "    my_clf.fit(X_train, y_train)\n",
    "    y_pred = my_clf.predict(X_val)\n",
    "    res.append(accuracy_score(y_pred=y_pred, y_true=y_val))\n",
    "    \n",
    "    clf = MyGradientBoostingClassifier(n_estimators=i, max_depth=5, loss='exp')\n",
    "    clf.fit(X_train, y1_train)\n",
    "    y_pred = clf.predict(X_val)\n",
    "    res2.append(accuracy_score(y_pred=y_pred, y_true=y1_val))"
   ]
  },
  {
   "cell_type": "code",
   "execution_count": 276,
   "metadata": {},
   "outputs": [
    {
     "data": {
      "text/plain": [
       "[<matplotlib.lines.Line2D at 0x7f0f94bcd340>]"
      ]
     },
     "execution_count": 276,
     "metadata": {},
     "output_type": "execute_result"
    },
    {
     "data": {
      "image/png": "[encoded data removed]",
      "text/plain": [
       "<Figure size 432x288 with 1 Axes>"
      ]
     },
     "metadata": {
      "needs_background": "light"
     },
     "output_type": "display_data"
    }
   ],
   "source": [
    "plt.plot(iterations, res)\n",
    "plt.plot(iterations, res2)"
   ]
  },
  {
   "cell_type": "markdown",
   "metadata": {},
   "source": [
    "Видим, что оптимальное число итераций равно 100."
   ]
  },
  {
   "cell_type": "markdown",
   "metadata": {},
   "source": [
    "Подберем learning_rate."
   ]
  },
  {
   "cell_type": "code",
   "execution_count": 277,
   "metadata": {},
   "outputs": [],
   "source": [
    "rates = [0.001, 0.01, 0.05, 0.1, 0.2, 0.4]\n",
    "res = []\n",
    "res2 = []\n",
    "for l_rate in rates:\n",
    "    my_clf = MyGradientBoostingClassifier(n_estimators=100, max_depth=5, learning_rate=l_rate)\n",
    "    my_clf.fit(X_train, y_train)\n",
    "    y_pred = my_clf.predict(X_val)\n",
    "    res.append(accuracy_score(y_pred=y_pred, y_true=y_val))\n",
    "    \n",
    "    clf = MyGradientBoostingClassifier(loss = 'exp', n_estimators=100, max_depth=5, learning_rate=l_rate)\n",
    "    clf.fit(X_train, y1_train)\n",
    "    y_pred = clf.predict(X_val)\n",
    "    res2.append(accuracy_score(y_pred=y_pred, y_true=y1_val))"
   ]
  },
  {
   "cell_type": "code",
   "execution_count": 278,
   "metadata": {},
   "outputs": [
    {
     "data": {
      "text/plain": [
       "[<matplotlib.lines.Line2D at 0x7f0f94b275e0>]"
      ]
     },
     "execution_count": 278,
     "metadata": {},
     "output_type": "execute_result"
    },
    {
     "data": {
      "image/png": "[encoded data removed]",
      "text/plain": [
       "<Figure size 432x288 with 1 Axes>"
      ]
     },
     "metadata": {
      "needs_background": "light"
     },
     "output_type": "display_data"
    }
   ],
   "source": [
    "plt.plot(res)\n",
    "plt.plot(res2)"
   ]
  },
  {
   "cell_type": "markdown",
   "metadata": {},
   "source": [
    "Видим, что оптимальное learning_rate равно 0.1 для mse и 0.2 для exp."
   ]
  },
  {
   "cell_type": "markdown",
   "metadata": {},
   "source": [
    "Подберем max_depths."
   ]
  },
  {
   "cell_type": "code",
   "execution_count": 279,
   "metadata": {},
   "outputs": [],
   "source": [
    "depths = [2, 3, 4, 5, 6, 7]\n",
    "res = []\n",
    "res2 = []\n",
    "for d in depths:\n",
    "    my_clf = MyGradientBoostingClassifier(n_estimators=100, max_depth=d, learning_rate=0.1)\n",
    "    my_clf.fit(X_train, y_train)\n",
    "    y_pred = my_clf.predict(X_val)\n",
    "    res.append(accuracy_score(y_pred=y_pred, y_true=y_val))\n",
    "    \n",
    "    clf = MyGradientBoostingClassifier(loss = 'exp', n_estimators=100, max_depth=d, learning_rate=0.2)\n",
    "    clf.fit(X_train, y1_train)\n",
    "    y_pred = clf.predict(X_val)\n",
    "    res2.append(accuracy_score(y_pred=y_pred, y_true=y1_val))"
   ]
  },
  {
   "cell_type": "code",
   "execution_count": 280,
   "metadata": {},
   "outputs": [
    {
     "data": {
      "text/plain": [
       "[<matplotlib.lines.Line2D at 0x7f0f94afc8e0>]"
      ]
     },
     "execution_count": 280,
     "metadata": {},
     "output_type": "execute_result"
    },
    {
     "data": {
      "image/png": "[encoded data removed]",
      "text/plain": [
       "<Figure size 432x288 with 1 Axes>"
      ]
     },
     "metadata": {
      "needs_background": "light"
     },
     "output_type": "display_data"
    }
   ],
   "source": [
    "plt.plot(depths, res)\n",
    "plt.plot(depths, res2)"
   ]
  },
  {
   "cell_type": "markdown",
   "metadata": {},
   "source": [
    "Оптимальная глубина дерева равна 5."
   ]
  },
  {
   "cell_type": "markdown",
   "metadata": {},
   "source": [
    "Подберем colsample и subsample."
   ]
  },
  {
   "cell_type": "code",
   "execution_count": 283,
   "metadata": {},
   "outputs": [],
   "source": [
    "cols = [0.25, 0.5, 0.75, 1.0]\n",
    "subs = [0.01, 0.1, 0.25, 0.5, 0.75, 1.0]\n",
    "res = {}\n",
    "res2 = {}\n",
    "for col in cols:\n",
    "    res['col={}'.format(col)] = []\n",
    "    res2['col={}'.format(col)] = []\n",
    "    for sub in subs:\n",
    "        my_clf = MyGradientBoostingClassifier(n_estimators=100, max_depth=5, learning_rate=0.1,\n",
    "                                              subsample=sub, colsample=col)\n",
    "        my_clf.fit(X_train, y_train)\n",
    "        y_pred = my_clf.predict(X_val)\n",
    "        res['col={}'.format(col)].append(accuracy_score(y_pred=y_pred, y_true=y_val))\n",
    "        \n",
    "        clf = MyGradientBoostingClassifier(loss = 'exp', n_estimators=100, max_depth=5, learning_rate=0.2,\n",
    "                                           subsample=sub, colsample=col)\n",
    "        clf.fit(X_train, y1_train)\n",
    "        y_pred = clf.predict(X_val)\n",
    "        res2['col={}'.format(col)].append(accuracy_score(y_pred=y_pred, y_true=y1_val))\n",
    "        \n",
    "        \n",
    "res = pd.DataFrame(res)\n",
    "res2 = pd.DataFrame(res2)"
   ]
  },
  {
   "cell_type": "code",
   "execution_count": 284,
   "metadata": {},
   "outputs": [
    {
     "data": {
      "image/png": "[encoded data removed]",
      "text/plain": [
       "<Figure size 432x288 with 1 Axes>"
      ]
     },
     "metadata": {
      "needs_background": "light"
     },
     "output_type": "display_data"
    },
    {
     "data": {
      "image/png": "[encoded data removed]",
      "text/plain": [
       "<Figure size 432x288 with 1 Axes>"
      ]
     },
     "metadata": {
      "needs_background": "light"
     },
     "output_type": "display_data"
    }
   ],
   "source": [
    "plt.plot(subs, res)\n",
    "plt.legend(res)\n",
    "plt.show()\n",
    "\n",
    "plt.plot(subs, res2)\n",
    "plt.legend(res2)\n",
    "plt.show()"
   ]
  },
  {
   "cell_type": "markdown",
   "metadata": {},
   "source": [
    "Оптимальные параметры:\n",
    "\n",
    "* n_estimators = 100\n",
    "* learning_rate = 0.1 (0.2 для exp)\n",
    "* max_depth = 5\n",
    "* colsample = 0.75\n",
    "* subsample = 0.5"
   ]
  },
  {
   "cell_type": "markdown",
   "metadata": {},
   "source": [
    "## BooBag BagBoo (1 балл)\n",
    "\n"
   ]
  },
  {
   "cell_type": "markdown",
   "metadata": {},
   "source": [
    "Попробуем объединить бустинг и бэгинг. Давайте\n",
    "\n",
    "1) в качестве базовой модели брать не дерево решений, а случайный лес (из sklearn)\n",
    "\n",
    "2) обучать N бустингов на бустрапированной выборке, а затем предикт усреднять"
   ]
  },
  {
   "cell_type": "markdown",
   "metadata": {},
   "source": [
    "Попробуйте обе этих стратегии на данных из прошлого задания. Получилось ли улучшить качество? Почему?"
   ]
  },
  {
   "cell_type": "code",
   "execution_count": 294,
   "metadata": {},
   "outputs": [],
   "source": [
    "from sklearn.ensemble import RandomForestRegressor, BaggingClassifier"
   ]
  },
  {
   "cell_type": "code",
   "execution_count": 288,
   "metadata": {},
   "outputs": [
    {
     "name": "stdout",
     "output_type": "stream",
     "text": [
      "(20640, 8) (20640,)\n"
     ]
    }
   ],
   "source": [
    "X, y = fetch_california_housing(return_X_y=True)\n",
    "\n",
    "y = (y > 2.0).astype(int)\n",
    "print(X.shape, y.shape)\n",
    "\n",
    "idx = np.arange(X.shape[0])\n",
    "np.random.shuffle(idx)\n",
    "train_len = int(0.6 * X.shape[0])\n",
    "X_train, X_val = X[idx[:train_len]], X[idx[train_len:]]\n",
    "y_train, y_val = y[idx[:train_len]], y[idx[train_len:]]\n",
    "y1_train, y1_val = y1[idx[:train_len]], y1[idx[train_len:]]"
   ]
  },
  {
   "cell_type": "markdown",
   "metadata": {},
   "source": [
    "Boosting of Bagging. Попробуем на mse."
   ]
  },
  {
   "cell_type": "code",
   "execution_count": 289,
   "metadata": {},
   "outputs": [
    {
     "name": "stdout",
     "output_type": "stream",
     "text": [
      "0.8924418604651163\n"
     ]
    }
   ],
   "source": [
    "params = { 'n_estimators': 100, 'learning_rate': 0.1, 'max_depth': 5, 'colsample': 0.75, 'subsample': 0.5 }\n",
    "clf = MyGradientBoostingClassifier(**params)\n",
    "clf.fit(X_train, y_train, base_model=RandomForestRegressor)\n",
    "y_pred = clf.predict(X_val)\n",
    "print(accuracy_score(y_pred=y_pred, y_true=y_val))"
   ]
  },
  {
   "cell_type": "markdown",
   "metadata": {},
   "source": [
    "А теперь на exp."
   ]
  },
  {
   "cell_type": "code",
   "execution_count": 291,
   "metadata": {},
   "outputs": [
    {
     "name": "stdout",
     "output_type": "stream",
     "text": [
      "0.8859011627906976\n"
     ]
    }
   ],
   "source": [
    "params = { 'loss': 'exp', 'n_estimators': 100, 'learning_rate': 0.2, 'max_depth': 5, 'colsample': 0.75, 'subsample': 0.5 }\n",
    "clf = MyGradientBoostingClassifier(**params)\n",
    "clf.fit(X_train, y1_train, base_model=RandomForestRegressor)\n",
    "y_pred = clf.predict(X_val)\n",
    "print(accuracy_score(y_pred=y_pred, y_true=y1_val))"
   ]
  },
  {
   "cell_type": "markdown",
   "metadata": {
    "collapsed": true
   },
   "source": [
    "Ну и на logexp."
   ]
  },
  {
   "cell_type": "code",
   "execution_count": 292,
   "metadata": {},
   "outputs": [
    {
     "name": "stdout",
     "output_type": "stream",
     "text": [
      "0.8654312015503876\n"
     ]
    }
   ],
   "source": [
    "params = { 'loss': 'logexp', 'n_estimators': 100, 'learning_rate': 0.1, 'max_depth': 5, 'colsample': 0.75, 'subsample': 0.5 }\n",
    "clf = MyGradientBoostingClassifier(**params)\n",
    "clf.fit(X_train, y1_train, base_model=RandomForestRegressor)\n",
    "y_pred = clf.predict(X_val)\n",
    "print(accuracy_score(y_pred=y_pred, y_true=y1_val))"
   ]
  },
  {
   "cell_type": "markdown",
   "metadata": {},
   "source": [
    "Качество улучшить не получилось. Возможно, потому что внутри Boosting классификатора мы уже использовали случайное подмножество фичей и при подобранных параметрах метод уже сходился. Качество даже немного ухудшилось, возможно, мы успели переобучиться."
   ]
  },
  {
   "cell_type": "markdown",
   "metadata": {},
   "source": [
    "Bagging of Boosting."
   ]
  },
  {
   "cell_type": "code",
   "execution_count": 307,
   "metadata": {},
   "outputs": [
    {
     "name": "stdout",
     "output_type": "stream",
     "text": [
      "0.890140503875969\n"
     ]
    }
   ],
   "source": [
    "params = { 'loss': 'mse', 'n_estimators': 100, 'learning_rate': 0.1, 'max_depth': 5, 'colsample': 0.75, 'subsample': 0.5 }\n",
    "N = 21\n",
    "pred = np.zeros(X_val.shape[0])\n",
    "for i in range(N):\n",
    "    idx = np.random.choice(X_train.shape[0], X_train.shape[0])\n",
    "    X_bagg, y_bagg = X_train[idx], y_train[idx]\n",
    "    clf = MyGradientBoostingClassifier(**params)\n",
    "    clf.fit(X_bagg, y_bagg)\n",
    "    pred += clf.predict(X_val)\n",
    "y_pred = (pred > N / 2).astype('int')\n",
    "print(accuracy_score(y_pred=y_pred, y_true=y_val))"
   ]
  },
  {
   "cell_type": "code",
   "execution_count": 308,
   "metadata": {},
   "outputs": [
    {
     "name": "stdout",
     "output_type": "stream",
     "text": [
      "0.8705184108527132\n"
     ]
    }
   ],
   "source": [
    "params = { 'loss': 'logexp', 'n_estimators': 100, 'learning_rate': 0.2, 'max_depth': 5, 'colsample': 0.75, 'subsample': 0.5 }\n",
    "N = 21\n",
    "pred = np.zeros(X_val.shape[0])\n",
    "for i in range(N):\n",
    "    idx = np.random.choice(X_train.shape[0], X_train.shape[0])\n",
    "    X_bagg, y_bagg = X_train[idx], y1_train[idx]\n",
    "    clf = MyGradientBoostingClassifier(**params)\n",
    "    clf.fit(X_bagg, y_bagg)\n",
    "    pred += clf.predict(X_val)\n",
    "y_pred = -1 + 2 * (pred > 0).astype('int')\n",
    "print(accuracy_score(y_pred=y_pred, y_true=y1_val))"
   ]
  },
  {
   "cell_type": "code",
   "execution_count": 309,
   "metadata": {},
   "outputs": [
    {
     "name": "stdout",
     "output_type": "stream",
     "text": [
      "0.8798449612403101\n"
     ]
    }
   ],
   "source": [
    "params = { 'loss': 'exp', 'n_estimators': 100, 'learning_rate': 0.1, 'max_depth': 5, 'colsample': 0.75, 'subsample': 0.5 }\n",
    "N = 21\n",
    "pred = np.zeros(X_val.shape[0])\n",
    "for i in range(N):\n",
    "    idx = np.random.choice(X_train.shape[0], X_train.shape[0])\n",
    "    X_bagg, y_bagg = X_train[idx], y1_train[idx]\n",
    "    clf = MyGradientBoostingClassifier(**params)\n",
    "    clf.fit(X_bagg, y_bagg)\n",
    "    pred += clf.predict(X_val)\n",
    "y_pred = -1 + 2 * (pred > 0).astype('int')\n",
    "print(accuracy_score(y_pred=y_pred, y_true=y1_val))"
   ]
  },
  {
   "cell_type": "markdown",
   "metadata": {},
   "source": [
    "Качество не увеличилось :( Наш бустинг и так берет случайную выборку из всей и усредняет, в какой-то степени, результаты работы базовых алгоритмов."
   ]
  },
  {
   "cell_type": "markdown",
   "metadata": {
    "collapsed": true
   },
   "source": [
    "## Умная инициализация (1 балл)\n",
    "\n",
    "Попробуйте брать в качестве инициализации бустинга не константу, а какой-то алгоритм и уже от его предикта стартовать итерации бустинга. Попробуйте разные модели из sklearn: линейные модели, рандом форест, svm..\n",
    "\n",
    "Получилось ли улучшить качество? Почему?\n",
    "\n"
   ]
  },
  {
   "cell_type": "code",
   "execution_count": 324,
   "metadata": {},
   "outputs": [],
   "source": [
    "from sklearn.linear_model import LinearRegression, LogisticRegression\n",
    "from sklearn.svm import SVC\n",
    "from sklearn.pipeline import make_pipeline\n",
    "from sklearn.preprocessing import StandardScaler"
   ]
  },
  {
   "cell_type": "code",
   "execution_count": 330,
   "metadata": {},
   "outputs": [
    {
     "name": "stdout",
     "output_type": "stream",
     "text": [
      "0.893047480620155\n"
     ]
    }
   ],
   "source": [
    "params = { 'loss': 'mse', 'n_estimators': 100, 'learning_rate': 0.1, 'max_depth': 5, 'colsample': 0.75, 'subsample': 0.5 }\n",
    "clf = MyGradientBoostingClassifier(**params)\n",
    "clf.fit(X_train, y_train, init_model=make_pipeline(StandardScaler(),LinearRegression()))\n",
    "y_pred = clf.predict(X_val)\n",
    "print(accuracy_score(y_pred=y_pred, y_true=y_val))"
   ]
  },
  {
   "cell_type": "code",
   "execution_count": 331,
   "metadata": {},
   "outputs": [
    {
     "name": "stdout",
     "output_type": "stream",
     "text": [
      "0.8582848837209303\n"
     ]
    }
   ],
   "source": [
    "params = { 'loss': 'mse', 'n_estimators': 100, 'learning_rate': 0.1, 'max_depth': 5, 'colsample': 0.75, 'subsample': 0.5 }\n",
    "clf = MyGradientBoostingClassifier(**params)\n",
    "clf.fit(X_train, y_train, init_model=make_pipeline(StandardScaler(), LogisticRegression()))\n",
    "y_pred = clf.predict(X_val)\n",
    "print(accuracy_score(y_pred=y_pred, y_true=y_val))"
   ]
  },
  {
   "cell_type": "code",
   "execution_count": 333,
   "metadata": {},
   "outputs": [
    {
     "name": "stdout",
     "output_type": "stream",
     "text": [
      "0.8338178294573644\n"
     ]
    }
   ],
   "source": [
    "params = { 'loss': 'mse', 'n_estimators': 100, 'learning_rate': 0.1, 'max_depth': 5, 'colsample': 0.75, 'subsample': 0.5 }\n",
    "clf = MyGradientBoostingClassifier(**params)\n",
    "clf.fit(X_train, y_train, init_model=DecisionTreeRegressor())\n",
    "y_pred = clf.predict(X_val)\n",
    "print(accuracy_score(y_pred=y_pred, y_true=y_val))"
   ]
  },
  {
   "cell_type": "code",
   "execution_count": 336,
   "metadata": {},
   "outputs": [
    {
     "name": "stdout",
     "output_type": "stream",
     "text": [
      "0.8785125968992248\n"
     ]
    }
   ],
   "source": [
    "params = { 'loss': 'mse', 'n_estimators': 100, 'learning_rate': 0.1, 'max_depth': 5, 'colsample': 0.75, 'subsample': 0.5 }\n",
    "clf = MyGradientBoostingClassifier(**params)\n",
    "clf.fit(X_train, y_train, init_model=RandomForestRegressor())\n",
    "y_pred = clf.predict(X_val)\n",
    "print(accuracy_score(y_pred=y_pred, y_true=y_val))"
   ]
  },
  {
   "cell_type": "code",
   "execution_count": 339,
   "metadata": {},
   "outputs": [
    {
     "name": "stdout",
     "output_type": "stream",
     "text": [
      "0.8565891472868217\n"
     ]
    }
   ],
   "source": [
    "params = { 'loss': 'logexp', 'n_estimators': 100, 'learning_rate': 0.1, 'max_depth': 5, 'colsample': 0.75, 'subsample': 0.5 }\n",
    "clf = MyGradientBoostingClassifier(**params)\n",
    "clf.fit(X_train, y1_train, init_model=make_pipeline(StandardScaler(), SVC()))\n",
    "y_pred = clf.predict(X_val)\n",
    "print(accuracy_score(y_pred=y_pred, y_true=y1_val))"
   ]
  },
  {
   "cell_type": "code",
   "execution_count": 340,
   "metadata": {},
   "outputs": [
    {
     "name": "stdout",
     "output_type": "stream",
     "text": [
      "0.8621608527131783\n"
     ]
    }
   ],
   "source": [
    "params = { 'loss': 'exp', 'n_estimators': 100, 'learning_rate': 0.1, 'max_depth': 5, 'colsample': 0.75, 'subsample': 0.5 }\n",
    "clf = MyGradientBoostingClassifier(**params)\n",
    "clf.fit(X_train, y1_train, init_model=make_pipeline(StandardScaler(), SVC()))\n",
    "y_pred = clf.predict(X_val)\n",
    "print(accuracy_score(y_pred=y_pred, y_true=y1_val))"
   ]
  },
  {
   "cell_type": "code",
   "execution_count": 341,
   "metadata": {},
   "outputs": [
    {
     "name": "stdout",
     "output_type": "stream",
     "text": [
      "0.8585271317829457\n"
     ]
    }
   ],
   "source": [
    "params = { 'loss': 'mse', 'n_estimators': 100, 'learning_rate': 0.1, 'max_depth': 5, 'colsample': 0.75, 'subsample': 0.5 }\n",
    "clf = MyGradientBoostingClassifier(**params)\n",
    "clf.fit(X_train, y_train, init_model=make_pipeline(StandardScaler(), SVC()))\n",
    "y_pred = clf.predict(X_val)\n",
    "print(accuracy_score(y_pred=y_pred, y_true=y_val))"
   ]
  },
  {
   "cell_type": "markdown",
   "metadata": {},
   "source": [
    "Удалось немного увеличить качество!!! При инициализации линейной регрессией и mse."
   ]
  },
  {
   "cell_type": "markdown",
   "metadata": {},
   "source": [
    "## Фидбек (бесценно)"
   ]
  },
  {
   "cell_type": "markdown",
   "metadata": {},
   "source": [
    "* Какие аспекты обучения  ансамблей Вам показались непонятными? Какое место стоит дополнительно объяснить?"
   ]
  },
  {
   "cell_type": "markdown",
   "metadata": {},
   "source": [
    "### Ваш ответ здесь\n",
    "\n",
    "Всё понятно вроде :) Немного запутался в BooBag и BagBoo"
   ]
  },
  {
   "cell_type": "markdown",
   "metadata": {},
   "source": [
    "* Здесь Вы можете оставить отзыв о этой домашней работе или о всем курсе."
   ]
  },
  {
   "cell_type": "markdown",
   "metadata": {},
   "source": [
    "### ВАШ ОТЗЫВ ЗДЕСЬ\n",
    "\n"
   ]
  },
  {
   "cell_type": "markdown",
   "metadata": {
    "collapsed": true
   },
   "source": [
    "Мне понравилась эта домашка, она была интересной, не очень долгой и последовательной.\n",
    "\n",
    "Отзыв о курсе я писал в одном из последних отзывов на занятие :)"
   ]
  },
  {
   "cell_type": "code",
   "execution_count": null,
   "metadata": {},
   "outputs": [],
   "source": []
  }
 ],
 "metadata": {
  "anaconda-cloud": {},
  "kernelspec": {
   "display_name": "Python 3",
   "language": "python",
   "name": "python3"
  },
  "language_info": {
   "codemirror_mode": {
    "name": "ipython",
    "version": 3
   },
   "file_extension": ".py",
   "mimetype": "text/x-python",
   "name": "python",
   "nbconvert_exporter": "python",
   "pygments_lexer": "ipython3",
   "version": "3.8.5"
  }
 },
 "nbformat": 4,
 "nbformat_minor": 2
}
